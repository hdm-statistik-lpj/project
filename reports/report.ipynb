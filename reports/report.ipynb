{
 "cells": [
  {
   "cell_type": "markdown",
   "metadata": {},
   "source": [
    "# Report"
   ]
  },
  {
   "cell_type": "markdown",
   "metadata": {},
   "source": [
    "> REMOVE THE FOLLOWING TEXT\n",
    "\n",
    "This section includes an introduction to the project motivation, data, and research question.\n",
    "Describe the data and definitions of key variables.\n",
    "\n",
    "It should also include some exploratory data analysis.\n",
    "\n",
    "All of the EDA won't fit in the paper, so focus on the EDA for the response variable and a few other interesting variables and relationships."
   ]
  },
  {
   "cell_type": "markdown",
   "metadata": {},
   "source": [
    "## Introduction and data\n",
    "\n",
    "---\n",
    "\n",
    "Group name: Lena Breitberg, Ji Huixiao, Paraskevas Papadopoulos\n",
    "\n",
    "---\n"
   ]
  },
  {
   "cell_type": "markdown",
   "metadata": {},
   "source": [
    "## Einleitung\n",
    "\n",
    "Der Immobilienmarkt als komplexer Wirtschaftszweig steht im Fokus dieses Projekts, das die Determinanten der Wohnungspreise in Nürnberg untersucht. Besonderes Augenmerk liegt auf der staatlichen Förderung energetischer Sanierungen von Wohngebäuden in Deutschland. Das Projekt prüft, ob zum Verkauf stehende Wohnungen in Nürnberg bereits einer energetischen Sanierung unterzogen wurden, was sowohl für Fördergeber als auch andere Marktteilnehmer von Interesse ist.\n",
    "\n",
    "### Motivation\n",
    "\n",
    "Eine Immobilie setzt sich aus verschiedenen Merkmalen zusammen, von denen jedes den Gesamtwert beeinflussen kann. Der Preis der individuellen Merkmale kann jedoch nicht direkt beobachtet werden. In ihrer Arbeit von 1980 vergleichen Malpezzi, Ozanne und Thibodeau Immobilien mit einem Einkaufswagen für Lebensmittel. Jeder Lebensmittelwagen eines Haushalts enthält unterschiedliche Lebensmittel - genauso heterogen wie Immobilien. Im Gegensatz zu Lebensmitteln kann der Preis einzelner Immobilienmerkmale jedoch nicht direkt beobachtet werden. Die Heterogenität auf dem Wohnungsmarkt bezieht sich darauf, dass Wohnungen unterschiedliche Merkmale aufweisen, sei es in Bezug auf Größe, Ausstattung, Lage oder andere Eigenschaften. Da die Präferenzen und Bedürfnisse der Verbraucher variieren, ist es naheliegend anzunehmen, dass diese verschiedenen Merkmale unterschiedlich bewertet werden.\n",
    "\n",
    "Die hedonische Regressionsanalyse wird oft verwendet, um den marginalen Beitrag einzelner Merkmale zum Gesamtwert einer Immobilie zu schätzen. Diese Methode reicht mindestens bis zu Court (1939) und Griliches (1961) zurück, während Lancaster (1966) und Rosen (1974) die konzeptuellen Grundlagen für diesen Ansatz legten. Lancaster's (1966) Ansatz, auf den Immobilienmarkt bezogen, betont, dass nicht die Immobilie selbst, sondern die individuellen Merkmale den Nutzen schaffen. Rosen's (1974) Ansatz wiederum beschreibt, dass der Preis einer Immobilie die Summe der individuellen Preise ihrer Merkmale ist. Das hedonische Modell versucht, die Vielfalt und Unterschiede in den Immobilien zu berücksichtigen, indem es eine analytische Struktur schafft, die es ermöglicht, den Beitrag jedes einzelnen Merkmals zum Gesamtpreis einer Immobilie zu quantifizieren. Es erfolgt lediglich die Bewertung der spezifischen Merkmale der Immobilie, nicht jedoch der Immobilie als Gesamtheit.\n",
    "\n",
    "Aufgrund der Nichtlinearität von Immobilienpreise werden in vielen Studien log-lineare Modelle verwendet (vgl. Malpezzi 2003). Diese Modelle ermöglichen eine Variation im Geldwert eines bestimmten Merkmals, wodurch der Preis dieses Merkmals teilweise von anderen Merkmalen der Immobilien abhängt. Im Handbuch zu Immobilien-Preisindizes des Statistischen Amtes der Europäischen Union u.a. (2013) erwähnen die Autoren, dass log-lineare Modelle relativ besser funktionieren, wenn die Grundstücksgröße nicht als unabhängige Variable einbezogen wird (weil diese möglicherweise nicht vorliegt).\n",
    "\n",
    "Sirmans und Macpherson (2003) fassen aus mehreren Studien die wichtigsten Immobilienmerkmale zusammen, die zur Spezifizierung hedonischer Preisgleichungen verwendet wurden. Dazu gehören das Baujahr der Immobilie, die Quadratmeteranzahl, Garage, Kamin und Grundstücksgröße. Weitere relevanten Merkmale sind Schlafzimmer, Badezimmer, Swimmingpool und Keller. Zudem scheint die Zeit auf dem Markt sehr oft als Merkmal zu fungieren. In den meisten Studien zeigen die Merkmale den erwarteten Effekt auf den Verkaufspreis: Das Alter und die Zeit auf dem Markt haben meistens einen negativen Einfluss, während alle anderen Merkmale oft einen positiven Effekt auf den Verkaufspreis aufweisen.\n",
    "\n",
    "Theoretisch können unendlich viele Merkmale einer Immobilie als unabhängige Variablen fungieren. Laut Malpezzi (2003, S. 7) sollte ein vollständiger Datensatz mindestens möglichst folgende Immobilienmerkmale enthalten:\n",
    "\n",
    "- Zimmer, insgesamt und nach Typ (Schlafzimmer, Badezimmer, etc.)\n",
    "- Wohnfläche\n",
    "- Immobilientyp (Wohnung, Haus, etc.)\n",
    "- Heizungsart\n",
    "- Baujahr\n",
    "- Andere strukturelle Merkmale (Keller, Kamin, Garage, etc.)\n",
    "- Baumaterialien\n",
    "- Nachbarschaftsvariablen (Schulqualität, etc.)\n",
    "- Zugang zu Annehmlichkeiten (Einkaufszentren, Schulen, etc.)\n",
    "- Merkmale des Mieters (Dauer, etc.)\n",
    "\n",
    "Es ist erkennbar, dass einige dieser unabhängigen Variablen eine hohe Korrealtion aufweisen können. Zum Beispiel könnte eine Nachbarschaftsvariable im Modell als hoch signifikant erscheinen, aber in Wirklichkeit spiegelt die statistische Signifikanz möglicherweise die Nähe zu einer bestimmten Annehmlichkeit wider. Aufgrund dessen kann die Interpretation der individuellen Koeffizienten schwieriger sein (Sirmans und Macpherson, 2003). Im Handbuch zu Immobilien-Preisindizes des Statistischen Amtes der Europäischen Union u.a. (2013) raten die Autorern eine relevante Variable einzubeziehen, selbst wenn dies zu Multikollinearität führen kann, als sie auszulassen, da letzteres zu einem Bias durch weggelassene Variablen führen würde. Die Autoren führen weiter auf, dass die Entscheidung oft von den spezifischen Anforderung der Analyse abhängt.\n",
    "\n",
    "Um die zweite Forschungsfrage zu beantworten, greift unseres Projekt auf einen innovativen Ansatz zurück, indem es erstmalig versucht, mithilfe einer Klassifikationsregression die Energieeffizienzklasse von Wohnungen in Nürnberg vorherzusagen. Die Auswahl der unabhängigen Variablen, insbesondere Baujahr und Heizungsart, reflektiert die Relevanz dieser Faktoren für die energetische Bewertung. Zusätzlich werden im Modell weitere Variablen als Kontrollvariablen berücksichtigt. Die Hypothesen dieser Untersuchung zielen darauf ab, statistische Signifikanz in den einzelnen Variablen nachzuweisen. Fehlende Signifikanz der Variablen Baujahr und Heizungsart könnte darauf hinweisen, dass die durchgeführten Förderprogramme ihren Zweck erfüllt und eine positive Veränderung in der Energieeffizienzklasse bewirkt haben (unter der Annahme, dass je älter ein Gebäude ist und keine Sanierung erfolgte, desto niedriger die Energieeffizienzklasse ist).\n",
    "\n",
    "### Allgemeine Forschungsfrage\n",
    "\n",
    "Wie beeinflussen verschiedene Merkmale wie Wohnungsgröße, Anzahl der Schlafzimmer und Badezimmer, Stadtviertel, Nähe zu lokalen Annehmlichkeiten, Alter der Wohnung, energetische Effizienz und Nähe zum Nahverkehr in ihrer Gesamtheit den Preis von Wohnungen auf dem Immobilienmarkt?\n",
    "\n",
    "Inwiefern kann die Energieeffizienzklasse von Wohnungen in Nürnberg anhand ausgewählter Variablen wie Baujahr und Heizungsart prognostiziert werden?\n",
    "\n",
    "### Hypothesen\n",
    "\n",
    "H1: Die Wohnungsgröße einer Wohnung übt einen positiven linearen Einfluss auf den Preis aus, wobei größere Wohnungen höhere Preise auf dem Immobilienmarkt erzielen.\n",
    "\n",
    "H2: Die Anzahl der Schlafzimmer einer Wohnung hat einen positiven, linearen Zusammenhang mit dem Preis, wobei Wohnungen mit mehr Schlafzimmern zu höheren Preisen angeboten werden.\n",
    "\n",
    "H3: Die Anzahl der Badezimmer einer Wohnung hat einen positiven, linearen Effekt auf den Preis, sodass Wohnungen mit einer höheren Anzahl von Badezimmern zu höheren Preisen verfügbar sind.\n",
    "\n",
    "H4: Das Stadtviertel, in dem sich die Wohnung befindet, hat einen signifikanten, möglicherweise nicht-linearen Einfluss auf den Preis, wobei bestimmte Stadtviertel höhere Preise aufweisen können als andere.\n",
    "\n",
    "H5: Die Nähe zu lokalen Annehmlichkeiten des täglichen Bedarfs hat einen positiven linearen Effekt auf den Preis, da eine bessere Erreichbarkeit dieser Einrichtungen den Wert der Wohnung steigert.\n",
    "\n",
    "H6: Das Alter einer Wohnung hat einen negativen linearen Einfluss auf den Preis, wobei neuere Wohnungen tendenziell höhere Preise erzielen.\n",
    "\n",
    "H7: Eine verbesserte energetische Effizienz einer Wohnung hat einen positiven, möglicherweise nicht-linearen Effekt auf den Preis, da energieeffiziente Wohnungen als qualitativ hochwertiger angesehen werden könnten.\n",
    "\n",
    "H8: Die Nähe zum Nahverkehr hat einen positiven linearen Einfluss auf den Preis, wobei Wohnungen in der Nähe von Nahverkehrsinfrastruktur zu höheren Preisen angeboten werden.\n",
    "\n",
    "H9: Unter der Annahme, dass ältere Gebäude tendenziell über weniger effiziente Energieinfrastrukturen verfügen, wird die Hypothese aufgestellt, dass das Baujahr eines Gebäudes einen statistisch signifikanten Einfluss auf die vorhergesagte Energieeffizienzklasse hat. Es wird erwartet, dass neuere Baujahre mit höheren Energieeffizienzklassen assoziiert sind.\n",
    "\n",
    "H10: In Anbetracht der Vielfalt von Heizungstechnologien und ihrer unterschiedlichen Effizienzgrade wird die Hypothese formuliert, dass die Art der Heizung einen statistisch signifikanten Einfluss auf die vorhergesagte Energieeffizienzklasse hat. Es wird erwartet, dass bestimmte Heizungsarten mit einer höheren Energieeffizienzklasse korrelieren, während andere mit einer niedrigeren Klasse in Verbindung gebracht werden könnten."
   ]
  },
  {
   "cell_type": "markdown",
   "metadata": {},
   "source": [
    "## Datenbeschreibung\n",
    "\n",
    "Der Datensatz umfasst Informationen zu Wohnungen, die am 09.11.2023 auf der [Immowelt-Website](https://www.immowelt.de) zum Kauf in Nürnberg verfügbar waren. Jede Beobachtung repräsentiert ein bestimmtes Immobilienangebot und enthält Details wie Baujahr, Preis, Standort und zusätzliche relevante Merkmale. \n",
    "\n",
    "Die Daten wurden durch das Scrapen der Immowelt-Website am 09.11.2023 gesammelt. Der Prozess umfasste die Anwendung von Web-Scraping-Techniken, um Informationen aus den Immobilienangeboten der Website zu extrahieren und dabei spezifische Suchkriterien zu berücksichtigen (Ort=Nürnberg, Immobilientyp=Wohnung, Transaktionstyp=Kauf). Jede Beobachtung im Datensatz entspricht einem eindeutigen Immobilienangebot, das auf Immowelt verfügbar war.\n",
    "\n",
    "Der ursprüngliche Kurator der Daten ist in diesem Fall Immowelt, das als umfassende Plattform für Immobilienangebote fungiert. Immowelt sammelt und präsentiert Immobilieninformationen, die von Immobilienverkäufern, Immobilienmaklern und anderen Beteiligten eingereicht werden. "
   ]
  },
  {
   "cell_type": "markdown",
   "metadata": {},
   "source": [
    "### Variablenverzeichnis"
   ]
  },
  {
   "cell_type": "markdown",
   "metadata": {},
   "source": [
    "| Variable             | Beschreibung                                 | Role       | Type    | Format   |\n",
    "|----------------------|----------------------------------------------|------------|---------|----------|\n",
    "| constructionYear     | Baujahr des Objekts                          | Response   | Numeric | int      |\n",
    "| livingSpace          | Wohnfläche in Quadratmetern                  | Response   | Numeric | float    |\n",
    "| photosCount          | Anzahl der Fotos in der Anzeige              | Response   | Numeric | int      |\n",
    "| localAmenitiesScore  | Bewertung der örtlichen Annehmlichkeiten     | Response   | Numeric | float    |\n",
    "| localMobilityScore   | Bewertung der örtlichen Mobilität            | Response   | Numeric | float    |\n",
    "| latitudeDistrict     | Breitengrad des Stadtteils                   | Response   | Numeric | float    |\n",
    "| longitudeDistrict    | Längengrad des Stadtteils                    | Response   | Numeric | float    |\n",
    "| distanceToCenter​    | Distanz zum Zentrum                          | Response   | Numeric | float    |\n",
    "| district             | Stadtteil des Objekts                        | Response   | Nominal | category |\n",
    "| location             | Lage im Verhältnis zum Stadtzentrum| Response   | Nominal | category |\n",
    "| price                | Preis des Objekts                            | Predictor  | Numeric | float    |\n",
    "| rooms                | Anzahl der Zimmer im Objekt                  | Response   | Numeric | int      |\n",
    "| energyClass          | Energieeffizienzklasse des Objekts           | Response   | Ordinal | category |\n",
    "| energySources        | Energieträger des Objekts                    | Response   | Nominal | category |\n",
    "| energyEfficiency     | Energieeffizienzklasse (binär)               | Predictor  | Ordinal | category |\n",
    "| elevator             | Vorhandensein eines Aufzugs im Gebäude       | Response   | Nominal | category |\n",
    "| sauna                | Vorhandensein einer Sauna im Gebäude         | Response   | Nominal | category |\n",
    "| swimmingpool         | Vorhandensein eines Swimmingpools im Gebäude | Response   | Nominal | category |\n",
    "| kitchenEqipped       | Vorhandensein einer ausgestatteten Küche     | Response   | Nominal | category |\n",
    "| cellar               | Vorhandensein eines Kellers im Gebäude       | Response   | Nominal | category |\n",
    "| storageRoom          | Vorhandensein eines Abstellraums im Gebäude  | Response   | Nominal | category |\n",
    "| wheelchairAccessible | Barrierefreiheit des Gebäudes                | Response   | Nominal | category |\n",
    "| assistedLiving       | Betreutes Wohnen im Gebäude                  | Response   | Nominal | category |\n",
    "| parkingSlots         | Vorhandensein eines Parkplätze               | Response   | Nominal | category |\n",
    "| guestToilet          | Vorhandensein eines Gäste-WCs im Gebäude     | Response   | Nominal | category |\n",
    "| privateOutdoorSpace  | Vorhandensein eines privaten Außenbereichs   | Response   | Nominal | category |\n",
    "| chimney              | Vorhandensein eines Kamins                   | Response   | Nominal | category |\n",
    "| attics               | Wohnung befindet sich im Dachgeschoss        | Response   | Nominal | category |"
   ]
  },
  {
   "cell_type": "markdown",
   "metadata": {},
   "source": [
    "## Methodology"
   ]
  },
  {
   "cell_type": "markdown",
   "metadata": {},
   "source": [
    "> REMOVE THE FOLLOWING TEXT\n",
    "\n",
    "This section includes a brief description of your modeling process.\n",
    "\n",
    "Explain the reasoning for the type of model you're fitting, predictor variables considered for the model.\n",
    "\n",
    "Additionally, show how you arrived at the final model by describing the model selection process, variable transformations (if needed), assessment of conditions and diagnostics, and any other relevant considerations that were part of the model fitting process."
   ]
  },
  {
   "cell_type": "markdown",
   "metadata": {},
   "source": [
    "## Results"
   ]
  },
  {
   "cell_type": "markdown",
   "metadata": {},
   "source": [
    "> REMOVE THE FOLLOWING TEXT\n",
    "\n",
    "This is where you will output the final model with any relevant model fit statistics.\n",
    "\n",
    "Describe the key results from the model.\n",
    "The goal is not to interpret every single variable in the model but rather to show that you are proficient in using the model output to address the research questions, using the interpretations to support your conclusions.\n",
    "\n",
    "Focus on the variables that help you answer the research question and that provide relevant context for the reader.\n"
   ]
  },
  {
   "cell_type": "code",
   "execution_count": null,
   "metadata": {},
   "outputs": [],
   "source": []
  },
  {
   "cell_type": "markdown",
   "metadata": {},
   "source": [
    "## Discussion + Conclusion\n"
   ]
  },
  {
   "cell_type": "markdown",
   "metadata": {},
   "source": [
    "> REMOVE THE FOLLOWING TEXT\n",
    "\n",
    "In this section you'll include a summary of what you have learned about your research question along with statistical arguments supporting your conclusions.\n",
    "In addition, discuss the limitations of your analysis and provide suggestions on ways the analysis could be improved.\n",
    "Any potential issues pertaining to the reliability and validity of your data and appropriateness of the statistical analysis should also be discussed here.\n",
    "Lastly, this section will include ideas for future work."
   ]
  },
  {
   "cell_type": "markdown",
   "metadata": {},
   "source": []
  }
 ],
 "metadata": {
  "kernelspec": {
   "display_name": "Python 3 (ipykernel)",
   "language": "python",
   "name": "python3"
  },
  "language_info": {
   "codemirror_mode": {
    "name": "ipython",
    "version": 3
   },
   "file_extension": ".py",
   "mimetype": "text/x-python",
   "name": "python",
   "nbconvert_exporter": "python",
   "pygments_lexer": "ipython3",
   "version": "3.10.12"
  },
  "vscode": {
   "interpreter": {
    "hash": "31f2aee4e71d21fbe5cf8b01ff0e069b9275f58929596ceb00d14d90e3e16cd6"
   }
  }
 },
 "nbformat": 4,
 "nbformat_minor": 2
}
