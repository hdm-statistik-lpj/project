{
 "cells": [
  {
   "cell_type": "markdown",
   "metadata": {},
   "source": [
    "# Report \n",
    "\n",
    "---\n",
    "\n",
    "Group name: Lena Breitberg, Ji Huixiao, Paraskevas Papadopoulos\n",
    "\n",
    "---\n"
   ]
  },
  {
   "cell_type": "markdown",
   "metadata": {},
   "source": [
    "## Einführung und Daten\n",
    "\n",
    "In dieser Studie analysieren wir Wohnimmobilien in Nürnberg, um mittels hedonischer Regressionsanalyse und logistischer Regression den Einfluss verschiedener Immobilienmerkmale auf den Verkaufspreis und die Energieeffizienzklasse zu untersuchen. Dabei liegt unser Fokus sowohl auf der Quantifizierung des Beitrags einzelner Merkmale, wie Baujahr, Wohnfläche und Energieeffizienzklasse, zum Gesamtwert der Immobilie als auch auf der innovativen Anwendung statistischer Methoden zur Klassifikation der Energieeffizienz, was neue Einblicke in die Bedeutung energetischer Sanierungen für ältere Gebäude bietet.\n",
    "\n",
    "### Motivation\n",
    "\n",
    "Eine Immobilie setzt sich aus verschiedenen Merkmalen zusammen, von denen jedes den Gesamtwert beeinflussen kann. Der Preis der individuellen Merkmale kann jedoch nicht direkt beobachtet werden. In ihrer Arbeit von 1980 vergleichen Malpezzi, Ozanne und Thibodeau Immobilien mit einem Einkaufswagen für Lebensmittel. Jeder Lebensmittelwagen eines Haushalts enthält unterschiedliche Lebensmittel - genauso heterogen wie Immobilien. Im Gegensatz zu Lebensmitteln kann der Preis einzelner Immobilienmerkmale jedoch nicht direkt beobachtet werden. Die Heterogenität auf dem Wohnungsmarkt bezieht sich darauf, dass Wohnungen unterschiedliche Merkmale aufweisen, sei es in Bezug auf Größe, Ausstattung, Lage oder andere Eigenschaften. Da die Präferenzen und Bedürfnisse der Verbraucher variieren, ist es naheliegend anzunehmen, dass diese verschiedenen Merkmale unterschiedlich bewertet werden.\n",
    "\n",
    "Die hedonische Regressionsanalyse wird oft verwendet, um den marginalen Beitrag einzelner Merkmale zum Gesamtwert einer Immobilie zu schätzen. Diese Methode reicht mindestens bis zu Court (1939) und Griliches (1961) zurück, während Lancaster (1966) und Rosen (1974) die konzeptuellen Grundlagen für diesen Ansatz legten. Lancaster's (1966) Ansatz, auf den Immobilienmarkt bezogen, betont, dass nicht die Immobilie selbst, sondern die individuellen Merkmale den Nutzen schaffen. Rosen's (1974) Ansatz wiederum beschreibt, dass der Preis einer Immobilie die Summe der individuellen Preise ihrer Merkmale ist. Das hedonische Modell versucht, die Vielfalt und Unterschiede in den Immobilien zu berücksichtigen, indem es eine analytische Struktur schafft, die es ermöglicht, den Beitrag jedes einzelnen Merkmals zum Gesamtpreis einer Immobilie zu quantifizieren. Es erfolgt lediglich die Bewertung der spezifischen Merkmale der Immobilie, nicht jedoch der Immobilie als Gesamtheit.\n",
    "\n",
    "Aufgrund der Nichtlinearität von Immobilienpreise werden in vielen Studien log-lineare Modelle verwendet (vgl. Malpezzi 2003). Diese Modelle ermöglichen eine Variation im Geldwert eines bestimmten Merkmals, wodurch der Preis dieses Merkmals teilweise von anderen Merkmalen der Immobilien abhängt. Im Handbuch zu Immobilien-Preisindizes des Statistischen Amtes der Europäischen Union u.a. (2013) erwähnen die Autoren, dass log-lineare Modelle relativ besser funktionieren, wenn die Grundstücksgröße nicht als unabhängige Variable einbezogen wird (weil diese möglicherweise nicht vorliegt).\n",
    "\n",
    "Sirmans und Macpherson (2003) fassen aus mehreren Studien die wichtigsten Immobilienmerkmale zusammen, die zur Spezifizierung hedonischer Preisgleichungen verwendet wurden. Dazu gehören das Baujahr der Immobilie, die Quadratmeteranzahl, Garage, Kamin und Grundstücksgröße. Weitere relevanten Merkmale sind Schlafzimmer, Badezimmer, Swimmingpool und Keller. Zudem scheint die Zeit auf dem Markt sehr oft als Merkmal zu fungieren. In den meisten Studien zeigen die Merkmale den erwarteten Effekt auf den Verkaufspreis: Das Alter und die Zeit auf dem Markt haben meistens einen negativen Einfluss, während alle anderen Merkmale oft einen positiven Effekt auf den Verkaufspreis aufweisen.\n",
    "\n",
    "Theoretisch können unendlich viele Merkmale einer Immobilie als unabhängige Variablen fungieren. Laut Malpezzi (2003, S. 7) sollte ein vollständiger Datensatz mindestens möglichst folgende Immobilienmerkmale enthalten:\n",
    "\n",
    "- Zimmer, insgesamt und nach Typ (Schlafzimmer, Badezimmer, etc.)\n",
    "- Wohnfläche\n",
    "- Immobilientyp (Wohnung, Haus, etc.)\n",
    "- Heizungsart\n",
    "- Baujahr\n",
    "- Andere strukturelle Merkmale (Keller, Kamin, Garage, etc.)\n",
    "- Baumaterialien\n",
    "- Nachbarschaftsvariablen (Schulqualität, etc.)\n",
    "- Zugang zu Annehmlichkeiten (Einkaufszentren, Schulen, etc.)\n",
    "- Merkmale des Mieters (Dauer, etc.)\n",
    "\n",
    "Es ist erkennbar, dass einige dieser unabhängigen Variablen eine hohe Korrelation aufweisen können. Zum Beispiel könnte eine Nachbarschaftsvariable im Modell als hoch signifikant erscheinen, aber in Wirklichkeit spiegelt die statistische Signifikanz möglicherweise die Nähe zu einer bestimmten Annehmlichkeit wider. Aufgrund dessen kann die Interpretation der individuellen Koeffizienten schwieriger sein (Sirmans und Macpherson, 2003). Im Handbuch zu Immobilien-Preisindizes des Statistischen Amtes der Europäischen Union u.a. (2013) raten die Autoren eine relevante Variable einzubeziehen, selbst wenn dies zu Multikollinearität führen kann, als sie auszulassen, da letzteres zu einem Bias durch weggelassene Variablen führen würde. Die Autoren führen weiter auf, dass die Entscheidung oft von den spezifischen Anforderungen der Analyse abhängt.\n",
    "\n",
    "Um die zweite Forschungsfrage zu beantworten, greift unser Projekt auf einen methodisch innovativen Ansatz zurück, indem es die Klassifikation der Energieeffizienzklassen (energieeffizient und nicht-energieeffizient) von Wohnungen in Nürnberg mittels logistischer Regression untersucht. Die Auswahl der unabhängigen Variablen, insbesondere Baujahr und Energiequelle, reflektiert die Relevanz dieser Faktoren für die energetische Bewertung. Die Hypothesen dieser Untersuchung zielen darauf ab, statistische Signifikanz in den einzelnen Variablen nachzuweisen. Fehlende Signifikanz der Variablen Baujahr und Energiequelle könnte darauf hinweisen, dass ältere Gebäude energieeffizient saniert worden sind (unter der Annahme, dass je älter ein Gebäude ist und keine Sanierung erfolgte, desto niedriger die Energieeffizienzklasse ist).\n",
    "\n",
    "### Allgemeine Forschungsfrage\n",
    "\n",
    "Wie beeinflussen verschiedene Merkmale wie Wohnungsgröße, Anzahl der Zimmer, geographischer Standort, Nähe zu lokalen Annehmlichkeiten, Alter der Wohnung, energetische Effizienz und Nähe zum Nahverkehr in ihrer Gesamtheit den Preis von Wohnungen auf dem Immobilienmarkt?\n",
    "\n",
    "Inwiefern kann die Energieeffizienzklasse von Wohnungen in Nürnberg anhand ausgewählter Variablen wie Baujahr und Energiequelle prognostiziert werden?\n",
    "\n",
    "### Hypothesen\n",
    "\n",
    "- H1: Die Wohnungsgröße einer Wohnung übt einen positiven linearen Einfluss auf den Preis aus, wobei größere Wohnungen höhere Preise auf dem Immobilienmarkt erzielen.\n",
    "- H2: Die Anzahl der Zimmer einer Wohnung hat einen positiven, linearen Zusammenhang mit dem Preis, wobei Wohnungen mit mehr Zimmern zu höheren Preisen angeboten werden.\n",
    "- H3: Das Alter einer Wohnung hat einen negativen linearen Einfluss auf den Preis, wobei neuere Wohnungen tendenziell höhere Preise erzielen.\n",
    "- H4: Das Vorhandensein spezifischer Ausstattungsmerkmale wie Keller haben einen positiven Effekt auf den Preis.\n",
    "- H5: Eine verbesserte energetische Effizienz einer Wohnung hat einen positiven, möglicherweise nicht-linearen Effekt auf den Preis, da energieeffiziente Wohnungen als qualitativ hochwertiger angesehen werden könnten.\n",
    "- H6: Die geographischen Koordinaten, in dem sich die Wohnung befindet, hat einen signifikanten Einfluss auf den Preis, wobei bestimmte geographische Gebiete höhere Preise aufweisen können als andere.\n",
    "- H7: Die Nähe zu lokalen Annehmlichkeiten des täglichen Bedarfs hat einen positiven linearen Effekt auf den Preis, da eine bessere Erreichbarkeit dieser Einrichtungen den Wert der Wohnung steigert.\n",
    "- H8: Die Nähe zum Nahverkehr hat einen positiven linearen Einfluss auf den Preis, wobei Wohnungen in der Nähe von Nahverkehrsinfrastruktur zu höheren Preisen angeboten werden. \n",
    "- H9: Unter der Annahme, dass ältere Gebäude tendenziell über weniger effiziente Energieinfrastrukturen verfügen, wird die Hypothese aufgestellt, dass das Baujahr eines Gebäudes einen statistisch signifikanten Einfluss auf die vorhergesagte Energieeffizienzklasse hat. Es wird erwartet, dass neuere Baujahre mit höheren Energieeffizienzklassen assoziiert sind.\n",
    "- H10: In Anbetracht der Vielfalt der Energiequellen und ihrer unterschiedlichen Effizienzgrade wird die Hypothese formuliert, dass die Art der Energiequelle einen statistisch signifikanten Einfluss auf die vorhergesagte Energieeffizienzklasse hat. Es wird erwartet, dass bestimmte Energiequellen mit einer höheren Energieeffizienzklasse korrelieren, während andere mit einer niedrigeren Klasse in Verbindung gebracht werden könnten."
   ]
  },
  {
   "cell_type": "markdown",
   "metadata": {},
   "source": [
    "### Datenbeschreibung\n",
    "\n",
    "Der analysierte Datensatz besteht aus 961 Beobachtungen von Wohnungen, die am 9. November 2023 auf der Immobilienplattform [Immowelt-Website](https://www.immowelt.de) zum Verkauf in Nürnberg angeboten wurden. Immowelt sammelt und präsentiert Immobilieninformationen, die von Immobilienverkäufern, Immobilienmaklern und anderen Beteiligten eingereicht werden. Dieser Datensatz enthält Details zu den Eigenschaften der Wohnungen und den geforderten Verkaufspreisen. Zu den erfassten Eigenschaften zählen die Wohnfläche in Quadratmetern, die Anzahl der Zimmer, das Baujahr, der Energieverbrauch, die Energieeffizienzklasse, der Energieträger, die Lage einschließlich geografischer Koordinaten, die Entfernung zum Stadtzentrum sowie Ausstattungsmerkmale wie Abstellraum, Keller, ausgestattete Küche, Swimmingpool, Sauna, Kamin, privater Außenbereich, Parkmöglichkeiten und weitere Merkmale wie Dachgeschosswohnung, barrierefreier Zugang und betreutes Wohnen (siehe Appendix A für eine ausführliche Beschreibung der Variablen, Appendix B für Energieeffizienzklassen und -träger).\n",
    "\n",
    "Die Daten wurden durch das Scrapen der Immowelt-Website am 09.11.2023 gesammelt. Der Prozess umfasste die Anwendung von Web-Scraping-Techniken, um Informationen aus den Immobilienangeboten der Website zu extrahieren und dabei spezifische Suchkriterien zu berücksichtigen (Ort=Nürnberg, Immobilientyp=Wohnung, Transaktionstyp=Kauf). Jede Beobachtung im Datensatz entspricht einem eindeutigen Immobilienangebot, das auf Immowelt verfügbar war.\n",
    "\n",
    "Der ursprüngliche Kurator der Daten ist in diesem Fall Immowelt, das als umfassende Plattform für Immobilienangebote fungiert. Immowelt sammelt und präsentiert Immobilieninformationen, die von Immobilienverkäufern, Immobilienmaklern und anderen Beteiligten eingereicht werden. \n",
    "\n",
    "### Bereinigung und Homogenisierung des Datensatzes\n",
    "Aus den ursprünglich 961 Beobachtungen wurden 348 aufgrund fehlender oder inkonsistenter Daten entfernt. Ausgeschlossen wurden Wohnungen in Zwangsversteigerung, als Haus deklarierte Objekte oder solche mit unlogischen Preisangaben in Bezug auf ihre Merkmale.\n",
    "\n",
    "#### Umgang mit fehlenden Werten\n",
    "Fehlende Werte wurden sorgfältig behandelt, um die Datenintegrität zu wahren:\n",
    "- Fehlende Werte in der Energieeffizienzklasse wurden gemäß festgelegter Schwellenwerte auf Basis des Energieverbrauchs imputiert (siehe Appendix B.1.). Nicht imputierbare Werte wurden entfernt, da kein systematischer Zusammenhang mit dem Baujahr der Immobilien festgestellt wurde.\n",
    "- Fehlende Angaben über Energieträger, vor allem bei Neubauten, führten zum Ausschluss dieser Objekte, um die Modellgenauigkeit zu gewährleisten (Appendix B.2. gibt einen Überblick über alle Energieträger).\n",
    "- Fehlende Werte über Bewertungen zu örtlichen Annehmlichkeiten und Mobilität wurden durch die Durchschnittswerte von Wohnungen im selben Stadtteil ersetzt.\n",
    "\n",
    "#### Annahmen und Kategorisierungen\n",
    "- Es wurde angenommen, dass das Fehlen von Angaben zu bestimmten Ausstattungsmerkmalen das Nichtvorhandensein dieser Merkmale impliziert, da dies im Kontext eines Verkaufs als vorteilhaft angesehen wird und daher veröffentlicht werden würde. Diese Annahme wurde ausschließlich auf Dummy-Variablen (Ausstattungsmerkmalen) und die Anzahl der Fotos angewandt.\n",
    "- Für die logistische Regression wurde eine binäre abhängige Variable definiert, die Wohnungen als \"Energieeffizient\" oder \"Nicht-Energieeffizient\" kategorisiert (siehe Appendix C.1.).\n",
    "- Um Overfitting zu vermeiden, wurden die Stadtteile Nürnbergs in der Analyse nicht einzeln betrachtet. Stattdessen wurde die 'location'-Variable erstellt und verwendet, um die Wohnungen geographisch auf Basis der Lage im Verhältnis zum Stadtzentrum zu klassifizieren (siehe Appendix C.2.).\n",
    "\n",
    "### Explorative Datenanalyse\n",
    "Die Zusammenfassung der Explorativen Datenanalyse konzentrierte sich auf die Analyse der Verteilungscharakteristika und die Beziehungen zentraler Variablen zum Immobilienpreis und zur Energieeffizienzklasse:\n",
    "\n",
    "- Die Analyse zeigt eine rechtsschiefe Preisverteilung, charakterisiert durch eine Häufung niedrigerer Preise und seltener hoher Preise. Eine logarithmische Transformation des Preises resultiert in einer symmetrischeren und annähernd normalverteilten Form, wodurch der Einfluss von Extremwerten verringert wird (siehe Appendix D.).\n",
    "\n",
    "- Ähnlich dem Preis weist die Verteilung der Wohnfläche eine Rechtsschiefe auf. Die logarithmische Transformation führt zu einer weniger schiefen und mehr einer Normalverteilung angenäherten Form (siehe Appendix D.).\n",
    "\n",
    "- Die Verteilung des Baujahres zeigt ein trimodales Muster, welches möglicherweise historische Bauwellen widerspiegelt. Der jüngste Anstieg könnte mit den derzeit hohen Zinsen für Baukredite zusammenhängen. Sowohl neuere als auch ältere Immobilien können hohe Preise erzielen, was auf vielfältige Faktoren hindeutet, die den Preis beeinflussen. Neuere Immobilien weisen tendenziell höhere Energieeffizienzklassen auf.\n",
    "\n",
    "- Höhere Energieeffizienzklassen korrelieren mit höheren Medianpreisen, was auf gesteigerte Baukosten oder eine erhöhte Nachfrage nach energieeffizienten Immobilien hindeuten könnte.\n",
    "\n",
    "- Die Verteilung der Energieeffizienzklassen variiert je nach genutzten Energieträgern, was auf spezifische Assoziationen zwischen bestimmten Energieträgern und Energieeffizienzklassen hinweist.\n",
    "\n",
    "- Immobilien mit Merkmalen wie Aufzug, Abstellraum, Keller, Kamin und Barrierefreiheit, die häufig in energieeffizienten Immobilien zu finden sind, zeigen eine Tendenz zu höheren Preisen.\n",
    "\n",
    "- Eine signifikante positive Korrelation zwischen Wohnfläche und Preis wurde festgestellt, wobei der Preisanstieg bei zunehmender Fläche leicht abflacht. Eine ähnliche konvexe Beziehung zeigt sich zwischen der Zimmeranzahl und dem Preis.\n",
    "\n",
    "- Die stark positive Korrelation zwischen Wohnfläche und Zimmeranzahl bestätigt, dass größere Wohnungen in der Regel mehr Zimmer aufweisen (siehe Appendix E.). Um Multikollinearität in der Regressionsanalyse zu vermeiden, wurden zwei Ansätze diskutiert: Entweder eine der Variablen entfernen oder eine neue Variable kreieren, die die durchschnittliche Raumgröße pro Zimmer abbildet. Der erste Ansatz wurde gewählt.\n"
   ]
  },
  {
   "cell_type": "markdown",
   "metadata": {},
   "source": [
    "## Methodik"
   ]
  },
  {
   "cell_type": "markdown",
   "metadata": {},
   "source": [
    "## Modellselektion - Lineare Regression\n",
    "Die lineare Regression wurde für die Analyse des Einflusses verschiedener Variablen auf den Immobilienpreis ausgewählt. Die lineare Regression eignet sich gut für diese Art von Untersuchung, da sie es ermöglicht, die Stärke und Richtung des Einflusses jeder Variablen auf den Preis zu bestimmen und bietet eine einfache Interpretierbarkeit der Ergebnisse.\n",
    "\n",
    "Die Auswahl der Prädiktorvariablen basierte auf der vorherigen explorativen Datenanalyse (EDA) und unserer fachlichen Expertise. Variablen wie Wohnfläche, Baujahr, Energieeffizienzklasse und Ausstattungsmerkmale zeigten signifikante Beziehungen zum Preis. Diese wurden als Prädiktoren in das Modell aufgenommen, um ihren Einfluss auf den Verkaufspreis zu untersuchen. Hochkorrelierte Variablen wurden ausgeschlossen, um das Problem der Multikollinearität zu minimieren (siehe Appendix E.). Um Overfitting zu vermeiden, wurden Variablen kategorisiert.\n",
    "\n",
    "Der Prozess der Modellauswahl umfasste mehrere Schritte. Zunächst wurde ein Modell mit allen potenziell relevanten Variablen erstellt. Anschließend wurde das Modell schrittweise verfeinert, indem nicht signifikante Variablen entfernt und nur solche beibehalten wurden, die einen statistisch signifikanten Beitrag leisteten. Für jede Variable im Modell wurden die p-Werte überprüft. Variablen mit hohen p-Werten (Schwellenwert 0,10) wurden als Kandidaten für die Entfernung betrachtet, da sie keinen statistisch signifikanten Einfluss auf die Zielvariable zu haben scheinen. Um die Gesamtgüte des Modells zu bewerten, wurde bei jeder Entfernung einer Variable das (adjusted) R-Quadrat betrachtet. Um die Gesamtrelevanz jeder kategorialen Variable zu bewerten, wurden F-Tests durchgeführt. AIC, BIC und die Durbin-Watson-Statistik wurden zur Modellauswahl herangezogen, wenn sich Modelle nur in der Variablentransformation unterschieden, um die Anpassungsgüte des Modells sowie die Autokorrelation in den Residuen zu berücksichtigen.\n",
    "\n",
    "Aufgrund der rechtsschiefen Verteilung des Preises und der Wohnfläche wurden logarithmische Transformationen durchgeführt. Diese Transformationen führten zu einer symmetrischeren Verteilung und verbesserten die Anpassung des Modells an die Annahmen der linearen Regression (siehe Appendix D.).\n",
    "\n",
    "Das finale Modell wurde auf die Einhaltung der grundlegenden Annahmen der linearen Regression überprüft, einschließlich Linearität, Homoskedastizität und Unabhängigkeit der Residuen. Diagnostische Tests und Plots wie Residuenplots und Q-Q-Plots wurden verwendet, um eventuelle Verletzungen dieser Annahmen zu identifizieren und zu adressieren. Multikollinearität wurde im Rahmen der Explorativen Datenanalyse mit einer Korrelationsanalyse der unabhängigen Variablen analysiert (siehe Appendix E.).\n",
    "\n",
    "## Modellselektion - Logistische Regression\n",
    "Die logistische Regression wurde für die binäre Klassifizierung der Immobilien in \"energieeffizient\" und \"nicht energieeffizient\" verwendet. Die logistische Regression eignet sich besonders gut für solche binären Klassifizierungsaufgaben, da sie Wahrscheinlichkeiten für die Zugehörigkeit zu einer der beiden Kategorien liefert.\n",
    "\n",
    "Als Prädiktorvariablen für das Modell wurden das Baujahr der Immobilie, die Energiequelle und in einem erweiterten Modell auch der Preis berücksichtigt. Diese Variablen wurden aufgrund der Explorativen Datenanalyse und unserer fachlichen Expertise für die Energieeffizienz einer Immobilie ausgewählt.\n",
    "\n",
    "Zwei logistische Regressionsmodelle wurden entwickelt und diese optimiert: \n",
    "\n",
    "Da die Skalen der Prädiktorvariablen unterschiedlich waren, wurde eine Standardisierung der Daten durchgeführt, um eine faire Gewichtung aller Variablen im Modell zu gewährleisten. Für die Anpassung des Modells wurde die Klasse LogisticRegressionCV verwendet, die eine Kreuzvalidierung zur Bestimmung des optimalen Regularisierungsparameters (C-Wert) durchführt, um das Gleichgewicht zwischen Überanpassung und Unteranpassung zu finden.\n",
    "\n",
    "Zur Beurteilung der Modellgüte wurden verschiedene Metriken wie Genauigkeit (Accuracy), Präzision (Precision), Recall und der F1-Score herangezogen. Die Fehlermatrix (Confusion Matrix) und der Klassifikationsbericht gaben Aufschluss über die Leistung des Modells bei der Klassifizierung.\n",
    "\n",
    "Es wurde eine Analyse verschiedener Schwellenwerte durchgeführt, um den besten Wert für die Klassifikation zu finden, da er die Sensitivität und Spezifität des Modells beeinflussen kann.\n",
    "\n",
    "Zur weiteren Beurteilung der Modellleistung wurde eine Receiver Operating Characteristic (ROC)-Kurve gezeichnet und der Area Under the Curve (AUC)-Wert berechnet, um die Gesamtleistung des Modells über verschiedene Schwellenwerte hinweg zu bewerten.\n",
    "\n",
    "Beide Modelle weisen ähnliche Genauigkeiten auf. Die Wahl hängt von den spezifischen Anforderungen des Anwendungsfalls ab."
   ]
  },
  {
   "cell_type": "markdown",
   "metadata": {},
   "source": [
    "## Ergebnisse"
   ]
  },
  {
   "cell_type": "markdown",
   "metadata": {},
   "source": [
    "### Lineare Regression\n",
    "\n",
    "Das entwickelte lineare Regressionsmodell zur Prognose von Immobilienpreisen in Nürnberg zeigt eine signifikante Erklärungskraft bezüglich der abhängigen Variable, was in den statistischen Kennzahlen des Modells reflektiert wird (siehe Appendix F.1.).\n",
    "\n",
    "**Statistische Kennwerte und Diagnosen**\n",
    "- Mit einem R-Quadrat von 0,847 demonstriert das Modell eine starke Erklärungskraft für den logarithmierten Preis, was auf eine robuste Anpassung an die Trainingsdaten hinweist.\n",
    "- Die hohe F-Statistik signalisiert eine statistische Signifikanz des Gesamtmodells.\n",
    "- Omnibus, Skew, Kurtosis und Jarque-Bera Test zeigen, dass die Residuen wahrscheinlich normalverteilt sind, was eine Grundannahme der linearen Regression erfüllt. Der QQ-Plot unterstützt diese Erkenntnis, obwohl leichte Abweichungen an den Enden auf Ausreißer hindeuten könnten (siehe Appendix G.1.).\n",
    "- Der Durbin-Watson Test mit einem Wert nahe 2 deutet auf geringe Autokorrelation der Residuen hin, was die Unabhängigkeit der Fehler bestätigt.\n",
    "- Der Scale-Location Plot zeigt eine relativ konstante Varianz der Residuen, was auf Homoskedastizität hinweist (siehe Appendix G.1.).\n",
    "- Eine hohe Konditionszahl legt die Möglichkeit von Multikollinearität nahe. Diese konnte auf Basis der Korrelationsmatrix in der Explorativen Datenanalyse jedoch nicht bestätigt werden (siehe Appendix E.).\n",
    "\n",
    "**Residuen- und Einflussanalyse**\n",
    "- Die zufällige Verteilung der Residuen im Residuenplot bestätigt die Angemessenheit des Modells für die Daten (siehe Appendix G.2.).\n",
    "- Einige Datenpunkte weisen im Influence Plot eine höhere Hebelwirkung und hohe Residuen auf. Diese Beobachtungen wurden fachlich analysiert, jedoch konnten diese nicht als Ausreiser bestätigt werden (siehe Appendix G.2.).\n",
    "\n",
    "**Ergebnisse auf dem Testdatensatz**\n",
    "- Das Modell zeigt auch auf dem Testdatensatz eine hohe Erklärungskraft, was durch ein hohes R-Quadrat und ein signifikantes Gesamtmodell (F-Statistik) belegt wird. Dies deutet auf eine gute Generalisierbarkeit des Modells hin.\n",
    "\n",
    "**Interpretation der Schlüsselvariablen**\n",
    "- Die Wohnungsgröße hat einen signifikant positiven Einfluss auf den Preis. Eine Zunahme der Wohnungsgröße um 1% führt fast zu einer äquivalenten Erhöhung des Preises (p-Wert nahezu 0.00) - H1 bestätigt.\n",
    "- Es besteht eine positive Beziehung zwischen dem Baujahr einer Immobilie und ihrem Preis (p-Wert nahezu 0.00). Neuere Immobilien neigen dazu, höhere Preise zu erzielen - H3 bestätigt.\n",
    "- Höhere Energieeffizienzklassen korrelieren mit höheren Preisen, jedoch zeigen die niedrigeren Energieeffizienzklassen einen geringeren negativen Einfluss als die viertletzte Klasse. Die F-Statistik bestätigt, dass die kategoriale Variable 'energyClass' einen statistisch signifikanten Einfluss auf den logarithmierten Preis hat -  H5 bestätigt. \n",
    "- Der Standort einer Immobilie hat einen deutlichen Einfluss auf den Immobilienpreis. Die Koeffizienten für verschiedene Standorte im Vergleich zum Referenzstandort variieren, was darauf hindeutet, dass einige Lagen höhere Preise begünstigen als andere. Die F-Statistik hat aufgezeigt, dass die kategoriale Variable 'location' einen statistisch signifikanten Einfluss auf den logarithmierten Preis hat - H6 bestätigt.\n",
    "- Signifikant positive Koeffizienten für Ausstattungsmerkmale wie Sauna, ausgestattete Küche und Keller deuten darauf hin, dass diese Merkmale mit höheren Immobilienpreisen assoziiert sind. Dies unterstreicht die Bedeutung zusätzlicher Annehmlichkeiten für den Wert einer Immobilie - H4 bestätigt.\n",
    "\n",
    "\n",
    "### Logistische Regression\n",
    "\n",
    "Das entwickelte Modell der logistischen Regression kann effektiv zwischen energieeffizienten und nicht-energieeffizienten Immobilien unterscheiden. Die hohe Genauigkeit wurde mit den Variablen Baujahr und Energiequelle (siehe Appendix F.2.) (und Immobilienpreis erreicht).\n",
    "\n",
    "**Statistische Kennwerte und Diagnosen**\n",
    "- Der signifikante statistische Koeffizient für das Baujahr (p-Wert nahezu 0.00) deutet darauf hin, dass neuere Immobilien tendenziell energieeffizienter sind - H9 bestätigt.\n",
    "- Die Energiequellen sind unterschiedlich stark mit der Energieeffizienz einer Immobilie assoziiert. Der p-Wert von 0.006 für die Variable energySources im ersten Modell bestätigt deren statistische Signifikanz - H10 bestätigt.\n",
    "- Die Betrachtung des Preises in das erweiterte Modell, zeigt dass höherpreisige Immobilien eine höhere Wahrscheinlichkeit für Energieeffizienz aufweisen. Der p-Wert von 0.177 deutet darauf hin, dass der Preis keinen signifikanten Einfluss auf die Energieeffizienz hat.\n",
    "\n",
    "- Die hohen Werte für Precision, Recall und F1-Score bestätigen, dass das Modell in der Lage ist, energieeffiziente Immobilien korrekt zu identifizieren (siehe Appendix G.3.).\n",
    "- Auch die hohe Fläche unter der ROC-Kurve bestätigt, dass das Modell in der Lage ist zwischen energieeffizienten und nicht-energieeffizienten Immobilien zu unterscheiden (siehe Appendix G.3.1.)."
   ]
  },
  {
   "cell_type": "markdown",
   "metadata": {},
   "source": [
    "## Diskussion + Schlussfolgerung"
   ]
  },
  {
   "cell_type": "markdown",
   "metadata": {},
   "source": [
    "### Haupterkenntnisse\n",
    "\n",
    "Die vorliegende Analyse der Immobilienmarktdaten in Nürnberg hat mehrere wichtige Erkenntnisse hervorgebracht:\n",
    "\n",
    "- Es wurde festgestellt, dass die Wohnungsgröße einen starken positiven Einfluss auf den Preis hat. Eine Zunahme der Wohnfläche um 1% führt nahezu zu einer äquivalenten Preissteigerung, was die statistische Signifikanz dieser Variablen (p-Wert nahezu 0.00) bestätigt.\n",
    "\n",
    "- Das Baujahr einer Immobilie ist ein signifikanter Prädiktor für die Energieeffizienz. Neuere Immobilien tendieren dazu, energieeffizienter zu sein, was auf mangelnde energetische Sanierungen in älteren Gebäuden hinweist.\n",
    "\n",
    "- Die Variablen lokaler Annehmlichkeiten und Nähe zum Nahverkehr waren in der Analyse statistisch nicht signifikant, was darauf hindeutet, dass Nürnberg insgesamt gute Annehmlichkeiten und einen guten Nahverkehr bietet. Diese Erkenntnis bestätigt auch die EDA (H7 und H8 können nicht bestätigt werden).\n",
    "\n",
    "- Die geographische Einteilung der Immobilien in vier Regionen hat aufgezeigt, dass die Lage einer Immobilie in Bezug auf das Stadtzentrum einen statistisch signifikanten Einfluss auf ihren Preis hat, wobei Immobilien nordöstlich des Zentrums tendenziell höhere Preise erzielen.\n",
    "\n",
    "### Limitationen\n",
    "\n",
    "- Die Analyse stützt sich auf Immobilienpreise, die nicht unbedingt den tatsächlichen Verkaufspreisen (Transaktionspreis) entsprechen, sondern nur den aktuellen Verkaufswunschpreis widerspiegeln. Die Immobilien wurden zu unterschiedlichen Zeitpunkten veröffentlicht; die Preise könnten von den Verkäufern einiger Immobilien im Laufe der Zeit angepasst worden sein, was zu einer potenziellen Verzerrung der Ergebnisse führen könnte.\n",
    "\n",
    "- Trotz der Bemühungen, Multikollinearität zu minimieren, deutet die hohe Konditionszahl der linearen Regressionsanalyse, dass einige der unabhängigen Variablen untereinander korreliert sein können, was die Interpretation der Ergebnisse erschwert.\n",
    "\n",
    "- Im Rahmen der Datenbereinigung wurden Beobachtungen ausgeschlossen, wenn Werte für die Spalten Energieeffizient und Energieträger fehlten. Für die Spalte Energieeffizient konnte nachgewiesen werden, dass das Fehlen dieser Werte zufällig ist. Das Fehlen der Werte in der Spalte Energieträger tritt jedoch häufiger bei neueren Immobilien auf. Dadurch sind die Ergebnisse der Regressionen möglicherweise nicht mehr repräsentativ für die gesamte Population. Dies kann zu einer Verzerrung in den Schätzungen der Regressionsparameter führen, da die Annahme der Unabhängigkeit der Beobachtungen nicht mehr gegeben ist.\n",
    "\n",
    "- Die Immobilien wurden nur aus einem Portal (Immowelt) zusammengestellt. Diese Immobilien repräsentieren möglicherweise nicht den gesamten Immobilienmarkt in Nürnberg ab (Selektionbias). Zudem könnten nur Immobilien gelistet sein, die bestimmte Kriterien erfüllen. Dies kann zu einer Verzehrung der Analyseergebnisse führen.\n",
    "\n",
    "- Die Ergebnisse sind spezifisch für den Immobilienmarkt in Nürnberg und möglicherweise nicht auf andere Städte oder Regionen übertragbar.\n",
    "\n",
    "### Vorschläge zur Verbesserung und zukünftige Forschung\n",
    "\n",
    "- Für zukünftige Studien, die sich mit der Klassifikation von Immobilien in Bezug auf ihre Energieeffizienz beschäftigen, empfiehlt es sich, auch Mietimmobilien zu berücksichtigen. Sowohl die Energieeffizienzklasse als auch der Energieträger sind für diese verfügbar. Dadurch kann der Selektionsbias reduziert werden, der in diesem Fall durch die Beschränkung auf Kaufimmobilien entstanden ist.\n",
    "\n",
    "- Die Einführung einer neuen Variable für die durchschnittliche Zimmergröße, berechnet als Wohnfläche geteilt durch die Anzahl der Zimmer, kann Einblicke in die Beziehung zwischen Zimmergröße und Immobilienpreis geben. Aufgrund der hohen Korrelation zwischen der Anzahl der Zimmer und der Wohnfläche haben wir die erstgenannte Variable aus unserem Modell entfernt. Dies könnte dazu geführt haben, dass das Modell wichtige Informationen nicht berücksichtigt hat. Durch die Kombination dieser beiden Variablen kann die Multikollinearität im Modell reduziert werden, während gleichzeitig wertvolle Informationen beider Variablen erhalten bleiben. Zudem ist die resultierende Variable 'durchschnittliche Zimmergröße' leicht interpretierbar. \n",
    "Eine alternative Herangehensweise zur Reduzierung von Kollinearitätseffekten könnte darin bestehen, den Preis pro Quadratmeter als Response-Variable zu wählen. Angesichts der bereits vorhandenen Informationen zur Wohnfläche könnte die Fragestellung so umformuliert werden, dass die Prognose auf den Preis pro Quadratmeter abzielt. Diese Anpassung bietet den Vorteil, dass die Kollinearität zwischen der Wohnfläche und der Anzahl der Räume nicht mehr besteht.\n",
    "\n",
    "- Um Overfitting durch die Einbeziehung von Längen- und Breitengraden zu vermeiden, haben wir Nürnberg in vier Regionen unterteilt und die Entfernung der Immobilien (Stadtviertel) zum Stadtzentrum berechnet, um die räumliche Dimension zu berücksichtigen. Allerdings war die Entfernung zum Stadtzentrum statistisch nicht signifikant. Eine detailliertere geografische Analyse, die Längen- und Breitengrade der Stadtteile einbezieht, möglicherweise unter Verwendung von Methoden wie der Geographisch Gewichteten Regression, könnte zusätzliche Einblicke zu räumlichen Unterschieden und lokale Trends des Immobilienmarktes geben.\n",
    "\n",
    "- Für die logistische Regression war eine stratifizierte Aufteilung des Datensatzes nach Energieeffizienzklasse sinnvoll. Zukünftige lineare Regressionsanalysen könnten von einer stratifizierten Aufteilung basierend auf geographischen Merkmalen profitieren. Die vorliegende Analyse hat gezeigt, dass geografische Faktoren einen signifikanten Einfluss auf den Immobilienpreis haben.\n",
    "\n",
    "- Zwischen Preis und Wohnfläche wurde eine leicht konvexe Beziehung festgestellt. Zukünftige Studien könnten erweiterte statistische Modelle nutzen, die nicht-lineare Zusammenhänge besser abbilden.  "
   ]
  },
  {
   "cell_type": "markdown",
   "metadata": {},
   "source": [
    "## Literaturverzeichnis"
   ]
  },
  {
   "cell_type": "markdown",
   "metadata": {},
   "source": [
    "- Court, A. T. (1939), Hedonic price indexes with automotive examples, The Dynamics of Automotive Demand, General Motors, New York, pp. 98-119.\n",
    "\n",
    "- Eurostat et al. (2103), Handbook on Residential Property Price Indices (RPPIs), retrieved: 12.11.2023: [Eurostat Handbook](http://epp.eurostat.ec.europa.eu/portal/page/portal/hicp/methodology/hps/rppi_handbook).\n",
    "\n",
    "- Griliches, Z. (1961), Hedonic prices for automobiles: an econometric analysis of quality change, The Price Statistics of the Federal Government, General Series No. 73, Columbia Univ. Press for the National Bureau of Economic Research, New York, pp. 137-196.\n",
    "\n",
    "- Lancaster, K. J. (1966), A new approach to consumer theory, The Journal of Political Economy, Vol. 74, No. 2, pp. 132-157.\n",
    "\n",
    "- Malpezzi, S. (2003), Hedonic pricing models: A selective and applied review, T. O’Sullivan and K. Gibb (Eds), Housing Economics and Public Policy, pp. 67-89.\n",
    "\n",
    "- Ozanne, L., & Thibodeau, T. (1983), Explaining metropolitan housing price differences, Journal of Urban Economics, 13(1), pp. 51-66.\n",
    "\n",
    "- Rosen, S. (1974), Hedonic prices and implicit markets: product differentiation in pure competition, Journal of Political Economy, Vol. 82, No. 1, pp. 34-55.\n",
    "\n",
    "- Sirmans, S. & Macpherson (2003), The composition of hedonic pricing models: A REVIEW OF THE LITERATURE, National Center for Real Estate Research, retrieved: 15.11.2023 by [Academia.edu](https://www.academia.edu/56581037/The_Composition_of_Hedonic_Pricing_Models_A_Review_of_the_Literature)."
   ]
  },
  {
   "cell_type": "markdown",
   "metadata": {},
   "source": [
    "## Appendix"
   ]
  },
  {
   "cell_type": "markdown",
   "metadata": {},
   "source": [
    "### A. Variablenverzeichnis mit Kurzdefinitionen"
   ]
  },
  {
   "cell_type": "markdown",
   "metadata": {},
   "source": [
    "| Variable            | Beschreibung                                  | Role       | Type    | Format   |\n",
    "|---------------------|-----------------------------------------------|------------|---------|----------|\n",
    "| constructionYear    | Baujahr des Objekts                           | Response   | Numeric | int      |\n",
    "| livingSpace         | Wohnfläche in Quadratmetern                   | Response   | Numeric | float    |\n",
    "| photosCount         | Anzahl der Fotos in der Anzeige               | Response   | Numeric | int      |\n",
    "| localAmenitiesScore | Bewertung der örtlichen Annehmlichkeiten      | Response   | Numeric | float    |\n",
    "| localMobilityScore  | Bewertung der örtlichen Mobilität             | Response   | Numeric | float    |\n",
    "| latitudeDistrict    | Breitengrad des Stadtteils                    | Response   | Numeric | float    |\n",
    "| longitudeDistrict   | Längengrad des Stadtteils                     | Response   | Numeric | float    |\n",
    "| distanceToCenter    | Distanz zum Zentrum                           | Response   | Numeric | float    |\n",
    "| district            | Stadtteil des Objekts                         | Response   | Nominal | category |\n",
    "| location            | Lage im Verhältnis zum Stadtzentrum (siehe Appendix C.2.)           | Response   | Nominal | category |\n",
    "| price               | Preis des Objekts                             | Predictor  | Numeric | float    |\n",
    "| rooms               | Anzahl der Zimmer                             | Response   | Numeric | int      |\n",
    "| energyClass         | Energieeffizienzklasse (siehe Appendix B)     | Response   | Ordinal | category |\n",
    "| energySources       | Energieträger (-quelle) des Objekts           | Response   | Nominal | category |\n",
    "| energyEfficiency    | Energieeffizienzklasse (binär) (siehe Appendix C.1.)                | Predictor  | Ordinal | category |\n",
    "| elevator            | Vorhandensein eines Aufzugs im Gebäude        | Response   | Nominal | category |\n",
    "| sauna               | Vorhandensein einer Sauna im Gebäude          | Response   | Nominal | category |\n",
    "| swimmingpool        | Vorhandensein eines Swimmingpools im Gebäude  | Response   | Nominal | category |\n",
    "| kitchenEqipped      | Vorhandensein einer ausgestatteten Küche      | Response   | Nominal | category |\n",
    "| cellar              | Vorhandensein eines privaten Kellers im Gebäude        | Response   | Nominal | category |\n",
    "| storageRoom         | Vorhandensein eines Abstellraums in der Wohnung   | Response   | Nominal | category |\n",
    "| wheelchairAccessible| Barrierefreiheit der Wohunung                 | Response   | Nominal | category |\n",
    "| assistedLiving      | Betreutes Wohnen im Gebäude                   | Response   | Nominal | category |\n",
    "| parkingSlots        | Vorhandensein min. eines privaten Parkplatzes             | Response   | Nominal | category |\n",
    "| guestToilet         | Vorhandensein min. eines Gäste-WCs in der Wohung      | Response   | Nominal | category |\n",
    "| privateOutdoorSpace | Vorhandensein min. eines privaten Außenbereichs    | Response   | Nominal | category |\n",
    "| chimney             | Vorhandensein eines Kamins                    | Response   | Nominal | category |\n",
    "| attics              | Wohnung befindet sich im Dachgeschoss         | Response   | Nominal | category |"
   ]
  },
  {
   "cell_type": "markdown",
   "metadata": {},
   "source": [
    "### B. Mapping der Energieeffizienzklassen und Energieträger (-quellen)\n",
    "#### B.1. Beschreibung des Imputationsverfahrens für fehlende Werte in der Energieeffizienzklasse, basierend auf dem Energieverbrauch."
   ]
  },
  {
   "cell_type": "markdown",
   "metadata": {},
   "source": [
    "Fehlende Werte in der Spalte Energieverbrauch wurden wie folgt abgeleitet:\n",
    "- Energieverbrauch < 30: \"DE_ENV2014_CLASS_A_PLUS\"\n",
    "- 30 ≤ Energieverbrauch < 50: \"DE_ENV2014_CLASS_A\"\n",
    "- 50 ≤ Energieverbrauch < 75: \"DE_ENV2014_CLASS_B\"\n",
    "- 75 ≤ Energieverbrauch < 100: \"DE_ENV2014_CLASS_C\"\n",
    "- 100 ≤ Energieverbrauch < 130: \"DE_ENV2014_CLASS_D\"\n",
    "- 130 ≤ Energieverbrauch < 160: \"DE_ENV2014_CLASS_E\"\n",
    "- 160 ≤ Energieverbrauch < 200: \"DE_ENV2014_CLASS_F\"\n",
    "- 200 ≤ Energieverbrauch < 250: \"DE_ENV2014_CLASS_G\"\n",
    "- Energieverbrauch ≥ 250: \"DE_ENV2014_CLASS_H\"\n",
    "\n",
    "Folgenden Schlüssel-Wert-Paare wurden erstellt:\n",
    "- \"DE_ENV2014_CLASS_A_PLUS\" ist auf den Wert 1 abgebildet.\n",
    "- \"DE_ENV2014_CLASS_A\" ist auf den Wert 2 abgebildet.\n",
    "- \"DE_ENV2014_CLASS_B\" ist auf den Wert 3 abgebildet.\n",
    "- \"DE_ENV2014_CLASS_C\" ist auf den Wert 4 abgebildet.\n",
    "- \"DE_ENV2014_CLASS_D\" ist auf den Wert 5 abgebildet.\n",
    "- \"DE_ENV2014_CLASS_E\" ist auf den Wert 6 abgebildet.\n",
    "- \"DE_ENV2014_CLASS_F\" ist auf den Wert 7 abgebildet.\n",
    "- \"DE_ENV2014_CLASS_G\" ist auf den Wert 8 abgebildet.\n",
    "- \"DE_ENV2014_CLASS_H\" ist auf den Wert 9 abgebildet."
   ]
  },
  {
   "cell_type": "markdown",
   "metadata": {},
   "source": [
    "#### B.2. Übersicht / Umwandlung Energieträger (-quellen) in numerische Werte "
   ]
  },
  {
   "cell_type": "markdown",
   "metadata": {},
   "source": [
    "| Energiequelle                | Numerischer Wert |\n",
    "|------------------------------|------------------|\n",
    "| Gas                          | 1                |\n",
    "| Fernwärme                    | 2                |\n",
    "| Öl                           | 3                |\n",
    "| Elektro                      | 4                |\n",
    "| Solar                        | 5                |\n",
    "| Pellets                      | 6                |\n",
    "| Elektro, Gas                 | 7                |\n",
    "| Gas, Solar                   | 8                |\n",
    "| Blockheizkraftwerk           | 9                |\n",
    "| Fernwärme, Gas               | 10               |\n",
    "| Gas, Holz                    | 11               |\n",
    "| Fernwärme, Öl                | 12               |\n",
    "| Fernwärme, Gas, Solar        | 13               |\n",
    "| Gas, Pellets                 | 14               |\n",
    "| Gas, Öl                      | 15               |\n",
    "| Blockheizkraftwerk, Fernwärme | 16               |\n",
    "| Gas, Holz, Kohle             | 17               |\n",
    "| Fernwärme, Holz              | 18               |\n",
    "| Fernwärme, Kohle             | 19               |\n",
    "| Elektro, Pellets             | 20               |\n",
    "| Fernwärme, Solar             | 21               |\n",
    "| Elektro, Fernwärme           | 22               |"
   ]
  },
  {
   "cell_type": "markdown",
   "metadata": {},
   "source": [
    "### C. Kategorisierung der Variablen"
   ]
  },
  {
   "cell_type": "markdown",
   "metadata": {},
   "source": [
    "#### C.1. Kategorisierung Energieeffizienz ('energyEfficiency')"
   ]
  },
  {
   "cell_type": "markdown",
   "metadata": {},
   "source": [
    "Die Energieeffizienzklassen werden in zwei Kategorien unterteilt (Energieeffizient und Nicht-Energieeffizient).\n",
    "\n",
    "Die Klassen \"DE_ENV2014_CLASS_A_PLUS\", \"DE_ENV2014_CLASS_A\" und \"DE_ENV2014_CLASS_B\" werden als \"Energieeffizient\" (1) kategorisiert, während die Klassen \"DE_ENV2014_CLASS_C\" bis \"DE_ENV2014_CLASS_H\" als \"Nicht-Energieeffizient\" (0) kategorisiert werden."
   ]
  },
  {
   "cell_type": "markdown",
   "metadata": {},
   "source": [
    "#### C.2. Geographische Kategorisierung"
   ]
  },
  {
   "cell_type": "markdown",
   "metadata": {},
   "source": [
    "Basierend auf den geografischen Koordinaten des Stadtteils, in dem sich die Wohnung befindet, und den Koordinaten des Stadtzentrums erfolgt eine Klassifizierung in eines der folgenden geographischen Gebiete:\n",
    "- Nordöstlich des Zentrums: Wenn Breitengrad > Zentrum Breitengrad und Längengrad > Zentrum Längengrad.\n",
    "- Nordwestlich des Zentrums: Wenn Breitengrad > Zentrum Breitengrad und Längengrad < Zentrum Längengrad.\n",
    "- Südöstlich des Zentrums: Wenn Breitengrad < Zentrum Breitengrad und Längengrad > Zentrum Längengrad.\n",
    "- Südwestlich des Zentrums: Wenn Breitengrad < Zentrum Breitengrad und Längengrad < Zentrum Längengrad.\n",
    "\n",
    "Klassifikation ('location'):\n",
    "- Nordöstlich des Zentrums: 1\n",
    "- Nordwestlich des Zentrums: 2\n",
    "- Südöstlich des Zentrums: 3\n",
    "- Südwestlich des Zentrums: 4"
   ]
  },
  {
   "cell_type": "markdown",
   "metadata": {},
   "source": [
    "### D. Logarithmisierte Form der Variablen Preis und Wohnfläche"
   ]
  },
  {
   "cell_type": "markdown",
   "metadata": {},
   "source": [
    "![Logarithmisierte Form der Variablen Preis und Wohnfläche](https://raw.githubusercontent.com/hdm-statistik-lpj/project/main/reports/Bilddateien/Logarithmisierte%20Form%20der%20Variablen%20Preis%20und%20Wohnfläche.png)"
   ]
  },
  {
   "cell_type": "markdown",
   "metadata": {},
   "source": [
    "### E. Korrelationsmatrix\n",
    "Darstellung der Korrelationen zwischen den Variablen zur Überprüfung von Multikollinearität."
   ]
  },
  {
   "cell_type": "markdown",
   "metadata": {},
   "source": [
    "![Korrelationsmatrix](https://raw.githubusercontent.com/hdm-statistik-lpj/project/main/reports/Bilddateien/correlationmatrix.png)"
   ]
  },
  {
   "cell_type": "markdown",
   "metadata": {},
   "source": [
    "### F. Regression Output der Linearen und Logistischen Regression"
   ]
  },
  {
   "cell_type": "markdown",
   "metadata": {},
   "source": [
    "#### F.1. Linearen Regression"
   ]
  },
  {
   "cell_type": "markdown",
   "metadata": {},
   "source": [
    "![Output Lineare Regression](https://raw.githubusercontent.com/hdm-statistik-lpj/project/main/reports/Bilddateien/regressionSummary.png)"
   ]
  },
  {
   "cell_type": "markdown",
   "metadata": {},
   "source": [
    "F-Test zur Überprüfen der Gesamtbedeutung der kategorialen Variablen 'location' und 'energyClass'"
   ]
  },
  {
   "cell_type": "markdown",
   "metadata": {},
   "source": [
    "| Variable              | F-Wert     | p-Wert               | Freiheitsgrade (denom) | Freiheitsgrade (num) |\n",
    "|-----------------------|------------|----------------------|-------------------------|----------------------|\n",
    "| location              | 15.53      | 1.18e-09             | 473                     | 3                    |\n",
    "| energyClass           | 21.71      | 3.44e-28             | 473                     | 8                    |"
   ]
  },
  {
   "cell_type": "markdown",
   "metadata": {},
   "source": [
    "#### F.2. Logistischen Regression"
   ]
  },
  {
   "cell_type": "markdown",
   "metadata": {},
   "source": [
    "![Output Logistische Regression](https://raw.githubusercontent.com/hdm-statistik-lpj/project/main/reports/Bilddateien/LogisticRegressionSummary.png)"
   ]
  },
  {
   "cell_type": "markdown",
   "metadata": {},
   "source": [
    "### G. Diagnosestatistiken"
   ]
  },
  {
   "cell_type": "markdown",
   "metadata": {},
   "source": [
    "#### G.1. QQ-Plot und Scale-Location Plot"
   ]
  },
  {
   "cell_type": "markdown",
   "metadata": {},
   "source": [
    "![QQ_Plot](https://raw.githubusercontent.com/hdm-statistik-lpj/project/main/reports/Bilddateien/qq_plot.png)"
   ]
  },
  {
   "cell_type": "markdown",
   "metadata": {},
   "source": [
    "![Scale_Location_Plot](https://raw.githubusercontent.com/hdm-statistik-lpj/project/main/reports/Bilddateien/scale_location_plot.png)"
   ]
  },
  {
   "cell_type": "markdown",
   "metadata": {},
   "source": [
    "#### G.2. Residuenplot und Influence Plot"
   ]
  },
  {
   "cell_type": "markdown",
   "metadata": {},
   "source": [
    "![Residuenplot](https://raw.githubusercontent.com/hdm-statistik-lpj/project/main/reports/Bilddateien/residuenplot.png)"
   ]
  },
  {
   "cell_type": "markdown",
   "metadata": {},
   "source": []
  },
  {
   "cell_type": "markdown",
   "metadata": {},
   "source": [
    "![Influence_Plot](https://raw.githubusercontent.com/hdm-statistik-lpj/project/main/reports/Bilddateien/influence_plot.png)"
   ]
  },
  {
   "cell_type": "markdown",
   "metadata": {},
   "source": [
    "#### G.3. Evaluierungsstatistiken der Logistischen Regression\n",
    "Darstellung der Leistungsindikatoren: Precision, Recall und F1-Score des logistischen Modells."
   ]
  },
  {
   "cell_type": "markdown",
   "metadata": {},
   "source": [
    "![Logistic_1](https://raw.githubusercontent.com/hdm-statistik-lpj/project/main/reports/Bilddateien/logistic_1.png)"
   ]
  },
  {
   "cell_type": "markdown",
   "metadata": {},
   "source": [
    "![Logistic_2](https://raw.githubusercontent.com/hdm-statistik-lpj/project/main/reports/Bilddateien/logistic_2.png)"
   ]
  },
  {
   "cell_type": "markdown",
   "metadata": {},
   "source": [
    "![Logistic_3](https://raw.githubusercontent.com/hdm-statistik-lpj/project/main/reports/Bilddateien/logistic_3.png)"
   ]
  },
  {
   "cell_type": "markdown",
   "metadata": {},
   "source": [
    "##### G.3.1. ROC-Kurve"
   ]
  },
  {
   "cell_type": "markdown",
   "metadata": {},
   "source": [
    "![ROC_Kurve](https://raw.githubusercontent.com/hdm-statistik-lpj/project/main/reports/Bilddateien/roc_curve.png)"
   ]
  },
  {
   "cell_type": "code",
   "execution_count": null,
   "metadata": {},
   "outputs": [],
   "source": []
  }
 ],
 "metadata": {
  "kernelspec": {
   "display_name": "Python 3 (ipykernel)",
   "language": "python",
   "name": "python3"
  },
  "language_info": {
   "codemirror_mode": {
    "name": "ipython",
    "version": 3
   },
   "file_extension": ".py",
   "mimetype": "text/x-python",
   "name": "python",
   "nbconvert_exporter": "python",
   "pygments_lexer": "ipython3",
   "version": "3.10.13"
  },
  "vscode": {
   "interpreter": {
    "hash": "463226f144cc21b006ce6927bfc93dd00694e52c8bc6857abb6e555b983749e9"
   }
  }
 },
 "nbformat": 4,
 "nbformat_minor": 4
}
