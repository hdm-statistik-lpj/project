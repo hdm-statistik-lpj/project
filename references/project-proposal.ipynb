{
 "cells": [
  {
   "cell_type": "markdown",
   "metadata": {},
   "source": [
    "# Project proposal\n",
    "\n",
    "---\n",
    "\n",
    "Group name: Lena Breitberg, Ji Huixiao, Paraskevas Papadopoulos\n",
    "\n",
    "---\n"
   ]
  },
  {
   "cell_type": "markdown",
   "metadata": {},
   "source": [
    "## Introduction\n",
    "\n",
    "The introduction section includes\n",
    "\n",
    "-   an introduction to the subject matter you're investigating\n",
    "\n",
    "Der Immobilienmarkt, als ein komplexer und dynamischer Wirtschaftsbereich, hat schon lange das Interesse von Forschern geweckt, die die Faktoren verstehen möchten, die den Wert von Immobilien beeinflussen. Diese Studie konzentriert sich darauf, die Determinanten der Wohnungspreise in der Stadt Nürnberg, Deutschland, zu untersuchen. Das Verständnis des marginalen Effekts einzelner Merkmale ist für verscheide Marktteilnehmer von Interesse, darunter Wohnungskäufer, Immobilienmakler und Bauträger.\n",
    "\n",
    "Das Projekt \"Immobilienmarkt Nürnberg\" widmet sich der Anwendung fortgeschrittener statistischen Methoden auf Immobiliendaten. Wir werden mittels Methoden und Technologien in Bereichen Data Science, Statistik um umfassende Einblicke in den Immobilienmarkt zu gewinnen. Der Fokus liegt auf der Entwicklung von Modellen zur Preisprognose, Standortbewertung (und Risikominimierung, wenn es um Investition geht, vllt auch ein Ansatz für Klassifizierung um zu prüfen ob eine Investition (Kauf einer Immoblie) risiko ist.). \n",
    "\n",
    "-   the motivation for your research question (citing any relevant literature)\n",
    "\n",
    "Eine Immobilie setzt sich aus verschiedenen Merkmalen zusammen, von denen jedes den Gesamtwert beeinflussen kann. Der Preis der individuellen Merkmale kann jedoch nicht direkt beobachtet werden. In ihrer Arbeit von 1980 vergleichen Malpezzi, Ozanne und Thibodeau Immobilien mit einem Einkaufswagen für Lebensmittel. Jeder Lebensmittelwagen eines Haushalts enthält unterschiedliche Lebensmittel - genauso heterogen wie Immobilien. Im Gegensatz zu Lebensmitteln kann der Preis einzelner Immobilienmerkmale jedoch nicht direkt beobachtet werden. Die Heterogenität auf dem Wohnungsmarkt bezieht sich darauf, dass Wohnungen unterschiedliche Merkmale aufweisen, sei es in Bezug auf Größe, Ausstattung, Lage oder andere Eigenschaften. Da die Präferenzen und Bedürfnisse der Verbraucher variieren, ist es naheliegend anzunehmen, dass diese verschiedenen Merkmale unterschiedlich bewertet werden.\n",
    "\n",
    "Die hedonische Regressionsanalyse wird oft verwendet, um den marginalen Beitrag einzelner Merkmale zum Gesamtwert einer Immobilie zu schätzen. Diese Methode reicht mindestens bis zu Court (1939) und Griliches (1961) zurück, während Lancaster (1966) und Rosen (1974) die konzeptuellen Grundlagen für diesen Ansatz legten. Das hedonische Modell versucht, die Vielfalt und Unterschiede in den Bewertungen zu berücksichtigen, indem es eine analytische Struktur schafft, die es ermöglicht, den Beitrag jedes einzelnen Merkmals zum Gesamtpreis einer Immobilie zu quantifizieren.\n",
    "\n",
    "Sirmans und Macpherson (2003) zeigen die wichtigsten Merkmale, die zur Spezifizierung hedonischer Preisgleichungen verwendet wurden. Das Baujahr der Immobilie, die Quadratmeteranzahl, Garage, Kamin und Grundstücksgröße sind die am häufigsten verwendeten Merkmale. Andere Merkmale, die auftauchen, sind Schlafzimmer, Badezimmer, Swimmingpool und Keller. Auch die Zeit auf dem Markt scheint häufig als verwendetes Merkmal zu fungieren.\n",
    "\n",
    "-   the general research question you wish to explore\n",
    "\n",
    "  Wie beeinflussen verschiedene Eigenschaften von Immobilien den Verkaufspreis? Welche Faktoren, darunter        Baujahr, Wohnfläche, Lage und energetische Effizienz, haben signifikante Auswirkungen auf den Preis? Inwieweit können verschiedene Merkmale von Immobilien dazu verwendet werden, die Energieeffizienzklasse vorherzusagen? Insbesondere interessiert uns, ob das Baujahr, die Wohnfläche, geografische Standortmerkmale und andere spezifische Eigenschaften genutzt werden können, um die Kategorie der Energieeffizienz einer Immobilie zu klassifizieren.\n",
    "\n",
    "-   your hypotheses regarding the research question of interest.\n",
    "\n",
    "Die kategorischen Variablen (energetische Effizienz; Lage, Garage usw.) sowie numerische Variablen (Wohnfläche, Anzahl der Zimmer usw.) könnten positive Auswirkung haben auf den gesamten Preis einer Immobilien-Einheit. Wie stark die Auswirkungen auf den Preis geübt werden bzw. ob noch andere Variable auch mit ins Spiel kommen und inwieweit? Mit solchen Fragestellungen werden wir uns in dem Projekt detailierter beschäftigen.\n"
   ]
  },
  {
   "cell_type": "markdown",
   "metadata": {},
   "source": [
    "\n",
    "## Data description\n",
    "\n",
    "In this section, you will describe the data set you wish to explore. This includes\n",
    "\n",
    "-   description of the observations in the data set,\n",
    "\n",
    "*Die Beobachtungsobjekte von den Datansätzen sind die Immobilien-Einheiten in der Region Nürnberg.*\n",
    "\n",
    "-   description of how the data was originally collected (not how you found the data but how the original curator of the data collected it).\n",
    "\n",
    "*Die Daten wurden mittels Web-Scraping von der Immowelt-Website am 09.11.2023 im Rahmen der Projektarbeit des Moduls \"Python for Data Analytics\" erstellt.*"
   ]
  },
  {
   "cell_type": "markdown",
   "metadata": {},
   "source": [
    "\n",
    "## Analysis approach\n",
    "\n",
    "In this section, you will provide a brief overview of your analysis approach. This includes:\n",
    "\n",
    "-   Description of the response variable.\n",
    "\n",
    "    - PRICE (Der Preis der Immobilie)\n",
    "-   Visualization and summary statistics for the response variable.\n",
    "-   List of variables that will be considered as predictors\n",
    "\n",
    "    - General.ConstructionYear (Das Baujahr der Immobilie)\n",
    "    - General.LivingSpace (Die Wohnfläche der Immobilie)\n",
    "    - Tealium.object_count_photos (Die Anzahl der Fotos der Immobilie)\n",
    "    - LocalRatings.scores.local_amenities (Bewertungen der lokalen Annehmlichkeiten)\n",
    "    - LocalRatings.scores.mobility (Bewertungen der Mobilität)\n",
    "    - Latitude (Die geografische Breite des Standorts)\n",
    "    - Longitude (Die geografische Länge des Standorts)\n",
    "    - ROOMS (Die Anzahl der Zimmer in der Immobilie)\n",
    "    - PRICE_COMMONCHARGE (Die monatlichen Nebenkosten)\n",
    "    - Value (Endenergieverbrauch in kWh/(m²·a))\n",
    "    - ELEVATOR (Die Verfügbarkeit eines Aufzugs)\n",
    "    - EQUIPMENTS (Informationen über die Ausstattung)\n",
    "    - HEATING (Heizungsart)\n",
    "-   Your model type (what kind of model(s) will you use ... e.g. linear regression)\n",
    "    - lineare Regression\n",
    "    - Klassifizierung"
   ]
  },
  {
   "cell_type": "markdown",
   "metadata": {},
   "source": [
    "## Data dictionary\n",
    "\n",
    "*Create a data dictionary for all the variables in your data set. You may fill out the data description table or create your own table with Pandas:*\n",
    "\n",
    "<br>\n",
    "\n",
    "\n",
    "| Name  |   Description\t| Role   \t| Type   \t|  Format \t|\n",
    "|---\t|---\t        |---    \t|---\t    |---\t|\n",
    "|   \t|   \t        |   \t    |   \t    |   \t|\n",
    "|   \t|   \t        |   \t    |   \t    |   \t|\n",
    "|   \t|   \t        |   \t    |   \t    |   \t|\n",
    "\n",
    "\n",
    "<br>\n",
    "\n",
    "- `Role`: response, predictor, ID (ID columns are not used in a model but can help to better understand the data)\n",
    "\n",
    "- `Type`: nominal, ordinal or numeric\n",
    "\n",
    "- `Format`: int, float, string, category, date or object"
   ]
  },
  {
   "cell_type": "markdown",
   "metadata": {},
   "source": []
  }
 ],
 "metadata": {
  "kernelspec": {
   "display_name": "Python 3.9.12 ('base')",
   "language": "python",
   "name": "python3"
  },
  "language_info": {
   "name": "python",
   "version": "3.9.12"
  },
  "orig_nbformat": 4,
  "vscode": {
   "interpreter": {
    "hash": "463226f144cc21b006ce6927bfc93dd00694e52c8bc6857abb6e555b983749e9"
   }
  }
 },
 "nbformat": 4,
 "nbformat_minor": 2
}
