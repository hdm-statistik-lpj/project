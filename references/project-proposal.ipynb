{
 "cells": [
  {
   "cell_type": "markdown",
   "metadata": {},
   "source": [
    "# Project proposal\n",
    "\n",
    "---\n",
    "\n",
    "Group name: Lena Breitberg, Ji Huixiao, Paraskevas Papadopoulos\n",
    "\n",
    "---\n"
   ]
  },
  {
   "cell_type": "markdown",
   "metadata": {},
   "source": [
    "## Einleitung\n",
    "\n",
    "Der Immobilienmarkt, als ein komplexer und dynamischer Wirtschaftsbereich, hat schon lange das Interesse von Forschern geweckt, die die Faktoren verstehen möchten, die den Wert von Immobilien beeinflussen. Diese Studie konzentriert sich darauf, die Determinanten der Wohnungspreise in der Stadt Nürnberg, Deutschland, zu untersuchen. Das Verständnis des marginalen Effekts einzelner Merkmale ist für verscheide Marktteilnehmer von Interesse, darunter Wohnungskäufer, Immobilienmakler und Bauträger.\n",
    "\n",
    "Ein weiterer Aspekt dieser Studie richtet sich auf die langjährige Förderung der energieeffizienten Sanierung von Wohnungsgebäuden durch sowohl den Bund als auch die Länder in Deutschland. In den letzten Jahren wurden verschiedene Förderprogramme implementiert, und diese Studie wird den Fokus darauf legen, die Wirksamkeit dieser Programme zu evaluieren. Die Frage nach dem Erfolg dieser Programme ist von erheblichem Interesse sowohl für die Fördergeber als auch für andere Marktteilnehmer.\n",
    "\n",
    "### Die Motivation unserer Forschungsfrage (unter Berücksichtigung einschlägiger Literatur)\n",
    "\n",
    "Eine Immobilie setzt sich aus verschiedenen Merkmalen zusammen, von denen jedes den Gesamtwert beeinflussen kann. Der Preis der individuellen Merkmale kann jedoch nicht direkt beobachtet werden. In ihrer Arbeit von 1980 vergleichen Malpezzi, Ozanne und Thibodeau Immobilien mit einem Einkaufswagen für Lebensmittel. Jeder Lebensmittelwagen eines Haushalts enthält unterschiedliche Lebensmittel - genauso heterogen wie Immobilien. Im Gegensatz zu Lebensmitteln kann der Preis einzelner Immobilienmerkmale jedoch nicht direkt beobachtet werden. Die Heterogenität auf dem Wohnungsmarkt bezieht sich darauf, dass Wohnungen unterschiedliche Merkmale aufweisen, sei es in Bezug auf Größe, Ausstattung, Lage oder andere Eigenschaften. Da die Präferenzen und Bedürfnisse der Verbraucher variieren, ist es naheliegend anzunehmen, dass diese verschiedenen Merkmale unterschiedlich bewertet werden.\n",
    "\n",
    "Die hedonische Regressionsanalyse wird oft verwendet, um den marginalen Beitrag einzelner Merkmale zum Gesamtwert einer Immobilie zu schätzen. Diese Methode reicht mindestens bis zu Court (1939) und Griliches (1961) zurück, während Lancaster (1966) und Rosen (1974) die konzeptuellen Grundlagen für diesen Ansatz legten. Lancaster's (1966) Ansatz betont, dass nicht die Immobilie selbst, sondern die individuellen Merkmale den Nutzen schaffen. Rosen (1974) wiederum beschreibt, dass der Preis einer Immobilie die Summe der individuellen Preise ihrer Merkmale ist. Das hedonische Modell versucht, die Vielfalt und Unterschiede in den Immobilien zu berücksichtigen, indem es eine analytische Struktur schafft, die es ermöglicht, den Beitrag jedes einzelnen Merkmals zum Gesamtpreis einer Immobilie zu quantifizieren. Es erfolgt lediglich die Bewertung der spezifischen Merkmale der Immobilie, nicht jedoch der Immobilie als Gesamtheit.\n",
    "\n",
    "Aufgrund der Nichtlinearität von Immobilienpreise werden in vielen Studien log-lineare Modelle verwendet (siehe Malpezzi 2002). Diese Modelle ermöglichen eine Variation im Geldwert eines bestimmten Merkmals, wodurch der Preis dieses Merkmals teilweise von anderen Merkmalen der Immobilien abhängt. Im Handbuch zu Immobilien-Preisindizes des Statistischen Amtes der Europäischen Union u.a. (2013) erwähnen die Autoren, dass log-lineare Modelle recht gut funktionieren, wenn die Grundstücksgröße nicht als unabhängige Variable einbezogen wird (weil diese möglicherweise nicht vorliegt).\n",
    "\n",
    "Sirmans und Macpherson (2003) fassen aus mehreren Studien die wichtigsten Immobilienmerkmale zusammen, die zur Spezifizierung hedonischer Preisgleichungen verwendet wurden. Dazu gehören das Baujahr der Immobilie, die Quadratmeteranzahl, Garage, Kamin und Grundstücksgröße. Weitere relevanten Merkmale sind Schlafzimmer, Badezimmer, Swimmingpool und Keller. Zudem scheint die Zeit auf dem Markt sehr oft als Merkmal zu fungieren. In den meisten Studien zeigen die Merkmale den erwarteten Effekt auf den Verkaufspreis: Das Alter und die Zeit auf dem Markt haben meistens einen negativen Einfluss, während alle anderen Merkmale oft einen positiven Effekt auf den Verkaufspreis aufweisen.\n",
    "\n",
    "Theoretisch können unendlich viele Merkmale einer Immobilie als unabhängige Variablen fungieren. Laut Malpezzi (2003, Seite 7) sollte ein vollständiger Datensatz folgende Immobilien-Merkmale enthalten:\n",
    "\n",
    "    Zimmer, insgesamt und nach Typ (Schlafzimmer, Badezimmer, etc.)\n",
    "    Wohnfläche\n",
    "    Immobilientyp (Wohnung, Haus, etc.)\n",
    "    Heizungsart\n",
    "    Baujahr\n",
    "    Andere strukturelle Merkmale (Keller, Kamin, Garage, etc.)\n",
    "    Baumaterialien\n",
    "    Nachbarschaftsvariablen (Schulqualität, etc.)\n",
    "    Zugang zu Annehmlichkeiten (Einkaufszentren, Schulen, etc.)\n",
    "    Merkmale des Mieters (Dauer, etc.)\n",
    "\n",
    "Es ist erkennbar, dass einige dieser unabhängigen Variablen eine hohe Korrealtion aufweisen können. Zum Beispiel könnte eine Nachbarschaftsvariable im Modell als hoch signifikant erscheinen, aber in Wirklichkeit spiegelt die statistische Signifikanz möglicherweise die Nähe zu einer bestimmten Annehmlichkeit wider. Aufgrund dessen kann die Interpretation der individuellen Koeffizienten schwieriger sein (Sirmans und Macpherson, 2003). Im Handbuch zu Immobilien-Preisindizes des Statistischen Amtes der Europäischen Union u.a. (2013) raten die Autorern eine relevante Variable einzubeziehen, selbst wenn dies zu Multikollinearität führen kann, als sie auszulassen, da letzteres zu einem Bias durch weggelassene Variablen führen würde. Die Autoren führen weiter auf, dass die Entscheidung oft von den spezifischen Anforderung der Analyse abhängt.\n",
    "\n",
    "Um die zweite Forschungsfrage zu beantworten, greift diese Studie auf einen innovativen Ansatz zurück, indem sie erstmalig versucht, mithilfe einer Klassifikationsregression die Energieeffizienzklasse von Wohnungen in Nürnberg vorherzusagen. Die Auswahl der unabhängigen Variablen, insbesondere Baujahr und Heizungsart, reflektiert die Relevanz dieser Faktoren für die energetische Bewertung. Zusätzlich werden im Modell weitere Variablen als Kontrollvariablen berücksichtigt. Die Hypothesen dieser Untersuchung zielen darauf ab, statistische Signifikanz in den einzelnen Variablen nachzuweisen. Fehlende Signifikanz der Variablen Baujahr und Heizungsart könnte darauf hinweisen, dass die durchgeführten Förderprogramme ihren Zweck erfüllt und eine positive Veränderung in der Energieeffizienzklasse bewirkt haben (unter der Annahme, dass je älter ein Gebäude ist und keine Sanierung erfolgte, desto niedriger die Energieeffizienzklasse ist).\n",
    "\n",
    "### Allgemeine Forschungfrage\n",
    "\n",
    "Wie beeinflussen verschiedene Merkmale wie Wohnungsgröße, Anzahl der Schlafzimmer und Badezimmer, Stadtviertel, Nähe zu lokalen Annehmlichkeiten, Alter der Wohnung, energetische Effizienz und Nähe zum Nahverkehr in ihrer Gesamtheit den Preis von Wohnungen auf dem Immobilienmarkt?\n",
    "\n",
    "### Hypothesen\n",
    "\n",
    "H1: Die Wohnungsgröße einer Wohnung übt einen positiven linearen Einfluss auf den Preis aus, wobei größere Wohnungen höhere Preise auf dem Immobilienmarkt erzielen.\n",
    "\n",
    "H2: Die Anzahl der Schlafzimmer einer Wohnung hat einen positiven, linearen Zusammenhang mit dem Preis, wobei Wohnungen mit mehr Schlafzimmern zu höheren Preisen angeboten werden.\n",
    "\n",
    "H3: Die Anzahl der Badezimmer einer Wohnung hat einen positiven, linearen Effekt auf den Preis, sodass Wohnungen mit einer höheren Anzahl von Badezimmern zu höheren Preisen verfügbar sind.\n",
    "\n",
    "H4: Das Stadtviertel, in dem sich die Wohnung befindet, hat einen signifikanten, möglicherweise nicht-linearen Einfluss auf den Preis, wobei bestimmte Stadtviertel höhere Preise aufweisen können als andere.\n",
    "\n",
    "H5: Die Nähe zu lokalen Annehmlichkeiten des täglichen Bedarfs hat einen positiven linearen Effekt auf den Preis, da eine bessere Erreichbarkeit dieser Einrichtungen den Wert der Wohnung steigert.\n",
    "\n",
    "H6: Das Alter einer Wohnung hat einen negativen linearen Einfluss auf den Preis, wobei neuere Wohnungen tendenziell höhere Preise erzielen.\n",
    "\n",
    "H7: Eine verbesserte energetische Effizienz einer Wohnung hat einen positiven, möglicherweise nicht-linearen Effekt auf den Preis, da energieeffiziente Wohnungen als qualitativ hochwertiger angesehen werden könnten.\n",
    "\n",
    "H8: Die Nähe zum Nahverkehr hat einen positiven linearen Einfluss auf den Preis, wobei Wohnungen in der Nähe von Nahverkehrsinfrastruktur zu höheren Preisen angeboten werden.\n",
    "\n",
    "\n"
   ]
  },
  {
   "cell_type": "markdown",
   "metadata": {},
   "source": [
    "\n",
    "## Datensatzbeschreibung für Exploration\n",
    "\n",
    "In diesem Abschnitt geben wir eine Beschreibung des Datensatzes, der für die bevorstehende Datenexploration und -analyse verwendet wird. Der Datensatz umfasst Beobachtungen im Zusammenhang mit Immobilien, die zum Kauf in Nürnberg verfügbar sind, wobei der Fokus auf Wohnungen liegt.\n",
    "\n",
    "### Beschreibung der Beobachtungen:\n",
    "\n",
    "Der Datensatz umfasst Informationen zu Wohnungen, die am 09.11.2023 auf der [Immowelt-Website](https://www.immowelt.de) zum Kauf in Nürnberg verfügbar waren. Jede Beobachtung repräsentiert ein bestimmtes Immobilienangebot und enthält Details wie Baujahr, Preis, Standort und zusätzliche relevante Merkmale. \n",
    "\n",
    "### Ursprüngliche Datensammlung:\n",
    "\n",
    "Die Daten wurden durch das Scrapen der Immowelt-Website am 09.11.2023 gesammelt. Der Prozess umfasste die Anwendung von Web-Scraping-Techniken, um Informationen aus den Immobilienangeboten der Website zu extrahieren und dabei spezifische Suchkriterien zu berücksichtigen (Ort=Nürnberg, Immobilientyp=Wohnung, Transaktionstyp=Kauf). Jede Beobachtung im Datensatz entspricht einem eindeutigen Immobilienangebot, das auf Immowelt verfügbar war.\n",
    "\n",
    "Der ursprüngliche Kurator der Daten ist in diesem Fall Immowelt, das als umfassende Plattform für Immobilienangebote fungiert. Immowelt sammelt und präsentiert Immobilieninformationen, die von Immobilienverkäufern, Immobilienmaklern und anderen Beteiligten eingereicht werden. "
   ]
  },
  {
   "cell_type": "markdown",
   "metadata": {},
   "source": [
    "\n",
    "## Analyseansatz\n",
    "\n",
    "### Übersicht über Analyseansatz\n",
    "\n",
    "- Beschreibung der abhängigen Variablen\n",
    "\n",
    "Die unabhängige Variable \"Preis\" (PRICE) repräsentiert den vom Verkäufer angegebenen Wunschpreis für die Immobilie. Hierbei handelt es sich nicht um den tatsächlichen Verkaufspreis, da die Transaktion zu diesem Zeitpunkt noch nicht abgeschlossen ist. Da die Immobilien unterschiedlich lange auf dem Markt veröffentlicht sein könnten, könnte es zu Preisanpassungen gekommen sein, die wiederum näher am letztendlichen Transaktionspreis liegen. Der angegebene Wunschpreis spiegelt die finanziellen Erwartungen der Verkäufer wider. Für die weitere Analyse werden wir die Annahme treffen, dass der Wunschpreis dem tatsächlich erzielten Verkaufspreis (Transaktionspreis) entspricht.\n",
    "\n",
    "    - PRICE (Der Preis der Immobilie)\n",
    "-   Visualization and summary statistics for the response variable.\n",
    "-   List of variables that will be considered as predictors\n",
    "\n",
    "    - General.ConstructionYear (Das Baujahr der Immobilie)\n",
    "    - General.LivingSpace (Die Wohnfläche der Immobilie)\n",
    "    - Tealium.object_count_photos (Die Anzahl der Fotos der Immobilie)\n",
    "    - LocalRatings.scores.local_amenities (Bewertungen der lokalen Annehmlichkeiten)\n",
    "    - LocalRatings.scores.mobility (Bewertungen des Nahverkehrs)\n",
    "    - Latitude (Die geografische Breite des Standorts)\n",
    "    - Longitude (Die geografische Länge des Standorts)\n",
    "    - ROOMS (Die Anzahl der Zimmer in der Immobilie)\n",
    "    - PRICE_COMMONCHARGE (Die monatlichen Nebenkosten)\n",
    "    - Value (Endenergieverbrauch in kWh/(m²·a))\n",
    "    - ELEVATOR (Die Verfügbarkeit eines Aufzugs)\n",
    "    - EQUIPMENTS (Informationen über die Ausstattung)\n",
    "    - HEATING (Heizungsart)\n",
    "-   Your model type (what kind of model(s) will you use ... e.g. linear regression)\n",
    "    - lineare Regression\n",
    "    - Klassifizierung"
   ]
  },
  {
   "cell_type": "markdown",
   "metadata": {},
   "source": [
    "## Data dictionary\n",
    "\n",
    "*Create a data dictionary for all the variables in your data set. You may fill out the data description table or create your own table with Pandas:*\n",
    "\n",
    "<br>\n",
    "\n",
    "\n",
    "| Name  |   Description\t| Role   \t| Type   \t|  Format \t|\n",
    "|---\t|---\t        |---    \t|---\t    |---\t|\n",
    "|   \t|   \t        |   \t    |   \t    |   \t|\n",
    "|   \t|   \t        |   \t    |   \t    |   \t|\n",
    "|   \t|   \t        |   \t    |   \t    |   \t|\n",
    "\n",
    "\n",
    "<br>\n",
    "\n",
    "- `Role`: response, predictor, ID (ID columns are not used in a model but can help to better understand the data)\n",
    "\n",
    "- `Type`: nominal, ordinal or numeric\n",
    "\n",
    "- `Format`: int, float, string, category, date or object"
   ]
  },
  {
   "cell_type": "markdown",
   "metadata": {},
   "source": []
  }
 ],
 "metadata": {
  "kernelspec": {
   "display_name": "Python 3.9.12 ('base')",
   "language": "python",
   "name": "python3"
  },
  "language_info": {
   "name": "python",
   "version": "3.9.12"
  },
  "orig_nbformat": 4,
  "vscode": {
   "interpreter": {
    "hash": "463226f144cc21b006ce6927bfc93dd00694e52c8bc6857abb6e555b983749e9"
   }
  }
 },
 "nbformat": 4,
 "nbformat_minor": 2
}
