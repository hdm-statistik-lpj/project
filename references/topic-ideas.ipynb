{
 "cells": [
  {
   "cell_type": "markdown",
   "metadata": {},
   "source": [
    "# Topic ideas\n",
    "\n",
    "---\n",
    "\n",
    "Group name: Lena Breitberg, Ji Huixiao, Paraskevas Papadopoulos\n",
    "\n",
    "---\n",
    "\n"
   ]
  },
  {
   "cell_type": "markdown",
   "metadata": {},
   "source": [
    "## Analytics of Immovable Property \n",
    "\n",
    "### Data source\n",
    "\n",
    "*State the source of the data set and describe when and how it was originally collected (by the original data curator, not necessarily how you found the data)*\n",
    "\n",
    "\n",
    "### Data characterisitcs\n",
    "\n",
    " *Describe the observations and the general characteristics being measured in the data (note that the data needs to meet the  criteria described in the project description)*\n",
    "\n",
    "### Research question\n",
    "\n",
    "*Describe a research question you're interested in answering using this data. State the response variable and possible predictor variables.*\n",
    "\n",
    "### Overview of data\n",
    "\n",
    "*Use the Pandas functions to provide an overview of the data set*\n"
   ]
  },
  {
   "cell_type": "code",
   "execution_count": null,
   "metadata": {},
   "outputs": [],
   "source": []
  },
  {
   "cell_type": "markdown",
   "metadata": {},
   "source": [
    "## Analytics of Supply Chain Shipment Pricing Data\n",
    "\n",
    "### Data source\n",
    "\n",
    "*This data set provides supply chain health commodity shipment and pricing data. Specifically, the data set identifies Antiretroviral (ARV) and HIV lab shipments to supported countries. In addition, the data set provides the commodity pricing and associated supply chain expenses necessary to move the commodities to countries for use. The dataset has similar fields to the Global Fund's Price, Quality and Reporting (PQR) data. PEPFAR and the Global Fund represent the two largest procurers of HIV health commodities. This dataset, when analyzed in conjunction with the PQR data, provides a more complete picture of global spending on specific health commodities. The data are particularly valuable for understanding ranges and trends in pricing as well as volumes delivered by country. The US Government believes this data will help stakeholders make better, data-driven decisions. Care should be taken to consider contextual factors when using the database. Conclusions related to costs associated with moving specific line items or products to specific countries and lead times by product/country will not be accurate.*\n",
    "\n",
    "*source: https://data.usaid.gov/HIV-AIDS/Supply-Chain-Shipment-Pricing-Data/a3rc-nmf6*\n",
    "\n",
    "\n",
    "### Data characterisitcs\n",
    "\n",
    " *Describe the observations and the general characteristics being measured in the data (note that the data needs to meet the  criteria described in the project description)*\n",
    "\n",
    "### Research question\n",
    "\n",
    "*Describe a research question you're interested in answering using this data. State the response variable and possible predictor variables.*\n",
    "\n",
    "### Overview of data\n",
    "\n",
    "*Use the Pandas functions to provide an overview of the data set*\n"
   ]
  },
  {
   "cell_type": "code",
   "execution_count": null,
   "metadata": {},
   "outputs": [],
   "source": []
  }
 ],
 "metadata": {
  "kernelspec": {
   "display_name": "Python 3.9.12 ('base')",
   "language": "python",
   "name": "python3"
  },
  "language_info": {
   "name": "python",
   "version": "3.9.12"
  },
  "orig_nbformat": 4,
  "vscode": {
   "interpreter": {
    "hash": "463226f144cc21b006ce6927bfc93dd00694e52c8bc6857abb6e555b983749e9"
   }
  }
 },
 "nbformat": 4,
 "nbformat_minor": 2
}
