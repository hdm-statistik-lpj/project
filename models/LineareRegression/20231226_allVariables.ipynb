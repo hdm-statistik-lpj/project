{
 "cells": [
  {
   "cell_type": "markdown",
   "id": "9064260b",
   "metadata": {},
   "source": [
    "Basierend auf unserer fachlichen Expertise und der explorativen Datenanalyse (EDA) könnten folgende Variablen relevant sein, um den Preis einer Immobilie vorherzusagen:\n",
    "\n",
    "1. Standortbezogene Variablen\n",
    "   - distanceToCenter: Entfernung zum Zentrum\n",
    "   - northeast, northwest, southeast, southwest: Spezifische Standorte\n",
    "\n",
    "2. Grundlegende Eigenschaften\n",
    "   - constructionYear: Baujahr des Objekts\n",
    "   - livingSpace: Wohnfläche in Quadratmetern (auch log_livingspace wird berücksichtigt)\n",
    "\n",
    "3. Energie und Nachhaltigkeit\n",
    "   - energyClass: Energieeffizienzklasse\n",
    "   - energySources: Energieträger des Objekts\n",
    "\n",
    "4. Komfort und Ausstattung\n",
    "   - elevator: Vorhandensein eines Aufzugs\n",
    "   - sauna: Vorhandensein einer Sauna\n",
    "   - swimmingpool: Vorhandensein eines Swimmingpools\n",
    "   - kitchenEquipped: Ausgestattete Küche\n",
    "   - cellar: Vorhandensein eines Kellers\n",
    "   - storageRoom: Abstellraum\n",
    "\n",
    "5. Zugänglichkeit und zusätzliche Merkmale\n",
    "   - wheelchairAccessible: Barrierefreiheit\n",
    "   - assistedLiving: Betreutes Wohnen\n",
    "\n",
    "6. Außenbereich und Extras\n",
    "   - parkingSlots: Parkplätze\n",
    "   - privateOutdoorSpace: Privater Außenbereich\n",
    "   - chimney: Kamin\n",
    "   - cuestToilet: Gäste-WC\n",
    "   - attics: Wohnung im Dachgeschoss\n",
    "\n",
    "7. Zielvariable\n",
    "   - price und log_price: Preis des Objekts (Predictor)"
   ]
  },
  {
   "cell_type": "code",
   "execution_count": 1,
   "id": "ee6b959b",
   "metadata": {},
   "outputs": [],
   "source": [
    "import numpy as np\n",
    "import pandas as pd\n",
    "\n",
    "from scipy import stats\n",
    "import statsmodels.formula.api as smf\n",
    "import ast\n",
    "\n",
    "import matplotlib.pyplot as plt\n",
    "%matplotlib inline \n",
    "import seaborn as sns  \n",
    "\n",
    "# seaborn settings\n",
    "custom_params = {\"axes.spines.right\": False, \"axes.spines.top\": False}\n",
    "sns.set_theme(style=\"ticks\", rc=custom_params)\n",
    "\n",
    "import altair as alt\n",
    "import sklearn\n",
    "from sklearn.linear_model import LinearRegression\n",
    "from sklearn.metrics import mean_squared_error\n",
    "from sklearn.model_selection import train_test_split"
   ]
  },
  {
   "cell_type": "code",
   "execution_count": 2,
   "id": "50ba6e3d",
   "metadata": {},
   "outputs": [],
   "source": [
    "filePath = r'https://raw.githubusercontent.com/hdm-statistik-lpj/project/main/data/external/immobilienNuernberg_cleaned.csv'\n",
    "df = pd.read_csv(filePath)"
   ]
  },
  {
   "cell_type": "code",
   "execution_count": 3,
   "id": "bea13ade",
   "metadata": {},
   "outputs": [
    {
     "data": {
      "text/plain": [
       "Index(['location', 'Northeast', 'Northwest', 'Southeast', 'Southwest',\n",
       "       'energyEfficiency', 'price', 'constructionYear', 'livingSpace',\n",
       "       'energySources', 'photosCount', 'localAmenitiesScore',\n",
       "       'localMobilityScore', 'latitudeDistrict', 'longitudeDistrict',\n",
       "       'distanceToCenter', 'district', 'rooms', 'energyClass', 'elevator',\n",
       "       'sauna', 'swimmingpool', 'kitchenEqipped', 'cellar', 'storageRoom',\n",
       "       'wheelchairAccessible', 'assistedLiving', 'parkingSlots', 'guestToilet',\n",
       "       'privateOutdoorSpace', 'chimney', 'attics'],\n",
       "      dtype='object')"
      ]
     },
     "execution_count": 3,
     "metadata": {},
     "output_type": "execute_result"
    }
   ],
   "source": [
    "df.columns"
   ]
  },
  {
   "cell_type": "code",
   "execution_count": 4,
   "id": "6e97dd01",
   "metadata": {},
   "outputs": [],
   "source": [
    "# Nummerische Variablen\n",
    "df['constructionYear'] = df['constructionYear'].astype(int)\n",
    "df['livingSpace'] = df['livingSpace'].astype(float)\n",
    "df['photosCount'] = df['photosCount'].astype(int)\n",
    "df['localAmenitiesScore'] = df['localAmenitiesScore'].astype(float)\n",
    "df['localMobilityScore'] = df['localMobilityScore'].astype(float)\n",
    "df['latitudeDistrict'] = df['latitudeDistrict'].astype(float)\n",
    "df['longitudeDistrict'] = df['longitudeDistrict'].astype(float)\n",
    "df['distanceToCenter'] = df['distanceToCenter'].astype(float)\n",
    "df['price'] = df['price'].astype(float)\n",
    "df['rooms'] = df['rooms'].astype(float)\n",
    "\n",
    "# Kategorische Variablen\n",
    "df['district'] = df['district'].astype('category')\n",
    "df['location'] = df['location'].astype('category')\n",
    "df['energyClass'] = df['energyClass'].astype('category')\n",
    "df['energySources'] = df['energySources'].astype('category')\n",
    "\n",
    "# Binäre Variablen\n",
    "binaryColumns = ['elevator', 'sauna', 'swimmingpool', 'kitchenEqipped', \n",
    "                  'cellar', 'storageRoom', 'wheelchairAccessible', 'assistedLiving', \n",
    "                  'parkingSlots', 'guestToilet', 'privateOutdoorSpace', \n",
    "                  'chimney', 'attics', 'energyEfficiency', \n",
    "                  'Northeast', 'Northwest', 'Southeast', 'Southwest']\n",
    "\n",
    "for col in binaryColumns:\n",
    "    df[col] = df[col].astype('category')"
   ]
  },
  {
   "cell_type": "code",
   "execution_count": null,
   "id": "b4d7ccfd-21df-4b1a-a9e8-b9adbd738b88",
   "metadata": {},
   "outputs": [],
   "source": []
  },
  {
   "cell_type": "code",
   "execution_count": 5,
   "id": "8c308784",
   "metadata": {},
   "outputs": [],
   "source": [
    "# Modell 1: 'price' als abhängige Variable\n",
    "X_price = df.drop('price', axis=1)\n",
    "y_price = df['price']\n",
    "X_price['log_livingSpace'] = np.log(X_price['livingSpace'])"
   ]
  },
  {
   "cell_type": "code",
   "execution_count": 6,
   "id": "c37178ec",
   "metadata": {},
   "outputs": [],
   "source": [
    "# Aufteilen der Daten für das Modell mit 'price' als abhängige Variable\n",
    "X_train_price, X_test_price, y_train_price, y_test_price = train_test_split(\n",
    "    X_price, y_price, test_size=0.2, random_state=42, stratify=df['energyClass'])\n",
    "df_train_price = pd.concat([X_train_price, y_train_price], axis=1)\n",
    "df_test_price = pd.concat([X_test_price, y_test_price], axis=1)"
   ]
  },
  {
   "cell_type": "code",
   "execution_count": 7,
   "id": "e7b3ac58",
   "metadata": {},
   "outputs": [
    {
     "name": "stdout",
     "output_type": "stream",
     "text": [
      "                            OLS Regression Results                            \n",
      "==============================================================================\n",
      "Dep. Variable:          np.log(price)   R-squared:                       0.855\n",
      "Model:                            OLS   Adj. R-squared:                  0.840\n",
      "Method:                 Least Squares   F-statistic:                     58.16\n",
      "Date:                Tue, 26 Dec 2023   Prob (F-statistic):          8.32e-158\n",
      "Time:                        15:06:05   Log-Likelihood:                 124.94\n",
      "No. Observations:                 490   AIC:                            -157.9\n",
      "Df Residuals:                     444   BIC:                             35.06\n",
      "Df Model:                          45                                         \n",
      "Covariance Type:            nonrobust                                         \n",
      "=============================================================================================\n",
      "                                coef    std err          t      P>|t|      [0.025      0.975]\n",
      "---------------------------------------------------------------------------------------------\n",
      "Intercept                     4.6558      0.812      5.733      0.000       3.060       6.252\n",
      "location[T.2]                -0.0617      0.032     -1.911      0.057      -0.125       0.002\n",
      "location[T.3]                -0.1508      0.028     -5.334      0.000      -0.206      -0.095\n",
      "location[T.4]                -0.1172      0.026     -4.591      0.000      -0.167      -0.067\n",
      "energyClass[T.2]             -0.0249      0.087     -0.286      0.775      -0.196       0.146\n",
      "energyClass[T.3]             -0.1518      0.078     -1.938      0.053      -0.306       0.002\n",
      "energyClass[T.4]             -0.3988      0.078     -5.145      0.000      -0.551      -0.246\n",
      "energyClass[T.5]             -0.4200      0.077     -5.479      0.000      -0.571      -0.269\n",
      "energyClass[T.6]             -0.4263      0.078     -5.432      0.000      -0.581      -0.272\n",
      "energyClass[T.7]             -0.4154      0.084     -4.935      0.000      -0.581      -0.250\n",
      "energyClass[T.8]             -0.3665      0.095     -3.874      0.000      -0.552      -0.181\n",
      "energyClass[T.9]             -0.3854      0.163     -2.360      0.019      -0.706      -0.065\n",
      "energySources[T.2.0]         -0.0171      0.026     -0.647      0.518      -0.069       0.035\n",
      "energySources[T.3.0]         -0.0430      0.033     -1.322      0.187      -0.107       0.021\n",
      "energySources[T.4.0]         -0.0322      0.054     -0.595      0.552      -0.139       0.074\n",
      "energySources[T.5.0]          0.0243      0.105      0.231      0.818      -0.183       0.231\n",
      "energySources[T.6.0]          0.0669      0.095      0.700      0.484      -0.121       0.255\n",
      "energySources[T.7.0]          0.0375      0.075      0.497      0.620      -0.111       0.186\n",
      "energySources[T.8.0]         -0.0511      0.086     -0.597      0.551      -0.220       0.117\n",
      "energySources[T.9.0]         -0.0958      0.101     -0.948      0.344      -0.294       0.103\n",
      "energySources[T.10.0]         0.0685      0.091      0.755      0.451      -0.110       0.247\n",
      "energySources[T.11.0]         0.0690      0.213      0.323      0.746      -0.350       0.488\n",
      "energySources[T.12.0]        -0.1641      0.144     -1.138      0.256      -0.448       0.119\n",
      "energySources[T.13.0]        -0.0474      0.160     -0.296      0.767      -0.362       0.267\n",
      "energySources[T.14.0]         0.1115      0.202      0.552      0.581      -0.286       0.509\n",
      "energySources[T.15.0]        -0.1021      0.200     -0.511      0.610      -0.495       0.290\n",
      "energySources[T.16.0]     -1.147e-16   1.81e-16     -0.635      0.526    -4.7e-16    2.41e-16\n",
      "energySources[T.18.0]        -0.0401      0.214     -0.187      0.852      -0.461       0.381\n",
      "energySources[T.19.0]        -0.1500      0.200     -0.750      0.454      -0.543       0.243\n",
      "energySources[T.21.0]        -0.1573      0.214     -0.733      0.464      -0.579       0.264\n",
      "energySources[T.22.0]        -0.1618      0.200     -0.811      0.418      -0.554       0.230\n",
      "elevator[T.1]                 0.0066      0.024      0.278      0.781      -0.040       0.053\n",
      "sauna[T.1]                    0.1770      0.120      1.472      0.142      -0.059       0.413\n",
      "swimmingpool[T.1]            -0.0237      0.190     -0.125      0.901      -0.396       0.349\n",
      "kitchenEqipped[T.1]           0.0573      0.020      2.868      0.004       0.018       0.097\n",
      "cellar[T.1]                   0.0398      0.024      1.668      0.096      -0.007       0.087\n",
      "storageRoom[T.1]              0.0349      0.024      1.476      0.141      -0.012       0.081\n",
      "wheelchairAccessible[T.1]    -0.0709      0.067     -1.053      0.293      -0.203       0.061\n",
      "assistedLiving[T.1]           0.0162      0.085      0.191      0.849      -0.150       0.183\n",
      "parkingSlots[T.1]             0.0234      0.023      1.012      0.312      -0.022       0.069\n",
      "privateOutdoorSpace[T.1]     -0.0100      0.022     -0.451      0.652      -0.053       0.033\n",
      "chimney[T.1]                 -0.0715      0.076     -0.937      0.349      -0.222       0.079\n",
      "guestToilet[T.1]              0.0015      0.026      0.057      0.955      -0.050       0.053\n",
      "attics[T.1]                   0.0609      0.041      1.492      0.136      -0.019       0.141\n",
      "log_livingSpace               0.9765      0.028     34.373      0.000       0.921       1.032\n",
      "distanceToCenter             -0.0075      0.005     -1.465      0.144      -0.017       0.003\n",
      "constructionYear              0.0021      0.000      5.172      0.000       0.001       0.003\n",
      "==============================================================================\n",
      "Omnibus:                        7.572   Durbin-Watson:                   2.080\n",
      "Prob(Omnibus):                  0.023   Jarque-Bera (JB):               10.683\n",
      "Skew:                          -0.101   Prob(JB):                      0.00479\n",
      "Kurtosis:                       3.695   Cond. No.                     1.00e+16\n",
      "==============================================================================\n",
      "\n",
      "Notes:\n",
      "[1] Standard Errors assume that the covariance matrix of the errors is correctly specified.\n",
      "[2] The smallest eigenvalue is 1.91e-23. This might indicate that there are\n",
      "strong multicollinearity problems or that the design matrix is singular.\n"
     ]
    }
   ],
   "source": [
    "import statsmodels.formula.api as smf\n",
    "\n",
    "# formula \n",
    "formula = 'np.log(price) ~ log_livingSpace + distanceToCenter + location + constructionYear + energyClass + energySources + elevator + sauna + swimmingpool + kitchenEqipped + cellar + storageRoom + wheelchairAccessible + assistedLiving + parkingSlots + privateOutdoorSpace + chimney + guestToilet + attics'\n",
    "\n",
    "# Fit \n",
    "model = smf.ols(formula=formula, data=df_train_price).fit()\n",
    "\n",
    "# summary\n",
    "print(model.summary())"
   ]
  },
  {
   "cell_type": "markdown",
   "id": "ea28fc05",
   "metadata": {},
   "source": [
    "Die meisten Kategorien von energySources sind statistisch nicht signifikant (hoher p-Wert). Dies deutet, dass sie keinen starken Einfluss auf den Immobilienpreis haben.\n",
    "Nur energySources[T.16.0] (Blockheizkraftwerk, Fernwärme) ist statistisch signifikant, aber mit einem sehr kleinen Koeffizienten."
   ]
  },
  {
   "cell_type": "markdown",
   "id": "2d0297b7",
   "metadata": {},
   "source": [
    "#### Die Variable energySources wir im nächsten Modell nicht berücksichtigt"
   ]
  }
 ],
 "metadata": {
  "kernelspec": {
   "display_name": "Python 3 (ipykernel)",
   "language": "python",
   "name": "python3"
  },
  "language_info": {
   "codemirror_mode": {
    "name": "ipython",
    "version": 3
   },
   "file_extension": ".py",
   "mimetype": "text/x-python",
   "name": "python",
   "nbconvert_exporter": "python",
   "pygments_lexer": "ipython3",
   "version": "3.10.13"
  }
 },
 "nbformat": 4,
 "nbformat_minor": 5
}
