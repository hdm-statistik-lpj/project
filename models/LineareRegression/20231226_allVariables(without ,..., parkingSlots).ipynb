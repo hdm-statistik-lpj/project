{
 "cells": [
  {
   "cell_type": "markdown",
   "id": "9064260b",
   "metadata": {},
   "source": [
    "Basierend auf unserer fachlichen Expertise und der explorativen Datenanalyse (EDA) könnten folgende Variablen relevant sein, um den Preis einer Immobilie vorherzusagen:\n",
    "\n",
    "1. Standortbezogene Variablen\n",
    "   - distanceToCenter: Entfernung zum Zentrum\n",
    "   - northeast, northwest, southeast, southwest: Spezifische Standorte\n",
    "\n",
    "2. Grundlegende Eigenschaften\n",
    "   - constructionYear: Baujahr des Objekts\n",
    "   - livingSpace: Wohnfläche in Quadratmetern (auch log_livingspace wird berücksichtigt)\n",
    "   \n",
    "3. Energie und Nachhaltigkeit\n",
    "   - energyClass: Energieeffizienzklasse\n",
    "   - energySources: Energieträger des Objekts **(entfernt - statisch nicht signifikant)**\n",
    "\n",
    "4. Komfort und Ausstattung\n",
    "   - elevator: Vorhandensein eines Aufzugs\n",
    "   - sauna: Vorhandensein einer Sauna\n",
    "   - swimmingpool: Vorhandensein eines Swimmingpools\n",
    "   - kitchenEquipped: Ausgestattete Küche\n",
    "   - cellar: Vorhandensein eines Kellers\n",
    "   - storageRoom: Abstellraum\n",
    "\n",
    "5. Zugänglichkeit und zusätzliche Merkmale\n",
    "   - wheelchairAccessible: Barrierefreiheit\n",
    "   - assistedLiving: Betreutes Wohnen\n",
    "\n",
    "6. Außenbereich und Extras\n",
    "   - parkingSlots: Parkplätze\n",
    "   - privateOutdoorSpace: Privater Außenbereich\n",
    "   - chimney: Kamin\n",
    "   - cuestToilet: Gäste-WC\n",
    "   - attics: Wohnung im Dachgeschoss\n",
    "\n",
    "7. Zielvariable\n",
    "   - price und log_price: Preis des Objekts (Predictor)"
   ]
  },
  {
   "cell_type": "code",
   "execution_count": 1,
   "id": "ee6b959b",
   "metadata": {},
   "outputs": [],
   "source": [
    "import numpy as np\n",
    "import pandas as pd\n",
    "\n",
    "from scipy import stats\n",
    "import statsmodels.formula.api as smf\n",
    "import ast\n",
    "\n",
    "import matplotlib.pyplot as plt\n",
    "%matplotlib inline \n",
    "import seaborn as sns  \n",
    "\n",
    "# seaborn settings\n",
    "custom_params = {\"axes.spines.right\": False, \"axes.spines.top\": False}\n",
    "sns.set_theme(style=\"ticks\", rc=custom_params)\n",
    "\n",
    "import altair as alt\n",
    "import sklearn\n",
    "from sklearn.linear_model import LinearRegression\n",
    "from sklearn.metrics import mean_squared_error\n",
    "from sklearn.model_selection import train_test_split"
   ]
  },
  {
   "cell_type": "code",
   "execution_count": 2,
   "id": "50ba6e3d",
   "metadata": {},
   "outputs": [],
   "source": [
    "filePath = r'https://raw.githubusercontent.com/hdm-statistik-lpj/project/main/data/external/immobilienNuernberg_cleaned.csv'\n",
    "df = pd.read_csv(filePath)"
   ]
  },
  {
   "cell_type": "code",
   "execution_count": 3,
   "id": "bea13ade",
   "metadata": {},
   "outputs": [
    {
     "data": {
      "text/plain": [
       "Index(['location', 'Northeast', 'Northwest', 'Southeast', 'Southwest',\n",
       "       'energyEfficiency', 'price', 'constructionYear', 'livingSpace',\n",
       "       'energySources', 'photosCount', 'localAmenitiesScore',\n",
       "       'localMobilityScore', 'latitudeDistrict', 'longitudeDistrict',\n",
       "       'distanceToCenter', 'district', 'rooms', 'energyClass', 'elevator',\n",
       "       'sauna', 'swimmingpool', 'kitchenEqipped', 'cellar', 'storageRoom',\n",
       "       'wheelchairAccessible', 'assistedLiving', 'parkingSlots', 'guestToilet',\n",
       "       'privateOutdoorSpace', 'chimney', 'attics'],\n",
       "      dtype='object')"
      ]
     },
     "execution_count": 3,
     "metadata": {},
     "output_type": "execute_result"
    }
   ],
   "source": [
    "df.columns"
   ]
  },
  {
   "cell_type": "code",
   "execution_count": 4,
   "id": "6e97dd01",
   "metadata": {},
   "outputs": [],
   "source": [
    "# Nummerische Variablen\n",
    "df['constructionYear'] = df['constructionYear'].astype(int)\n",
    "df['livingSpace'] = df['livingSpace'].astype(float)\n",
    "df['photosCount'] = df['photosCount'].astype(int)\n",
    "df['localAmenitiesScore'] = df['localAmenitiesScore'].astype(float)\n",
    "df['localMobilityScore'] = df['localMobilityScore'].astype(float)\n",
    "df['latitudeDistrict'] = df['latitudeDistrict'].astype(float)\n",
    "df['longitudeDistrict'] = df['longitudeDistrict'].astype(float)\n",
    "df['distanceToCenter'] = df['distanceToCenter'].astype(float)\n",
    "df['price'] = df['price'].astype(float)\n",
    "df['rooms'] = df['rooms'].astype(float)\n",
    "\n",
    "# Kategorische Variablen\n",
    "df['district'] = df['district'].astype('category')\n",
    "df['location'] = df['location'].astype('category')\n",
    "df['energyClass'] = df['energyClass'].astype('category')\n",
    "df['energySources'] = df['energySources'].astype('category')\n",
    "\n",
    "# Binäre Variablen\n",
    "binaryColumns = ['elevator', 'sauna', 'swimmingpool', 'kitchenEqipped', \n",
    "                  'cellar', 'storageRoom', 'wheelchairAccessible', 'assistedLiving', \n",
    "                  'parkingSlots', 'guestToilet', 'privateOutdoorSpace', \n",
    "                  'chimney', 'attics', 'energyEfficiency', \n",
    "                  'Northeast', 'Northwest', 'Southeast', 'Southwest']\n",
    "\n",
    "for col in binaryColumns:\n",
    "    df[col] = df[col].astype('category')"
   ]
  },
  {
   "cell_type": "code",
   "execution_count": 5,
   "id": "8c308784",
   "metadata": {},
   "outputs": [],
   "source": [
    "# Modell 1: 'price' als abhängige Variable\n",
    "X_price = df.drop('price', axis=1)\n",
    "y_price = df['price']\n",
    "X_price['log_livingSpace'] = np.log(X_price['livingSpace'])"
   ]
  },
  {
   "cell_type": "code",
   "execution_count": 6,
   "id": "c37178ec",
   "metadata": {},
   "outputs": [],
   "source": [
    "# Aufteilen der Daten für das Modell mit 'price' als abhängige Variable\n",
    "X_train_price, X_test_price, y_train_price, y_test_price = train_test_split(\n",
    "    X_price, y_price, test_size=0.2, random_state=42, stratify=df['energyClass'])\n",
    "df_train_price = pd.concat([X_train_price, y_train_price], axis=1)\n",
    "df_test_price = pd.concat([X_test_price, y_test_price], axis=1)"
   ]
  },
  {
   "cell_type": "code",
   "execution_count": 7,
   "id": "e7b3ac58",
   "metadata": {
    "scrolled": true
   },
   "outputs": [
    {
     "name": "stdout",
     "output_type": "stream",
     "text": [
      "                            OLS Regression Results                            \n",
      "==============================================================================\n",
      "Dep. Variable:          np.log(price)   R-squared:                       0.850\n",
      "Model:                            OLS   Adj. R-squared:                  0.844\n",
      "Method:                 Least Squares   F-statistic:                     140.5\n",
      "Date:                Tue, 26 Dec 2023   Prob (F-statistic):          5.10e-180\n",
      "Time:                        16:08:46   Log-Likelihood:                 117.25\n",
      "No. Observations:                 490   AIC:                            -194.5\n",
      "Df Residuals:                     470   BIC:                            -110.6\n",
      "Df Model:                          19                                         \n",
      "Covariance Type:            nonrobust                                         \n",
      "=======================================================================================\n",
      "                          coef    std err          t      P>|t|      [0.025      0.975]\n",
      "---------------------------------------------------------------------------------------\n",
      "Intercept               4.5715      0.699      6.543      0.000       3.199       5.944\n",
      "location[T.2]          -0.0604      0.031     -1.962      0.050      -0.121    9.84e-05\n",
      "location[T.3]          -0.1554      0.027     -5.854      0.000      -0.208      -0.103\n",
      "location[T.4]          -0.1127      0.024     -4.685      0.000      -0.160      -0.065\n",
      "energyClass[T.2]       -0.0404      0.064     -0.634      0.526      -0.165       0.085\n",
      "energyClass[T.3]       -0.1430      0.049     -2.924      0.004      -0.239      -0.047\n",
      "energyClass[T.4]       -0.3833      0.049     -7.797      0.000      -0.480      -0.287\n",
      "energyClass[T.5]       -0.4136      0.047     -8.710      0.000      -0.507      -0.320\n",
      "energyClass[T.6]       -0.4179      0.051     -8.212      0.000      -0.518      -0.318\n",
      "energyClass[T.7]       -0.4064      0.056     -7.225      0.000      -0.517      -0.296\n",
      "energyClass[T.8]       -0.3505      0.071     -4.956      0.000      -0.489      -0.212\n",
      "energyClass[T.9]       -0.3693      0.148     -2.489      0.013      -0.661      -0.078\n",
      "sauna[T.1]              0.1957      0.090      2.172      0.030       0.019       0.373\n",
      "kitchenEqipped[T.1]     0.0529      0.019      2.786      0.006       0.016       0.090\n",
      "cellar[T.1]             0.0469      0.022      2.134      0.033       0.004       0.090\n",
      "storageRoom[T.1]        0.0419      0.022      1.909      0.057      -0.001       0.085\n",
      "attics[T.1]             0.0681      0.039      1.739      0.083      -0.009       0.145\n",
      "log_livingSpace         0.9699      0.023     41.839      0.000       0.924       1.015\n",
      "distanceToCenter       -0.0080      0.005     -1.714      0.087      -0.017       0.001\n",
      "constructionYear        0.0021      0.000      6.165      0.000       0.001       0.003\n",
      "==============================================================================\n",
      "Omnibus:                        5.170   Durbin-Watson:                   2.059\n",
      "Prob(Omnibus):                  0.075   Jarque-Bera (JB):                6.820\n",
      "Skew:                          -0.030   Prob(JB):                       0.0330\n",
      "Kurtosis:                       3.575   Cond. No.                     1.58e+05\n",
      "==============================================================================\n",
      "\n",
      "Notes:\n",
      "[1] Standard Errors assume that the covariance matrix of the errors is correctly specified.\n",
      "[2] The condition number is large, 1.58e+05. This might indicate that there are\n",
      "strong multicollinearity or other numerical problems.\n"
     ]
    }
   ],
   "source": [
    "import statsmodels.formula.api as smf\n",
    "\n",
    "# formula \n",
    "formula = 'np.log(price) ~ log_livingSpace + distanceToCenter + location + constructionYear + energyClass + sauna + kitchenEqipped + cellar + storageRoom + attics'\n",
    "\n",
    "# Fit \n",
    "model = smf.ols(formula=formula, data=df_train_price).fit()\n",
    "\n",
    "# summary\n",
    "print(model.summary())"
   ]
  },
  {
   "cell_type": "markdown",
   "id": "ea28fc05",
   "metadata": {},
   "source": [
    "attics[T.1]: Der Koeffizient ist 0.0681 und der p-Wert ist 0.083."
   ]
  },
  {
   "cell_type": "markdown",
   "id": "2d0297b7",
   "metadata": {},
   "source": [
    "#### Die Variable attics wird im nächsten Modell nicht berücksichtigt"
   ]
  },
  {
   "cell_type": "code",
   "execution_count": null,
   "id": "8f84cbdc",
   "metadata": {},
   "outputs": [],
   "source": []
  }
 ],
 "metadata": {
  "kernelspec": {
   "display_name": "Python 3 (ipykernel)",
   "language": "python",
   "name": "python3"
  },
  "language_info": {
   "codemirror_mode": {
    "name": "ipython",
    "version": 3
   },
   "file_extension": ".py",
   "mimetype": "text/x-python",
   "name": "python",
   "nbconvert_exporter": "python",
   "pygments_lexer": "ipython3",
   "version": "3.10.12"
  }
 },
 "nbformat": 4,
 "nbformat_minor": 5
}
