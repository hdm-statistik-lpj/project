{
 "cells": [
  {
   "cell_type": "markdown",
   "id": "9064260b",
   "metadata": {},
   "source": [
    "Basierend auf unserer fachlichen Expertise und der explorativen Datenanalyse (EDA) könnten folgende Variablen relevant sein, um den Preis einer Immobilie vorherzusagen:\n",
    "\n",
    "1. Standortbezogene Variablen\n",
    "   - distanceToCenter: Entfernung zum Zentrum\n",
    "   - northeast, northwest, southeast, southwest: Spezifische Standorte\n",
    "\n",
    "2. Grundlegende Eigenschaften\n",
    "   - constructionYear: Baujahr des Objekts\n",
    "   - livingSpace: Wohnfläche in Quadratmetern (auch log_livingspace wird berücksichtigt)\n",
    "   - rooms: Anzahl der Zimmer\n",
    "\n",
    "3. Energie und Nachhaltigkeit\n",
    "   - energyClass: Energieeffizienzklasse\n",
    "   - energySources: Energieträger des Objekts\n",
    "\n",
    "4. Komfort und Ausstattung\n",
    "   - elevator: Vorhandensein eines Aufzugs\n",
    "   - sauna: Vorhandensein einer Sauna\n",
    "   - swimmingpool: Vorhandensein eines Swimmingpools\n",
    "   - kitchenEquipped: Ausgestattete Küche\n",
    "   - cellar: Vorhandensein eines Kellers\n",
    "   - storageRoom: Abstellraum\n",
    "\n",
    "5. Zugänglichkeit und zusätzliche Merkmale\n",
    "   - wheelchairAccessible: Barrierefreiheit\n",
    "   - assistedLiving: Betreutes Wohnen\n",
    "\n",
    "6. Außenbereich und Extras\n",
    "   - parkingSlots: Parkplätze\n",
    "   - privateOutdoorSpace: Privater Außenbereich\n",
    "   - chimney: Kamin\n",
    "   - cuestToilet: Gäste-WC\n",
    "   - attics: Wohnung im Dachgeschoss\n",
    "\n",
    "7. Zielvariable\n",
    "   - price und log_price: Preis des Objekts (Predictor)"
   ]
  },
  {
   "cell_type": "code",
   "execution_count": 1,
   "id": "ee6b959b",
   "metadata": {},
   "outputs": [],
   "source": [
    "import numpy as np\n",
    "import pandas as pd\n",
    "\n",
    "from scipy import stats\n",
    "import statsmodels.formula.api as smf\n",
    "import ast\n",
    "\n",
    "import matplotlib.pyplot as plt\n",
    "%matplotlib inline \n",
    "import seaborn as sns  \n",
    "\n",
    "# seaborn settings\n",
    "custom_params = {\"axes.spines.right\": False, \"axes.spines.top\": False}\n",
    "sns.set_theme(style=\"ticks\", rc=custom_params)\n",
    "\n",
    "import altair as alt\n",
    "import sklearn\n",
    "from sklearn.linear_model import LinearRegression\n",
    "from sklearn.metrics import mean_squared_error\n",
    "from sklearn.model_selection import train_test_split"
   ]
  },
  {
   "cell_type": "code",
   "execution_count": 2,
   "id": "50ba6e3d",
   "metadata": {},
   "outputs": [],
   "source": [
    "filePath = r'https://raw.githubusercontent.com/hdm-statistik-lpj/project/main/data/external/immobilienNuernberg_cleaned.csv'\n",
    "df = pd.read_csv(filePath)"
   ]
  },
  {
   "cell_type": "code",
   "execution_count": 3,
   "id": "bea13ade",
   "metadata": {},
   "outputs": [
    {
     "data": {
      "text/plain": [
       "Index(['location', 'Northeast', 'Northwest', 'Southeast', 'Southwest',\n",
       "       'energyEfficiency', 'price', 'constructionYear', 'livingSpace',\n",
       "       'energySources', 'photosCount', 'localAmenitiesScore',\n",
       "       'localMobilityScore', 'latitudeDistrict', 'longitudeDistrict',\n",
       "       'distanceToCenter', 'district', 'rooms', 'energyClass', 'elevator',\n",
       "       'sauna', 'swimmingpool', 'kitchenEqipped', 'cellar', 'storageRoom',\n",
       "       'wheelchairAccessible', 'assistedLiving', 'parkingSlots', 'guestToilet',\n",
       "       'privateOutdoorSpace', 'chimney', 'attics'],\n",
       "      dtype='object')"
      ]
     },
     "execution_count": 3,
     "metadata": {},
     "output_type": "execute_result"
    }
   ],
   "source": [
    "df.columns"
   ]
  },
  {
   "cell_type": "code",
   "execution_count": 4,
   "id": "6e97dd01",
   "metadata": {},
   "outputs": [],
   "source": [
    "# Nummerische Variablen\n",
    "df['constructionYear'] = df['constructionYear'].astype(int)\n",
    "df['livingSpace'] = df['livingSpace'].astype(float)\n",
    "df['photosCount'] = df['photosCount'].astype(int)\n",
    "df['localAmenitiesScore'] = df['localAmenitiesScore'].astype(float)\n",
    "df['localMobilityScore'] = df['localMobilityScore'].astype(float)\n",
    "df['latitudeDistrict'] = df['latitudeDistrict'].astype(float)\n",
    "df['longitudeDistrict'] = df['longitudeDistrict'].astype(float)\n",
    "df['distanceToCenter'] = df['distanceToCenter'].astype(float)\n",
    "df['price'] = df['price'].astype(float)\n",
    "df['rooms'] = df['rooms'].astype(float)\n",
    "\n",
    "# Kategorische Variablen\n",
    "df['district'] = df['district'].astype('category')\n",
    "df['location'] = df['location'].astype('category')\n",
    "df['energyClass'] = df['energyClass'].astype('category')\n",
    "df['energySources'] = df['energySources'].astype('category')\n",
    "\n",
    "# Binäre Variablen\n",
    "binaryColumns = ['elevator', 'sauna', 'swimmingpool', 'kitchenEqipped', \n",
    "                  'cellar', 'storageRoom', 'wheelchairAccessible', 'assistedLiving', \n",
    "                  'parkingSlots', 'guestToilet', 'privateOutdoorSpace', \n",
    "                  'chimney', 'attics', 'energyEfficiency', \n",
    "                  'Northeast', 'Northwest', 'Southeast', 'Southwest']\n",
    "\n",
    "for col in binaryColumns:\n",
    "    df[col] = df[col].astype('category')"
   ]
  },
  {
   "cell_type": "code",
   "execution_count": 5,
   "id": "8c308784",
   "metadata": {},
   "outputs": [],
   "source": [
    "# Modell 1: 'price' als abhängige Variable\n",
    "X_price = df.drop('price', axis=1)\n",
    "y_price = df['price']\n",
    "X_price['log_livingSpace'] = np.log(X_price['livingSpace'])"
   ]
  },
  {
   "cell_type": "code",
   "execution_count": 6,
   "id": "c37178ec",
   "metadata": {},
   "outputs": [],
   "source": [
    "# Aufteilen der Daten für das Modell mit 'price' als abhängige Variable\n",
    "X_train_price, X_test_price, y_train_price, y_test_price = train_test_split(\n",
    "    X_price, y_price, test_size=0.2, random_state=42, stratify=df['energyClass'])\n",
    "df_train_price = pd.concat([X_train_price, y_train_price], axis=1)\n",
    "df_test_price = pd.concat([X_test_price, y_test_price], axis=1)"
   ]
  },
  {
   "cell_type": "code",
   "execution_count": 14,
   "id": "e7b3ac58",
   "metadata": {},
   "outputs": [
    {
     "name": "stdout",
     "output_type": "stream",
     "text": [
      "                            OLS Regression Results                            \n",
      "==============================================================================\n",
      "Dep. Variable:          np.log(price)   R-squared:                       0.855\n",
      "Model:                            OLS   Adj. R-squared:                  0.840\n",
      "Method:                 Least Squares   F-statistic:                     56.79\n",
      "Date:                Tue, 26 Dec 2023   Prob (F-statistic):          5.90e-157\n",
      "Time:                        14:24:20   Log-Likelihood:                 125.03\n",
      "No. Observations:                 490   AIC:                            -156.1\n",
      "Df Residuals:                     443   BIC:                             41.07\n",
      "Df Model:                          46                                         \n",
      "Covariance Type:            nonrobust                                         \n",
      "=============================================================================================\n",
      "                                coef    std err          t      P>|t|      [0.025      0.975]\n",
      "---------------------------------------------------------------------------------------------\n",
      "Intercept                     4.6926      0.818      5.736      0.000       3.085       6.300\n",
      "location[T.2]                -0.0613      0.032     -1.894      0.059      -0.125       0.002\n",
      "location[T.3]                -0.1506      0.028     -5.322      0.000      -0.206      -0.095\n",
      "location[T.4]                -0.1173      0.026     -4.589      0.000      -0.167      -0.067\n",
      "energyClass[T.2]             -0.0255      0.087     -0.292      0.770      -0.197       0.146\n",
      "energyClass[T.3]             -0.1514      0.078     -1.930      0.054      -0.305       0.003\n",
      "energyClass[T.4]             -0.3985      0.078     -5.136      0.000      -0.551      -0.246\n",
      "energyClass[T.5]             -0.4209      0.077     -5.484      0.000      -0.572      -0.270\n",
      "energyClass[T.6]             -0.4264      0.079     -5.428      0.000      -0.581      -0.272\n",
      "energyClass[T.7]             -0.4159      0.084     -4.936      0.000      -0.581      -0.250\n",
      "energyClass[T.8]             -0.3690      0.095     -3.888      0.000      -0.555      -0.182\n",
      "energyClass[T.9]             -0.3882      0.164     -2.373      0.018      -0.710      -0.067\n",
      "energySources[T.2.0]         -0.0185      0.027     -0.695      0.488      -0.071       0.034\n",
      "energySources[T.3.0]         -0.0432      0.033     -1.325      0.186      -0.107       0.021\n",
      "energySources[T.4.0]         -0.0337      0.054     -0.619      0.536      -0.140       0.073\n",
      "energySources[T.5.0]          0.0237      0.105      0.225      0.822      -0.184       0.231\n",
      "energySources[T.6.0]          0.0648      0.096      0.677      0.499      -0.123       0.253\n",
      "energySources[T.7.0]          0.0360      0.076      0.476      0.634      -0.113       0.185\n",
      "energySources[T.8.0]         -0.0523      0.086     -0.609      0.543      -0.221       0.116\n",
      "energySources[T.9.0]         -0.0983      0.101     -0.970      0.333      -0.297       0.101\n",
      "energySources[T.10.0]         0.0648      0.091      0.710      0.478      -0.115       0.244\n",
      "energySources[T.11.0]         0.0718      0.213      0.336      0.737      -0.348       0.491\n",
      "energySources[T.12.0]        -0.1653      0.144     -1.144      0.253      -0.449       0.119\n",
      "energySources[T.13.0]        -0.0487      0.160     -0.304      0.761      -0.363       0.266\n",
      "energySources[T.14.0]         0.1125      0.202      0.556      0.578      -0.285       0.510\n",
      "energySources[T.15.0]        -0.0999      0.200     -0.499      0.618      -0.493       0.293\n",
      "energySources[T.16.0]     -2.419e-16   1.17e-16     -2.076      0.039   -4.71e-16   -1.29e-17\n",
      "energySources[T.18.0]        -0.0415      0.215     -0.193      0.847      -0.463       0.380\n",
      "energySources[T.19.0]        -0.1473      0.200     -0.736      0.462      -0.541       0.246\n",
      "energySources[T.21.0]        -0.1549      0.215     -0.721      0.471      -0.577       0.267\n",
      "energySources[T.22.0]        -0.1615      0.200     -0.808      0.419      -0.554       0.231\n",
      "elevator[T.1]                 0.0078      0.024      0.328      0.743      -0.039       0.055\n",
      "sauna[T.1]                    0.1830      0.121      1.509      0.132      -0.055       0.421\n",
      "swimmingpool[T.1]            -0.0221      0.190     -0.117      0.907      -0.395       0.351\n",
      "kitchenEqipped[T.1]           0.0569      0.020      2.839      0.005       0.018       0.096\n",
      "cellar[T.1]                   0.0400      0.024      1.674      0.095      -0.007       0.087\n",
      "storageRoom[T.1]              0.0350      0.024      1.481      0.139      -0.011       0.082\n",
      "wheelchairAccessible[T.1]    -0.0716      0.067     -1.061      0.289      -0.204       0.061\n",
      "assistedLiving[T.1]           0.0164      0.085      0.193      0.847      -0.150       0.183\n",
      "parkingSlots[T.1]             0.0233      0.023      1.005      0.315      -0.022       0.069\n",
      "privateOutdoorSpace[T.1]     -0.0089      0.022     -0.400      0.690      -0.053       0.035\n",
      "chimney[T.1]                 -0.0706      0.076     -0.924      0.356      -0.221       0.080\n",
      "guestToilet[T.1]              0.0019      0.026      0.072      0.943      -0.050       0.054\n",
      "attics[T.1]                   0.0613      0.041      1.500      0.134      -0.019       0.142\n",
      "log_livingSpace               0.9633      0.044     22.127      0.000       0.878       1.049\n",
      "distanceToCenter             -0.0073      0.005     -1.432      0.153      -0.017       0.003\n",
      "constructionYear              0.0021      0.000      5.173      0.000       0.001       0.003\n",
      "rooms                         0.0046      0.011      0.402      0.688      -0.018       0.027\n",
      "==============================================================================\n",
      "Omnibus:                        7.270   Durbin-Watson:                   2.077\n",
      "Prob(Omnibus):                  0.026   Jarque-Bera (JB):               10.183\n",
      "Skew:                          -0.094   Prob(JB):                      0.00615\n",
      "Kurtosis:                       3.681   Cond. No.                     1.00e+16\n",
      "==============================================================================\n",
      "\n",
      "Notes:\n",
      "[1] Standard Errors assume that the covariance matrix of the errors is correctly specified.\n",
      "[2] The smallest eigenvalue is 1.91e-23. This might indicate that there are\n",
      "strong multicollinearity problems or that the design matrix is singular.\n"
     ]
    }
   ],
   "source": [
    "import statsmodels.formula.api as smf\n",
    "\n",
    "# formula \n",
    "formula = 'np.log(price) ~ log_livingSpace + distanceToCenter + location + constructionYear + rooms + energyClass + energySources + elevator + sauna + swimmingpool + kitchenEqipped + cellar + storageRoom + wheelchairAccessible + assistedLiving + parkingSlots + privateOutdoorSpace + chimney + guestToilet + attics'\n",
    "\n",
    "# Fit \n",
    "model = smf.ols(formula=formula, data=df_train_price).fit()\n",
    "\n",
    "# summary\n",
    "print(model.summary())"
   ]
  },
  {
   "cell_type": "markdown",
   "id": "ea28fc05",
   "metadata": {},
   "source": [
    "Die meisten Kategorien von energySources sind statistisch nicht signifikant (hoher p-Wert). Dies deutet, dass sie keinen starken Einfluss auf den Immobilienpreis haben.\n",
    "Nur energySources[T.16.0] (Blockheizkraftwerk, Fernwärme) ist statistisch signifikant, aber mit einem sehr kleinen Koeffizienten."
   ]
  },
  {
   "cell_type": "markdown",
   "id": "2d0297b7",
   "metadata": {},
   "source": [
    "#### Die Variable energySources wir im nächsten Modell nicht berücksichtigt"
   ]
  }
 ],
 "metadata": {
  "kernelspec": {
   "display_name": "Python 3 (ipykernel)",
   "language": "python",
   "name": "python3"
  },
  "language_info": {
   "codemirror_mode": {
    "name": "ipython",
    "version": 3
   },
   "file_extension": ".py",
   "mimetype": "text/x-python",
   "name": "python",
   "nbconvert_exporter": "python",
   "pygments_lexer": "ipython3",
   "version": "3.10.12"
  }
 },
 "nbformat": 4,
 "nbformat_minor": 5
}
