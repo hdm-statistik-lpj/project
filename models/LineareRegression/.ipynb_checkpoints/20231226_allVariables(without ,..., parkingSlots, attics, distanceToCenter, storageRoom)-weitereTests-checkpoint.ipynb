{
 "cells": [
  {
   "cell_type": "markdown",
   "id": "9064260b",
   "metadata": {},
   "source": [
    "Basierend auf unserer fachlichen Expertise und der explorativen Datenanalyse (EDA) könnten folgende Variablen relevant sein, um den Preis einer Immobilie vorherzusagen:\n",
    "\n",
    "1. Standortbezogene Variablen\n",
    "   - distanceToCenter: Entfernung zum Zentrum\n",
    "   - northeast, northwest, southeast, southwest: Spezifische Standorte\n",
    "\n",
    "2. Grundlegende Eigenschaften\n",
    "   - constructionYear: Baujahr des Objekts\n",
    "   - livingSpace: Wohnfläche in Quadratmetern (auch log_livingspace wird berücksichtigt)\n",
    "   \n",
    "3. Energie und Nachhaltigkeit\n",
    "   - energyClass: Energieeffizienzklasse\n",
    "   - energySources: Energieträger des Objekts **(entfernt - statisch nicht signifikant)**\n",
    "\n",
    "4. Komfort und Ausstattung\n",
    "   - elevator: Vorhandensein eines Aufzugs\n",
    "   - sauna: Vorhandensein einer Sauna\n",
    "   - swimmingpool: Vorhandensein eines Swimmingpools\n",
    "   - kitchenEquipped: Ausgestattete Küche\n",
    "   - cellar: Vorhandensein eines Kellers\n",
    "   - storageRoom: Abstellraum\n",
    "\n",
    "5. Zugänglichkeit und zusätzliche Merkmale\n",
    "   - wheelchairAccessible: Barrierefreiheit\n",
    "   - assistedLiving: Betreutes Wohnen\n",
    "\n",
    "6. Außenbereich und Extras\n",
    "   - parkingSlots: Parkplätze\n",
    "   - privateOutdoorSpace: Privater Außenbereich\n",
    "   - chimney: Kamin\n",
    "   - cuestToilet: Gäste-WC\n",
    "   - attics: Wohnung im Dachgeschoss\n",
    "\n",
    "7. Zielvariable\n",
    "   - price und log_price: Preis des Objekts (Predictor)"
   ]
  },
  {
   "cell_type": "code",
   "execution_count": 1,
   "id": "ee6b959b",
   "metadata": {},
   "outputs": [],
   "source": [
    "import numpy as np\n",
    "import pandas as pd\n",
    "\n",
    "from scipy import stats\n",
    "import statsmodels.formula.api as smf\n",
    "import ast\n",
    "\n",
    "import matplotlib.pyplot as plt\n",
    "%matplotlib inline \n",
    "import seaborn as sns  \n",
    "\n",
    "# seaborn settings\n",
    "custom_params = {\"axes.spines.right\": False, \"axes.spines.top\": False}\n",
    "sns.set_theme(style=\"ticks\", rc=custom_params)\n",
    "\n",
    "import altair as alt\n",
    "import sklearn\n",
    "from sklearn.linear_model import LinearRegression\n",
    "from sklearn.metrics import mean_squared_error\n",
    "from sklearn.model_selection import train_test_split"
   ]
  },
  {
   "cell_type": "code",
   "execution_count": 2,
   "id": "50ba6e3d",
   "metadata": {},
   "outputs": [],
   "source": [
    "filePath = r'https://raw.githubusercontent.com/hdm-statistik-lpj/project/main/data/external/immobilienNuernberg_cleaned.csv'\n",
    "df = pd.read_csv(filePath)"
   ]
  },
  {
   "cell_type": "code",
   "execution_count": 3,
   "id": "bea13ade",
   "metadata": {},
   "outputs": [
    {
     "data": {
      "text/plain": [
       "Index(['location', 'Northeast', 'Northwest', 'Southeast', 'Southwest',\n",
       "       'energyEfficiency', 'price', 'constructionYear', 'livingSpace',\n",
       "       'energySources', 'photosCount', 'localAmenitiesScore',\n",
       "       'localMobilityScore', 'latitudeDistrict', 'longitudeDistrict',\n",
       "       'distanceToCenter', 'district', 'rooms', 'energyClass', 'elevator',\n",
       "       'sauna', 'swimmingpool', 'kitchenEqipped', 'cellar', 'storageRoom',\n",
       "       'wheelchairAccessible', 'assistedLiving', 'parkingSlots', 'guestToilet',\n",
       "       'privateOutdoorSpace', 'chimney', 'attics'],\n",
       "      dtype='object')"
      ]
     },
     "execution_count": 3,
     "metadata": {},
     "output_type": "execute_result"
    }
   ],
   "source": [
    "df.columns"
   ]
  },
  {
   "cell_type": "code",
   "execution_count": 4,
   "id": "6e97dd01",
   "metadata": {},
   "outputs": [],
   "source": [
    "# Nummerische Variablen\n",
    "df['constructionYear'] = df['constructionYear'].astype(int)\n",
    "df['livingSpace'] = df['livingSpace'].astype(float)\n",
    "df['photosCount'] = df['photosCount'].astype(int)\n",
    "df['localAmenitiesScore'] = df['localAmenitiesScore'].astype(float)\n",
    "df['localMobilityScore'] = df['localMobilityScore'].astype(float)\n",
    "df['latitudeDistrict'] = df['latitudeDistrict'].astype(float)\n",
    "df['longitudeDistrict'] = df['longitudeDistrict'].astype(float)\n",
    "df['distanceToCenter'] = df['distanceToCenter'].astype(float)\n",
    "df['price'] = df['price'].astype(float)\n",
    "df['rooms'] = df['rooms'].astype(float)\n",
    "\n",
    "# Kategorische Variablen\n",
    "df['district'] = df['district'].astype('category')\n",
    "df['location'] = df['location'].astype('category')\n",
    "df['energyClass'] = df['energyClass'].astype('category')\n",
    "df['energySources'] = df['energySources'].astype('category')\n",
    "\n",
    "# Binäre Variablen\n",
    "binaryColumns = ['elevator', 'sauna', 'swimmingpool', 'kitchenEqipped', \n",
    "                  'cellar', 'storageRoom', 'wheelchairAccessible', 'assistedLiving', \n",
    "                  'parkingSlots', 'guestToilet', 'privateOutdoorSpace', \n",
    "                  'chimney', 'attics', 'energyEfficiency', \n",
    "                  'Northeast', 'Northwest', 'Southeast', 'Southwest']\n",
    "\n",
    "for col in binaryColumns:\n",
    "    df[col] = df[col].astype('category')"
   ]
  },
  {
   "cell_type": "code",
   "execution_count": 5,
   "id": "8c308784",
   "metadata": {},
   "outputs": [],
   "source": [
    "# Modell 1: 'price' als abhängige Variable\n",
    "X_price = df.drop('price', axis=1)\n",
    "y_price = df['price']\n",
    "X_price['log_livingSpace'] = np.log(X_price['livingSpace'])"
   ]
  },
  {
   "cell_type": "code",
   "execution_count": 6,
   "id": "c37178ec",
   "metadata": {},
   "outputs": [],
   "source": [
    "# Aufteilen der Daten für das Modell mit 'price' als abhängige Variable\n",
    "X_train_price, X_test_price, y_train_price, y_test_price = train_test_split(\n",
    "    X_price, y_price, test_size=0.2, random_state=42, stratify=df['energyClass'])\n",
    "df_train_price = pd.concat([X_train_price, y_train_price], axis=1)\n",
    "df_test_price = pd.concat([X_test_price, y_test_price], axis=1)"
   ]
  },
  {
   "cell_type": "code",
   "execution_count": 7,
   "id": "e7b3ac58",
   "metadata": {
    "scrolled": true
   },
   "outputs": [
    {
     "name": "stdout",
     "output_type": "stream",
     "text": [
      "                            OLS Regression Results                            \n",
      "==============================================================================\n",
      "Dep. Variable:          np.log(price)   R-squared:                       0.847\n",
      "Model:                            OLS   Adj. R-squared:                  0.842\n",
      "Method:                 Least Squares   F-statistic:                     164.0\n",
      "Date:                Tue, 26 Dec 2023   Prob (F-statistic):          2.75e-181\n",
      "Time:                        16:59:03   Log-Likelihood:                 112.34\n",
      "No. Observations:                 490   AIC:                            -190.7\n",
      "Df Residuals:                     473   BIC:                            -119.4\n",
      "Df Model:                          16                                         \n",
      "Covariance Type:            nonrobust                                         \n",
      "=======================================================================================\n",
      "                          coef    std err          t      P>|t|      [0.025      0.975]\n",
      "---------------------------------------------------------------------------------------\n",
      "Intercept               4.4496      0.683      6.511      0.000       3.107       5.792\n",
      "location[T.2]          -0.0541      0.031     -1.751      0.081      -0.115       0.007\n",
      "location[T.3]          -0.1675      0.026     -6.441      0.000      -0.219      -0.116\n",
      "location[T.4]          -0.1130      0.024     -4.745      0.000      -0.160      -0.066\n",
      "energyClass[T.2]       -0.0337      0.063     -0.537      0.592      -0.157       0.090\n",
      "energyClass[T.3]       -0.1198      0.048     -2.510      0.012      -0.214      -0.026\n",
      "energyClass[T.4]       -0.3881      0.049     -7.910      0.000      -0.485      -0.292\n",
      "energyClass[T.5]       -0.4078      0.047     -8.631      0.000      -0.501      -0.315\n",
      "energyClass[T.6]       -0.4186      0.051     -8.244      0.000      -0.518      -0.319\n",
      "energyClass[T.7]       -0.3953      0.056     -7.089      0.000      -0.505      -0.286\n",
      "energyClass[T.8]       -0.3560      0.071     -5.036      0.000      -0.495      -0.217\n",
      "energyClass[T.9]       -0.3663      0.149     -2.458      0.014      -0.659      -0.073\n",
      "sauna[T.1]              0.2167      0.090      2.398      0.017       0.039       0.394\n",
      "kitchenEqipped[T.1]     0.0583      0.019      3.082      0.002       0.021       0.096\n",
      "cellar[T.1]             0.0529      0.022      2.434      0.015       0.010       0.096\n",
      "log_livingSpace         0.9763      0.023     42.814      0.000       0.931       1.021\n",
      "constructionYear        0.0022      0.000      6.411      0.000       0.002       0.003\n",
      "==============================================================================\n",
      "Omnibus:                        3.912   Durbin-Watson:                   2.082\n",
      "Prob(Omnibus):                  0.141   Jarque-Bera (JB):                4.620\n",
      "Skew:                          -0.049   Prob(JB):                       0.0993\n",
      "Kurtosis:                       3.465   Cond. No.                     1.53e+05\n",
      "==============================================================================\n",
      "\n",
      "Notes:\n",
      "[1] Standard Errors assume that the covariance matrix of the errors is correctly specified.\n",
      "[2] The condition number is large, 1.53e+05. This might indicate that there are\n",
      "strong multicollinearity or other numerical problems.\n"
     ]
    }
   ],
   "source": [
    "import statsmodels.formula.api as smf\n",
    "\n",
    "# formula \n",
    "formula = 'np.log(price) ~ log_livingSpace + location + constructionYear + energyClass + sauna + kitchenEqipped + cellar'\n",
    "\n",
    "# Fit \n",
    "model = smf.ols(formula=formula, data=df_train_price).fit()\n",
    "\n",
    "# summary\n",
    "print(model.summary())"
   ]
  },
  {
   "cell_type": "markdown",
   "id": "ea28fc05",
   "metadata": {},
   "source": []
  },
  {
   "cell_type": "markdown",
   "id": "2d0297b7",
   "metadata": {},
   "source": [
    "#### Überprüfen der Gesamtbedeutung der kategorialen Variablen 'location' und 'energyClass'"
   ]
  },
  {
   "cell_type": "code",
   "execution_count": 12,
   "id": "8f84cbdc",
   "metadata": {},
   "outputs": [
    {
     "data": {
      "text/plain": [
       "<class 'statsmodels.stats.contrast.ContrastResults'>\n",
       "<F test: F=15.534851036405037, p=1.1842492287412158e-09, df_denom=473, df_num=3>"
      ]
     },
     "execution_count": 12,
     "metadata": {},
     "output_type": "execute_result"
    }
   ],
   "source": [
    "import statsmodels.formula.api as smf\n",
    "\n",
    "# Formula\n",
    "formula = 'np.log(price) ~ C(location) + C(energyClass) + log_livingSpace + constructionYear + sauna + kitchenEqipped + cellar'\n",
    "\n",
    "# Fit\n",
    "model = smf.ols(formula=formula, data=df_train_price).fit()\n",
    "\n",
    "# F-test für 'location'\n",
    "hypotheses = '(C(location)[T.2] = C(location)[T.3] = C(location)[T.4] = 0)'\n",
    "\n",
    "model.f_test(hypotheses)"
   ]
  },
  {
   "cell_type": "markdown",
   "id": "023f8f87",
   "metadata": {},
   "source": [
    "Das Ergebnis zeigt, dass die kategoriale Variable 'location' einen statistisch signifikanten Einfluss auf den logarithmierten Preis hat."
   ]
  },
  {
   "cell_type": "code",
   "execution_count": 14,
   "id": "8db63323",
   "metadata": {},
   "outputs": [
    {
     "data": {
      "text/plain": [
       "<class 'statsmodels.stats.contrast.ContrastResults'>\n",
       "<F test: F=21.70761445795818, p=3.435955410118362e-28, df_denom=473, df_num=8>"
      ]
     },
     "execution_count": 14,
     "metadata": {},
     "output_type": "execute_result"
    }
   ],
   "source": [
    "hypotheses = 'C(energyClass)[T.2] = C(energyClass)[T.3] = C(energyClass)[T.4] = C(energyClass)[T.5] = C(energyClass)[T.6] = C(energyClass)[T.7] = C(energyClass)[T.8] = C(energyClass)[T.9] = 0'\n",
    "\n",
    "model.f_test(hypotheses)"
   ]
  },
  {
   "cell_type": "markdown",
   "id": "4f0c6f69",
   "metadata": {},
   "source": [
    "Das Ergebnis zeigt, dass die kategoriale Variable 'energyClass' einen statistisch signifikanten Einfluss auf den logarithmierten Preis hat."
   ]
  },
  {
   "cell_type": "code",
   "execution_count": null,
   "id": "0d1ae937",
   "metadata": {},
   "outputs": [],
   "source": []
  }
 ],
 "metadata": {
  "kernelspec": {
   "display_name": "Python 3 (ipykernel)",
   "language": "python",
   "name": "python3"
  },
  "language_info": {
   "codemirror_mode": {
    "name": "ipython",
    "version": 3
   },
   "file_extension": ".py",
   "mimetype": "text/x-python",
   "name": "python",
   "nbconvert_exporter": "python",
   "pygments_lexer": "ipython3",
   "version": "3.10.12"
  }
 },
 "nbformat": 4,
 "nbformat_minor": 5
}
