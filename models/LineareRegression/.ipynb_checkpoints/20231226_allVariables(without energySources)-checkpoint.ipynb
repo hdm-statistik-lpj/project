{
 "cells": [
  {
   "cell_type": "markdown",
   "id": "9064260b",
   "metadata": {},
   "source": [
    "Basierend auf unserer fachlichen Expertise und der explorativen Datenanalyse (EDA) könnten folgende Variablen relevant sein, um den Preis einer Immobilie vorherzusagen:\n",
    "\n",
    "1. Standortbezogene Variablen\n",
    "   - distanceToCenter: Entfernung zum Zentrum\n",
    "   - northeast, northwest, southeast, southwest: Spezifische Standorte\n",
    "\n",
    "2. Grundlegende Eigenschaften\n",
    "   - constructionYear: Baujahr des Objekts\n",
    "   - livingSpace: Wohnfläche in Quadratmetern (auch log_livingspace wird berücksichtigt)\n",
    "\n",
    "3. Energie und Nachhaltigkeit\n",
    "   - energyClass: Energieeffizienzklasse\n",
    "   - energySources: Energieträger des Objekts **(entfernt - statisch nicht signifikant)**\n",
    "\n",
    "4. Komfort und Ausstattung\n",
    "   - elevator: Vorhandensein eines Aufzugs\n",
    "   - sauna: Vorhandensein einer Sauna\n",
    "   - swimmingpool: Vorhandensein eines Swimmingpools\n",
    "   - kitchenEquipped: Ausgestattete Küche\n",
    "   - cellar: Vorhandensein eines Kellers\n",
    "   - storageRoom: Abstellraum\n",
    "\n",
    "5. Zugänglichkeit und zusätzliche Merkmale\n",
    "   - wheelchairAccessible: Barrierefreiheit\n",
    "   - assistedLiving: Betreutes Wohnen\n",
    "\n",
    "6. Außenbereich und Extras\n",
    "   - parkingSlots: Parkplätze\n",
    "   - privateOutdoorSpace: Privater Außenbereich\n",
    "   - chimney: Kamin\n",
    "   - cuestToilet: Gäste-WC\n",
    "   - attics: Wohnung im Dachgeschoss\n",
    "\n",
    "7. Zielvariable\n",
    "   - price und log_price: Preis des Objekts (Predictor)"
   ]
  },
  {
   "cell_type": "code",
   "execution_count": 1,
   "id": "ee6b959b",
   "metadata": {},
   "outputs": [],
   "source": [
    "import numpy as np\n",
    "import pandas as pd\n",
    "\n",
    "from scipy import stats\n",
    "import statsmodels.formula.api as smf\n",
    "import ast\n",
    "\n",
    "import matplotlib.pyplot as plt\n",
    "%matplotlib inline \n",
    "import seaborn as sns  \n",
    "\n",
    "# seaborn settings\n",
    "custom_params = {\"axes.spines.right\": False, \"axes.spines.top\": False}\n",
    "sns.set_theme(style=\"ticks\", rc=custom_params)\n",
    "\n",
    "import altair as alt\n",
    "import sklearn\n",
    "from sklearn.linear_model import LinearRegression\n",
    "from sklearn.metrics import mean_squared_error\n",
    "from sklearn.model_selection import train_test_split"
   ]
  },
  {
   "cell_type": "code",
   "execution_count": 2,
   "id": "50ba6e3d",
   "metadata": {},
   "outputs": [],
   "source": [
    "filePath = r'https://raw.githubusercontent.com/hdm-statistik-lpj/project/main/data/external/immobilienNuernberg_cleaned.csv'\n",
    "df = pd.read_csv(filePath)"
   ]
  },
  {
   "cell_type": "code",
   "execution_count": 3,
   "id": "bea13ade",
   "metadata": {},
   "outputs": [
    {
     "data": {
      "text/plain": [
       "Index(['location', 'Northeast', 'Northwest', 'Southeast', 'Southwest',\n",
       "       'energyEfficiency', 'price', 'constructionYear', 'livingSpace',\n",
       "       'energySources', 'photosCount', 'localAmenitiesScore',\n",
       "       'localMobilityScore', 'latitudeDistrict', 'longitudeDistrict',\n",
       "       'distanceToCenter', 'district', 'rooms', 'energyClass', 'elevator',\n",
       "       'sauna', 'swimmingpool', 'kitchenEqipped', 'cellar', 'storageRoom',\n",
       "       'wheelchairAccessible', 'assistedLiving', 'parkingSlots', 'guestToilet',\n",
       "       'privateOutdoorSpace', 'chimney', 'attics'],\n",
       "      dtype='object')"
      ]
     },
     "execution_count": 3,
     "metadata": {},
     "output_type": "execute_result"
    }
   ],
   "source": [
    "df.columns"
   ]
  },
  {
   "cell_type": "code",
   "execution_count": 4,
   "id": "6e97dd01",
   "metadata": {},
   "outputs": [],
   "source": [
    "# Nummerische Variablen\n",
    "df['constructionYear'] = df['constructionYear'].astype(int)\n",
    "df['livingSpace'] = df['livingSpace'].astype(float)\n",
    "df['photosCount'] = df['photosCount'].astype(int)\n",
    "df['localAmenitiesScore'] = df['localAmenitiesScore'].astype(float)\n",
    "df['localMobilityScore'] = df['localMobilityScore'].astype(float)\n",
    "df['latitudeDistrict'] = df['latitudeDistrict'].astype(float)\n",
    "df['longitudeDistrict'] = df['longitudeDistrict'].astype(float)\n",
    "df['distanceToCenter'] = df['distanceToCenter'].astype(float)\n",
    "df['price'] = df['price'].astype(float)\n",
    "df['rooms'] = df['rooms'].astype(float)\n",
    "\n",
    "# Kategorische Variablen\n",
    "df['district'] = df['district'].astype('category')\n",
    "df['location'] = df['location'].astype('category')\n",
    "df['energyClass'] = df['energyClass'].astype('category')\n",
    "df['energySources'] = df['energySources'].astype('category')\n",
    "\n",
    "# Binäre Variablen\n",
    "binaryColumns = ['elevator', 'sauna', 'swimmingpool', 'kitchenEqipped', \n",
    "                  'cellar', 'storageRoom', 'wheelchairAccessible', 'assistedLiving', \n",
    "                  'parkingSlots', 'guestToilet', 'privateOutdoorSpace', \n",
    "                  'chimney', 'attics', 'energyEfficiency', \n",
    "                  'Northeast', 'Northwest', 'Southeast', 'Southwest']\n",
    "\n",
    "for col in binaryColumns:\n",
    "    df[col] = df[col].astype('category')"
   ]
  },
  {
   "cell_type": "code",
   "execution_count": 5,
   "id": "8c308784",
   "metadata": {},
   "outputs": [],
   "source": [
    "# Modell 1: 'price' als abhängige Variable\n",
    "X_price = df.drop('price', axis=1)\n",
    "y_price = df['price']\n",
    "X_price['log_livingSpace'] = np.log(X_price['livingSpace'])"
   ]
  },
  {
   "cell_type": "code",
   "execution_count": 6,
   "id": "c37178ec",
   "metadata": {},
   "outputs": [],
   "source": [
    "# Aufteilen der Daten für das Modell mit 'price' als abhängige Variable\n",
    "X_train_price, X_test_price, y_train_price, y_test_price = train_test_split(\n",
    "    X_price, y_price, test_size=0.2, random_state=42, stratify=df['energyClass'])\n",
    "df_train_price = pd.concat([X_train_price, y_train_price], axis=1)\n",
    "df_test_price = pd.concat([X_test_price, y_test_price], axis=1)"
   ]
  },
  {
   "cell_type": "code",
   "execution_count": 7,
   "id": "e7b3ac58",
   "metadata": {},
   "outputs": [
    {
     "name": "stdout",
     "output_type": "stream",
     "text": [
      "                            OLS Regression Results                            \n",
      "==============================================================================\n",
      "Dep. Variable:          np.log(price)   R-squared:                       0.852\n",
      "Model:                            OLS   Adj. R-squared:                  0.843\n",
      "Method:                 Least Squares   F-statistic:                     98.57\n",
      "Date:                Tue, 26 Dec 2023   Prob (F-statistic):          7.50e-173\n",
      "Time:                        15:06:57   Log-Likelihood:                 120.13\n",
      "No. Observations:                 490   AIC:                            -184.3\n",
      "Df Residuals:                     462   BIC:                            -66.82\n",
      "Df Model:                          27                                         \n",
      "Covariance Type:            nonrobust                                         \n",
      "=============================================================================================\n",
      "                                coef    std err          t      P>|t|      [0.025      0.975]\n",
      "---------------------------------------------------------------------------------------------\n",
      "Intercept                     4.7754      0.776      6.153      0.000       3.250       6.300\n",
      "location[T.2]                -0.0623      0.031     -2.010      0.045      -0.123      -0.001\n",
      "location[T.3]                -0.1524      0.027     -5.658      0.000      -0.205      -0.099\n",
      "location[T.4]                -0.1165      0.025     -4.729      0.000      -0.165      -0.068\n",
      "energyClass[T.2]             -0.0223      0.065     -0.341      0.733      -0.150       0.106\n",
      "energyClass[T.3]             -0.1335      0.050     -2.692      0.007      -0.231      -0.036\n",
      "energyClass[T.4]             -0.3877      0.050     -7.812      0.000      -0.485      -0.290\n",
      "energyClass[T.5]             -0.4147      0.048     -8.657      0.000      -0.509      -0.321\n",
      "energyClass[T.6]             -0.4138      0.051     -8.058      0.000      -0.515      -0.313\n",
      "energyClass[T.7]             -0.3992      0.057     -6.947      0.000      -0.512      -0.286\n",
      "energyClass[T.8]             -0.3469      0.072     -4.846      0.000      -0.488      -0.206\n",
      "energyClass[T.9]             -0.3661      0.149     -2.457      0.014      -0.659      -0.073\n",
      "elevator[T.1]                -0.0004      0.022     -0.020      0.984      -0.044       0.043\n",
      "sauna[T.1]                    0.1747      0.118      1.477      0.140      -0.058       0.407\n",
      "swimmingpool[T.1]             0.0211      0.182      0.116      0.908      -0.337       0.379\n",
      "kitchenEqipped[T.1]           0.0543      0.019      2.836      0.005       0.017       0.092\n",
      "cellar[T.1]                   0.0424      0.023      1.827      0.068      -0.003       0.088\n",
      "storageRoom[T.1]              0.0431      0.023      1.903      0.058      -0.001       0.088\n",
      "wheelchairAccessible[T.1]    -0.0794      0.063     -1.252      0.211      -0.204       0.045\n",
      "assistedLiving[T.1]           0.0219      0.084      0.262      0.793      -0.142       0.186\n",
      "parkingSlots[T.1]             0.0337      0.022      1.535      0.126      -0.009       0.077\n",
      "privateOutdoorSpace[T.1]     -0.0157      0.021     -0.735      0.463      -0.058       0.026\n",
      "chimney[T.1]                 -0.0581      0.067     -0.864      0.388      -0.190       0.074\n",
      "guestToilet[T.1]              0.0107      0.025      0.430      0.667      -0.038       0.060\n",
      "attics[T.1]                   0.0637      0.040      1.605      0.109      -0.014       0.142\n",
      "log_livingSpace               0.9695      0.027     35.608      0.000       0.916       1.023\n",
      "distanceToCenter             -0.0078      0.005     -1.610      0.108      -0.017       0.002\n",
      "constructionYear              0.0020      0.000      5.246      0.000       0.001       0.003\n",
      "==============================================================================\n",
      "Omnibus:                        5.495   Durbin-Watson:                   2.073\n",
      "Prob(Omnibus):                  0.064   Jarque-Bera (JB):                7.291\n",
      "Skew:                          -0.050   Prob(JB):                       0.0261\n",
      "Kurtosis:                       3.589   Cond. No.                     1.74e+05\n",
      "==============================================================================\n",
      "\n",
      "Notes:\n",
      "[1] Standard Errors assume that the covariance matrix of the errors is correctly specified.\n",
      "[2] The condition number is large, 1.74e+05. This might indicate that there are\n",
      "strong multicollinearity or other numerical problems.\n"
     ]
    }
   ],
   "source": [
    "import statsmodels.formula.api as smf\n",
    "\n",
    "# formula \n",
    "formula = 'np.log(price) ~ log_livingSpace + distanceToCenter + location + constructionYear + energyClass + elevator + sauna + swimmingpool + kitchenEqipped + cellar + storageRoom + wheelchairAccessible + assistedLiving + parkingSlots + privateOutdoorSpace + chimney + guestToilet + attics'\n",
    "\n",
    "# Fit \n",
    "model = smf.ols(formula=formula, data=df_train_price).fit()\n",
    "\n",
    "# summary\n",
    "print(model.summary())"
   ]
  },
  {
   "cell_type": "markdown",
   "id": "ea28fc05",
   "metadata": {},
   "source": [
    "elevator[T.1]: Der Koeffizient ist 0.0005 und der p-Wert ist 0.983. Das Vorhandensein eines Aufzugs hat keinen statistisch signifikanten Einfluss auf den logarithmierten Preis."
   ]
  },
  {
   "cell_type": "markdown",
   "id": "2d0297b7",
   "metadata": {},
   "source": [
    "#### Die Variable elevator wir im nächsten Modell nicht berücksichtigt"
   ]
  },
  {
   "cell_type": "code",
   "execution_count": null,
   "id": "be4afccf",
   "metadata": {},
   "outputs": [],
   "source": []
  }
 ],
 "metadata": {
  "kernelspec": {
   "display_name": "Python 3 (ipykernel)",
   "language": "python",
   "name": "python3"
  },
  "language_info": {
   "codemirror_mode": {
    "name": "ipython",
    "version": 3
   },
   "file_extension": ".py",
   "mimetype": "text/x-python",
   "name": "python",
   "nbconvert_exporter": "python",
   "pygments_lexer": "ipython3",
   "version": "3.10.12"
  }
 },
 "nbformat": 4,
 "nbformat_minor": 5
}
