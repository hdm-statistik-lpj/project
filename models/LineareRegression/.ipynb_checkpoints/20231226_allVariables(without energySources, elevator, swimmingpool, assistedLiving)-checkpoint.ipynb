{
 "cells": [
  {
   "cell_type": "markdown",
   "id": "9064260b",
   "metadata": {},
   "source": [
    "Basierend auf unserer fachlichen Expertise und der explorativen Datenanalyse (EDA) könnten folgende Variablen relevant sein, um den Preis einer Immobilie vorherzusagen:\n",
    "\n",
    "1. Standortbezogene Variablen\n",
    "   - distanceToCenter: Entfernung zum Zentrum\n",
    "   - northeast, northwest, southeast, southwest: Spezifische Standorte\n",
    "\n",
    "2. Grundlegende Eigenschaften\n",
    "   - constructionYear: Baujahr des Objekts\n",
    "   - livingSpace: Wohnfläche in Quadratmetern (auch log_livingspace wird berücksichtigt)\n",
    "   \n",
    "3. Energie und Nachhaltigkeit\n",
    "   - energyClass: Energieeffizienzklasse\n",
    "   - energySources: Energieträger des Objekts **(entfernt - statisch nicht signifikant)**\n",
    "\n",
    "4. Komfort und Ausstattung\n",
    "   - elevator: Vorhandensein eines Aufzugs\n",
    "   - sauna: Vorhandensein einer Sauna\n",
    "   - swimmingpool: Vorhandensein eines Swimmingpools\n",
    "   - kitchenEquipped: Ausgestattete Küche\n",
    "   - cellar: Vorhandensein eines Kellers\n",
    "   - storageRoom: Abstellraum\n",
    "\n",
    "5. Zugänglichkeit und zusätzliche Merkmale\n",
    "   - wheelchairAccessible: Barrierefreiheit\n",
    "   - assistedLiving: Betreutes Wohnen\n",
    "\n",
    "6. Außenbereich und Extras\n",
    "   - parkingSlots: Parkplätze\n",
    "   - privateOutdoorSpace: Privater Außenbereich\n",
    "   - chimney: Kamin\n",
    "   - cuestToilet: Gäste-WC\n",
    "   - attics: Wohnung im Dachgeschoss\n",
    "\n",
    "7. Zielvariable\n",
    "   - price und log_price: Preis des Objekts (Predictor)"
   ]
  },
  {
   "cell_type": "code",
   "execution_count": 1,
   "id": "ee6b959b",
   "metadata": {},
   "outputs": [],
   "source": [
    "import numpy as np\n",
    "import pandas as pd\n",
    "\n",
    "from scipy import stats\n",
    "import statsmodels.formula.api as smf\n",
    "import ast\n",
    "\n",
    "import matplotlib.pyplot as plt\n",
    "%matplotlib inline \n",
    "import seaborn as sns  \n",
    "\n",
    "# seaborn settings\n",
    "custom_params = {\"axes.spines.right\": False, \"axes.spines.top\": False}\n",
    "sns.set_theme(style=\"ticks\", rc=custom_params)\n",
    "\n",
    "import altair as alt\n",
    "import sklearn\n",
    "from sklearn.linear_model import LinearRegression\n",
    "from sklearn.metrics import mean_squared_error\n",
    "from sklearn.model_selection import train_test_split"
   ]
  },
  {
   "cell_type": "code",
   "execution_count": 2,
   "id": "50ba6e3d",
   "metadata": {},
   "outputs": [],
   "source": [
    "filePath = r'https://raw.githubusercontent.com/hdm-statistik-lpj/project/main/data/external/immobilienNuernberg_cleaned.csv'\n",
    "df = pd.read_csv(filePath)"
   ]
  },
  {
   "cell_type": "code",
   "execution_count": 3,
   "id": "bea13ade",
   "metadata": {},
   "outputs": [
    {
     "data": {
      "text/plain": [
       "Index(['location', 'Northeast', 'Northwest', 'Southeast', 'Southwest',\n",
       "       'energyEfficiency', 'price', 'constructionYear', 'livingSpace',\n",
       "       'energySources', 'photosCount', 'localAmenitiesScore',\n",
       "       'localMobilityScore', 'latitudeDistrict', 'longitudeDistrict',\n",
       "       'distanceToCenter', 'district', 'rooms', 'energyClass', 'elevator',\n",
       "       'sauna', 'swimmingpool', 'kitchenEqipped', 'cellar', 'storageRoom',\n",
       "       'wheelchairAccessible', 'assistedLiving', 'parkingSlots', 'guestToilet',\n",
       "       'privateOutdoorSpace', 'chimney', 'attics'],\n",
       "      dtype='object')"
      ]
     },
     "execution_count": 3,
     "metadata": {},
     "output_type": "execute_result"
    }
   ],
   "source": [
    "df.columns"
   ]
  },
  {
   "cell_type": "code",
   "execution_count": 4,
   "id": "6e97dd01",
   "metadata": {},
   "outputs": [],
   "source": [
    "# Nummerische Variablen\n",
    "df['constructionYear'] = df['constructionYear'].astype(int)\n",
    "df['livingSpace'] = df['livingSpace'].astype(float)\n",
    "df['photosCount'] = df['photosCount'].astype(int)\n",
    "df['localAmenitiesScore'] = df['localAmenitiesScore'].astype(float)\n",
    "df['localMobilityScore'] = df['localMobilityScore'].astype(float)\n",
    "df['latitudeDistrict'] = df['latitudeDistrict'].astype(float)\n",
    "df['longitudeDistrict'] = df['longitudeDistrict'].astype(float)\n",
    "df['distanceToCenter'] = df['distanceToCenter'].astype(float)\n",
    "df['price'] = df['price'].astype(float)\n",
    "df['rooms'] = df['rooms'].astype(float)\n",
    "\n",
    "# Kategorische Variablen\n",
    "df['district'] = df['district'].astype('category')\n",
    "df['location'] = df['location'].astype('category')\n",
    "df['energyClass'] = df['energyClass'].astype('category')\n",
    "df['energySources'] = df['energySources'].astype('category')\n",
    "\n",
    "# Binäre Variablen\n",
    "binaryColumns = ['elevator', 'sauna', 'swimmingpool', 'kitchenEqipped', \n",
    "                  'cellar', 'storageRoom', 'wheelchairAccessible', 'assistedLiving', \n",
    "                  'parkingSlots', 'guestToilet', 'privateOutdoorSpace', \n",
    "                  'chimney', 'attics', 'energyEfficiency', \n",
    "                  'Northeast', 'Northwest', 'Southeast', 'Southwest']\n",
    "\n",
    "for col in binaryColumns:\n",
    "    df[col] = df[col].astype('category')"
   ]
  },
  {
   "cell_type": "code",
   "execution_count": 5,
   "id": "8c308784",
   "metadata": {},
   "outputs": [],
   "source": [
    "# Modell 1: 'price' als abhängige Variable\n",
    "X_price = df.drop('price', axis=1)\n",
    "y_price = df['price']\n",
    "X_price['log_livingSpace'] = np.log(X_price['livingSpace'])"
   ]
  },
  {
   "cell_type": "code",
   "execution_count": 6,
   "id": "c37178ec",
   "metadata": {},
   "outputs": [],
   "source": [
    "# Aufteilen der Daten für das Modell mit 'price' als abhängige Variable\n",
    "X_train_price, X_test_price, y_train_price, y_test_price = train_test_split(\n",
    "    X_price, y_price, test_size=0.2, random_state=42, stratify=df['energyClass'])\n",
    "df_train_price = pd.concat([X_train_price, y_train_price], axis=1)\n",
    "df_test_price = pd.concat([X_test_price, y_test_price], axis=1)"
   ]
  },
  {
   "cell_type": "code",
   "execution_count": 7,
   "id": "e7b3ac58",
   "metadata": {
    "scrolled": true
   },
   "outputs": [
    {
     "name": "stdout",
     "output_type": "stream",
     "text": [
      "                            OLS Regression Results                            \n",
      "==============================================================================\n",
      "Dep. Variable:          np.log(price)   R-squared:                       0.852\n",
      "Model:                            OLS   Adj. R-squared:                  0.844\n",
      "Method:                 Least Squares   F-statistic:                     111.6\n",
      "Date:                Tue, 26 Dec 2023   Prob (F-statistic):          6.83e-176\n",
      "Time:                        15:12:47   Log-Likelihood:                 120.09\n",
      "No. Observations:                 490   AIC:                            -190.2\n",
      "Df Residuals:                     465   BIC:                            -85.32\n",
      "Df Model:                          24                                         \n",
      "Covariance Type:            nonrobust                                         \n",
      "=============================================================================================\n",
      "                                coef    std err          t      P>|t|      [0.025      0.975]\n",
      "---------------------------------------------------------------------------------------------\n",
      "Intercept                     4.7655      0.734      6.493      0.000       3.323       6.208\n",
      "location[T.2]                -0.0626      0.031     -2.029      0.043      -0.123      -0.002\n",
      "location[T.3]                -0.1531      0.027     -5.738      0.000      -0.206      -0.101\n",
      "location[T.4]                -0.1170      0.024     -4.787      0.000      -0.165      -0.069\n",
      "energyClass[T.2]             -0.0236      0.065     -0.366      0.715      -0.151       0.103\n",
      "energyClass[T.3]             -0.1331      0.049     -2.696      0.007      -0.230      -0.036\n",
      "energyClass[T.4]             -0.3870      0.049     -7.852      0.000      -0.484      -0.290\n",
      "energyClass[T.5]             -0.4148      0.048     -8.703      0.000      -0.508      -0.321\n",
      "energyClass[T.6]             -0.4141      0.051     -8.099      0.000      -0.515      -0.314\n",
      "energyClass[T.7]             -0.3991      0.057     -7.046      0.000      -0.510      -0.288\n",
      "energyClass[T.8]             -0.3471      0.071     -4.896      0.000      -0.486      -0.208\n",
      "energyClass[T.9]             -0.3662      0.148     -2.466      0.014      -0.658      -0.074\n",
      "sauna[T.1]                    0.1836      0.090      2.031      0.043       0.006       0.361\n",
      "kitchenEqipped[T.1]           0.0548      0.019      2.882      0.004       0.017       0.092\n",
      "cellar[T.1]                   0.0424      0.023      1.834      0.067      -0.003       0.088\n",
      "storageRoom[T.1]              0.0423      0.022      1.900      0.058      -0.001       0.086\n",
      "wheelchairAccessible[T.1]    -0.0770      0.062     -1.239      0.216      -0.199       0.045\n",
      "parkingSlots[T.1]             0.0332      0.022      1.532      0.126      -0.009       0.076\n",
      "privateOutdoorSpace[T.1]     -0.0155      0.021     -0.725      0.469      -0.057       0.026\n",
      "chimney[T.1]                 -0.0587      0.067     -0.877      0.381      -0.190       0.073\n",
      "guestToilet[T.1]              0.0103      0.025      0.418      0.677      -0.038       0.059\n",
      "attics[T.1]                   0.0632      0.039      1.601      0.110      -0.014       0.141\n",
      "log_livingSpace               0.9692      0.027     36.138      0.000       0.917       1.022\n",
      "distanceToCenter             -0.0078      0.005     -1.633      0.103      -0.017       0.002\n",
      "constructionYear              0.0020      0.000      5.658      0.000       0.001       0.003\n",
      "==============================================================================\n",
      "Omnibus:                        5.540   Durbin-Watson:                   2.071\n",
      "Prob(Omnibus):                  0.063   Jarque-Bera (JB):                7.340\n",
      "Skew:                          -0.055   Prob(JB):                       0.0255\n",
      "Kurtosis:                       3.589   Cond. No.                     1.66e+05\n",
      "==============================================================================\n",
      "\n",
      "Notes:\n",
      "[1] Standard Errors assume that the covariance matrix of the errors is correctly specified.\n",
      "[2] The condition number is large, 1.66e+05. This might indicate that there are\n",
      "strong multicollinearity or other numerical problems.\n"
     ]
    }
   ],
   "source": [
    "import statsmodels.formula.api as smf\n",
    "\n",
    "# formula \n",
    "formula = 'np.log(price) ~ log_livingSpace + distanceToCenter + location + constructionYear + energyClass + sauna + kitchenEqipped + cellar + storageRoom + wheelchairAccessible + parkingSlots + privateOutdoorSpace + chimney + guestToilet + attics'\n",
    "\n",
    "# Fit \n",
    "model = smf.ols(formula=formula, data=df_train_price).fit()\n",
    "\n",
    "# summary\n",
    "print(model.summary())"
   ]
  },
  {
   "cell_type": "markdown",
   "id": "ea28fc05",
   "metadata": {},
   "source": [
    "guestToilet[T.1]: Der Koeffizient ist 0.0103 und der p-Wert ist 0.677."
   ]
  },
  {
   "cell_type": "markdown",
   "id": "2d0297b7",
   "metadata": {},
   "source": [
    "#### Die Variable guestToilet wird im nächsten Modell nicht berücksichtigt"
   ]
  },
  {
   "cell_type": "code",
   "execution_count": null,
   "id": "573c43c9",
   "metadata": {},
   "outputs": [],
   "source": []
  }
 ],
 "metadata": {
  "kernelspec": {
   "display_name": "Python 3 (ipykernel)",
   "language": "python",
   "name": "python3"
  },
  "language_info": {
   "codemirror_mode": {
    "name": "ipython",
    "version": 3
   },
   "file_extension": ".py",
   "mimetype": "text/x-python",
   "name": "python",
   "nbconvert_exporter": "python",
   "pygments_lexer": "ipython3",
   "version": "3.10.12"
  }
 },
 "nbformat": 4,
 "nbformat_minor": 5
}
