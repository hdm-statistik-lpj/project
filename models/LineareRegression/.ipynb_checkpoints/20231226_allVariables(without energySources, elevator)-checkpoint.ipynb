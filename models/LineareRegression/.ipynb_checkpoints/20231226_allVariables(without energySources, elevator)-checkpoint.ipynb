{
 "cells": [
  {
   "cell_type": "markdown",
   "id": "9064260b",
   "metadata": {},
   "source": [
    "Basierend auf unserer fachlichen Expertise und der explorativen Datenanalyse (EDA) könnten folgende Variablen relevant sein, um den Preis einer Immobilie vorherzusagen:\n",
    "\n",
    "1. Standortbezogene Variablen\n",
    "   - distanceToCenter: Entfernung zum Zentrum\n",
    "   - northeast, northwest, southeast, southwest: Spezifische Standorte\n",
    "\n",
    "2. Grundlegende Eigenschaften\n",
    "   - constructionYear: Baujahr des Objekts\n",
    "   - livingSpace: Wohnfläche in Quadratmetern (auch log_livingspace wird berücksichtigt)\n",
    "   - rooms: Anzahl der Zimmer\n",
    "\n",
    "3. Energie und Nachhaltigkeit\n",
    "   - energyClass: Energieeffizienzklasse\n",
    "   - energySources: Energieträger des Objekts **(entfernt - statisch nicht signifikant)**\n",
    "\n",
    "4. Komfort und Ausstattung\n",
    "   - elevator: Vorhandensein eines Aufzugs\n",
    "   - sauna: Vorhandensein einer Sauna\n",
    "   - swimmingpool: Vorhandensein eines Swimmingpools\n",
    "   - kitchenEquipped: Ausgestattete Küche\n",
    "   - cellar: Vorhandensein eines Kellers\n",
    "   - storageRoom: Abstellraum\n",
    "\n",
    "5. Zugänglichkeit und zusätzliche Merkmale\n",
    "   - wheelchairAccessible: Barrierefreiheit\n",
    "   - assistedLiving: Betreutes Wohnen\n",
    "\n",
    "6. Außenbereich und Extras\n",
    "   - parkingSlots: Parkplätze\n",
    "   - privateOutdoorSpace: Privater Außenbereich\n",
    "   - chimney: Kamin\n",
    "   - cuestToilet: Gäste-WC\n",
    "   - attics: Wohnung im Dachgeschoss\n",
    "\n",
    "7. Zielvariable\n",
    "   - price und log_price: Preis des Objekts (Predictor)"
   ]
  },
  {
   "cell_type": "code",
   "execution_count": 1,
   "id": "ee6b959b",
   "metadata": {},
   "outputs": [],
   "source": [
    "import numpy as np\n",
    "import pandas as pd\n",
    "\n",
    "from scipy import stats\n",
    "import statsmodels.formula.api as smf\n",
    "import ast\n",
    "\n",
    "import matplotlib.pyplot as plt\n",
    "%matplotlib inline \n",
    "import seaborn as sns  \n",
    "\n",
    "# seaborn settings\n",
    "custom_params = {\"axes.spines.right\": False, \"axes.spines.top\": False}\n",
    "sns.set_theme(style=\"ticks\", rc=custom_params)\n",
    "\n",
    "import altair as alt\n",
    "import sklearn\n",
    "from sklearn.linear_model import LinearRegression\n",
    "from sklearn.metrics import mean_squared_error\n",
    "from sklearn.model_selection import train_test_split"
   ]
  },
  {
   "cell_type": "code",
   "execution_count": 2,
   "id": "50ba6e3d",
   "metadata": {},
   "outputs": [],
   "source": [
    "filePath = r'https://raw.githubusercontent.com/hdm-statistik-lpj/project/main/data/external/immobilienNuernberg_cleaned.csv'\n",
    "df = pd.read_csv(filePath)"
   ]
  },
  {
   "cell_type": "code",
   "execution_count": 3,
   "id": "bea13ade",
   "metadata": {},
   "outputs": [
    {
     "data": {
      "text/plain": [
       "Index(['location', 'Northeast', 'Northwest', 'Southeast', 'Southwest',\n",
       "       'energyEfficiency', 'price', 'constructionYear', 'livingSpace',\n",
       "       'energySources', 'photosCount', 'localAmenitiesScore',\n",
       "       'localMobilityScore', 'latitudeDistrict', 'longitudeDistrict',\n",
       "       'distanceToCenter', 'district', 'rooms', 'energyClass', 'elevator',\n",
       "       'sauna', 'swimmingpool', 'kitchenEqipped', 'cellar', 'storageRoom',\n",
       "       'wheelchairAccessible', 'assistedLiving', 'parkingSlots', 'guestToilet',\n",
       "       'privateOutdoorSpace', 'chimney', 'attics'],\n",
       "      dtype='object')"
      ]
     },
     "execution_count": 3,
     "metadata": {},
     "output_type": "execute_result"
    }
   ],
   "source": [
    "df.columns"
   ]
  },
  {
   "cell_type": "code",
   "execution_count": 4,
   "id": "6e97dd01",
   "metadata": {},
   "outputs": [],
   "source": [
    "# Nummerische Variablen\n",
    "df['constructionYear'] = df['constructionYear'].astype(int)\n",
    "df['livingSpace'] = df['livingSpace'].astype(float)\n",
    "df['photosCount'] = df['photosCount'].astype(int)\n",
    "df['localAmenitiesScore'] = df['localAmenitiesScore'].astype(float)\n",
    "df['localMobilityScore'] = df['localMobilityScore'].astype(float)\n",
    "df['latitudeDistrict'] = df['latitudeDistrict'].astype(float)\n",
    "df['longitudeDistrict'] = df['longitudeDistrict'].astype(float)\n",
    "df['distanceToCenter'] = df['distanceToCenter'].astype(float)\n",
    "df['price'] = df['price'].astype(float)\n",
    "df['rooms'] = df['rooms'].astype(float)\n",
    "\n",
    "# Kategorische Variablen\n",
    "df['district'] = df['district'].astype('category')\n",
    "df['location'] = df['location'].astype('category')\n",
    "df['energyClass'] = df['energyClass'].astype('category')\n",
    "df['energySources'] = df['energySources'].astype('category')\n",
    "\n",
    "# Binäre Variablen\n",
    "binaryColumns = ['elevator', 'sauna', 'swimmingpool', 'kitchenEqipped', \n",
    "                  'cellar', 'storageRoom', 'wheelchairAccessible', 'assistedLiving', \n",
    "                  'parkingSlots', 'guestToilet', 'privateOutdoorSpace', \n",
    "                  'chimney', 'attics', 'energyEfficiency', \n",
    "                  'Northeast', 'Northwest', 'Southeast', 'Southwest']\n",
    "\n",
    "for col in binaryColumns:\n",
    "    df[col] = df[col].astype('category')"
   ]
  },
  {
   "cell_type": "code",
   "execution_count": 5,
   "id": "8c308784",
   "metadata": {},
   "outputs": [],
   "source": [
    "# Modell 1: 'price' als abhängige Variable\n",
    "X_price = df.drop('price', axis=1)\n",
    "y_price = df['price']\n",
    "X_price['log_livingSpace'] = np.log(X_price['livingSpace'])"
   ]
  },
  {
   "cell_type": "code",
   "execution_count": 6,
   "id": "c37178ec",
   "metadata": {},
   "outputs": [],
   "source": [
    "# Aufteilen der Daten für das Modell mit 'price' als abhängige Variable\n",
    "X_train_price, X_test_price, y_train_price, y_test_price = train_test_split(\n",
    "    X_price, y_price, test_size=0.2, random_state=42, stratify=df['energyClass'])\n",
    "df_train_price = pd.concat([X_train_price, y_train_price], axis=1)\n",
    "df_test_price = pd.concat([X_test_price, y_test_price], axis=1)"
   ]
  },
  {
   "cell_type": "code",
   "execution_count": 7,
   "id": "e7b3ac58",
   "metadata": {
    "scrolled": true
   },
   "outputs": [
    {
     "name": "stdout",
     "output_type": "stream",
     "text": [
      "                            OLS Regression Results                            \n",
      "==============================================================================\n",
      "Dep. Variable:          np.log(price)   R-squared:                       0.852\n",
      "Model:                            OLS   Adj. R-squared:                  0.844\n",
      "Method:                 Least Squares   F-statistic:                     98.62\n",
      "Date:                Tue, 26 Dec 2023   Prob (F-statistic):          6.84e-173\n",
      "Time:                        14:49:19   Log-Likelihood:                 120.23\n",
      "No. Observations:                 490   AIC:                            -184.5\n",
      "Df Residuals:                     462   BIC:                            -67.02\n",
      "Df Model:                          27                                         \n",
      "Covariance Type:            nonrobust                                         \n",
      "=============================================================================================\n",
      "                                coef    std err          t      P>|t|      [0.025      0.975]\n",
      "---------------------------------------------------------------------------------------------\n",
      "Intercept                     4.8089      0.741      6.491      0.000       3.353       6.265\n",
      "location[T.2]                -0.0620      0.031     -2.002      0.046      -0.123      -0.001\n",
      "location[T.3]                -0.1525      0.027     -5.672      0.000      -0.205      -0.100\n",
      "location[T.4]                -0.1166      0.025     -4.734      0.000      -0.165      -0.068\n",
      "energyClass[T.2]             -0.0227      0.065     -0.348      0.728      -0.151       0.105\n",
      "energyClass[T.3]             -0.1325      0.050     -2.673      0.008      -0.230      -0.035\n",
      "energyClass[T.4]             -0.3870      0.050     -7.816      0.000      -0.484      -0.290\n",
      "energyClass[T.5]             -0.4149      0.048     -8.680      0.000      -0.509      -0.321\n",
      "energyClass[T.6]             -0.4133      0.051     -8.056      0.000      -0.514      -0.312\n",
      "energyClass[T.7]             -0.3993      0.057     -7.027      0.000      -0.511      -0.288\n",
      "energyClass[T.8]             -0.3486      0.071     -4.893      0.000      -0.489      -0.209\n",
      "energyClass[T.9]             -0.3682      0.149     -2.471      0.014      -0.661      -0.075\n",
      "sauna[T.1]                    0.1802      0.119      1.516      0.130      -0.053       0.414\n",
      "swimmingpool[T.1]             0.0213      0.182      0.117      0.907      -0.337       0.380\n",
      "kitchenEqipped[T.1]           0.0541      0.019      2.822      0.005       0.016       0.092\n",
      "cellar[T.1]                   0.0428      0.023      1.843      0.066      -0.003       0.088\n",
      "storageRoom[T.1]              0.0434      0.023      1.922      0.055      -0.001       0.088\n",
      "wheelchairAccessible[T.1]    -0.0797      0.063     -1.265      0.207      -0.203       0.044\n",
      "assistedLiving[T.1]           0.0222      0.083      0.266      0.790      -0.142       0.186\n",
      "parkingSlots[T.1]             0.0335      0.022      1.537      0.125      -0.009       0.076\n",
      "privateOutdoorSpace[T.1]     -0.0148      0.022     -0.687      0.493      -0.057       0.028\n",
      "chimney[T.1]                 -0.0571      0.067     -0.851      0.395      -0.189       0.075\n",
      "guestToilet[T.1]              0.0114      0.025      0.456      0.649      -0.038       0.060\n",
      "attics[T.1]                   0.0644      0.040      1.622      0.106      -0.014       0.142\n",
      "log_livingSpace               0.9558      0.042     22.931      0.000       0.874       1.038\n",
      "distanceToCenter             -0.0077      0.005     -1.600      0.110      -0.017       0.002\n",
      "constructionYear              0.0020      0.000      5.612      0.000       0.001       0.003\n",
      "rooms                         0.0047      0.011      0.433      0.665      -0.017       0.026\n",
      "==============================================================================\n",
      "Omnibus:                        5.272   Durbin-Watson:                   2.072\n",
      "Prob(Omnibus):                  0.072   Jarque-Bera (JB):                6.931\n",
      "Skew:                          -0.044   Prob(JB):                       0.0313\n",
      "Kurtosis:                       3.576   Cond. No.                     1.67e+05\n",
      "==============================================================================\n",
      "\n",
      "Notes:\n",
      "[1] Standard Errors assume that the covariance matrix of the errors is correctly specified.\n",
      "[2] The condition number is large, 1.67e+05. This might indicate that there are\n",
      "strong multicollinearity or other numerical problems.\n"
     ]
    }
   ],
   "source": [
    "import statsmodels.formula.api as smf\n",
    "\n",
    "# formula \n",
    "formula = 'np.log(price) ~ log_livingSpace + distanceToCenter + location + constructionYear + rooms + energyClass + sauna + swimmingpool + kitchenEqipped + cellar + storageRoom + wheelchairAccessible + assistedLiving + parkingSlots + privateOutdoorSpace + chimney + guestToilet + attics'\n",
    "\n",
    "# Fit \n",
    "model = smf.ols(formula=formula, data=df_train_price).fit()\n",
    "\n",
    "# summary\n",
    "print(model.summary())"
   ]
  },
  {
   "cell_type": "markdown",
   "id": "ea28fc05",
   "metadata": {},
   "source": [
    "swimmingpool[T.1]: Der Koeffizient ist 0.0213 und der p-Wert ist 0.907."
   ]
  },
  {
   "cell_type": "markdown",
   "id": "2d0297b7",
   "metadata": {},
   "source": [
    "#### Die Variable swimmingpool wir im nächsten Modell nicht berücksichtigt"
   ]
  },
  {
   "cell_type": "code",
   "execution_count": null,
   "id": "147982a2",
   "metadata": {},
   "outputs": [],
   "source": []
  }
 ],
 "metadata": {
  "kernelspec": {
   "display_name": "Python 3 (ipykernel)",
   "language": "python",
   "name": "python3"
  },
  "language_info": {
   "codemirror_mode": {
    "name": "ipython",
    "version": 3
   },
   "file_extension": ".py",
   "mimetype": "text/x-python",
   "name": "python",
   "nbconvert_exporter": "python",
   "pygments_lexer": "ipython3",
   "version": "3.10.12"
  }
 },
 "nbformat": 4,
 "nbformat_minor": 5
}
